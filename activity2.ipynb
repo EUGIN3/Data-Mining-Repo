{
 "cells": [
  {
   "cell_type": "markdown",
   "id": "5786afe3-9a91-497d-8adf-15c28ca251ff",
   "metadata": {},
   "source": [
    "<h1>Importing Libraries</h1>"
   ]
  },
  {
   "cell_type": "code",
   "execution_count": 1,
   "id": "5d5b53ff-9b57-4f2e-8c7a-7373801f8ec3",
   "metadata": {},
   "outputs": [],
   "source": [
    "import numpy as np\n",
    "import pandas as pd\n",
    "import matplotlib.pyplot as plt\n",
    "import seaborn as sns"
   ]
  },
  {
   "cell_type": "markdown",
   "id": "e1ab9d31-ac62-45b8-be9b-5eb618db278b",
   "metadata": {},
   "source": [
    "<h1>Importing Dataset</h1>"
   ]
  },
  {
   "cell_type": "code",
   "execution_count": 2,
   "id": "cd2eae2d-62e7-4ea2-a5a9-aebc64dc5864",
   "metadata": {},
   "outputs": [],
   "source": [
    "ibon = pd.read_csv('dataset\\\\penguins.csv')"
   ]
  },
  {
   "cell_type": "markdown",
   "id": "8a9303e5-58c9-49ea-835e-26a1ff78cb91",
   "metadata": {},
   "source": [
    "<h1>Basic Checking</h1>"
   ]
  },
  {
   "cell_type": "code",
   "execution_count": 3,
   "id": "9b3fcb02-24e7-4673-a7af-39df3728bfa3",
   "metadata": {},
   "outputs": [
    {
     "data": {
      "text/html": [
       "<div>\n",
       "<style scoped>\n",
       "    .dataframe tbody tr th:only-of-type {\n",
       "        vertical-align: middle;\n",
       "    }\n",
       "\n",
       "    .dataframe tbody tr th {\n",
       "        vertical-align: top;\n",
       "    }\n",
       "\n",
       "    .dataframe thead th {\n",
       "        text-align: right;\n",
       "    }\n",
       "</style>\n",
       "<table border=\"1\" class=\"dataframe\">\n",
       "  <thead>\n",
       "    <tr style=\"text-align: right;\">\n",
       "      <th></th>\n",
       "      <th>rowid</th>\n",
       "      <th>species</th>\n",
       "      <th>island</th>\n",
       "      <th>bill_length_mm</th>\n",
       "      <th>bill_depth_mm</th>\n",
       "      <th>flipper_length_mm</th>\n",
       "      <th>body_mass_g</th>\n",
       "      <th>sex</th>\n",
       "      <th>year</th>\n",
       "    </tr>\n",
       "  </thead>\n",
       "  <tbody>\n",
       "    <tr>\n",
       "      <th>0</th>\n",
       "      <td>1</td>\n",
       "      <td>Adelie</td>\n",
       "      <td>Torgersen</td>\n",
       "      <td>39.1</td>\n",
       "      <td>18.7</td>\n",
       "      <td>181.0</td>\n",
       "      <td>3750.0</td>\n",
       "      <td>male</td>\n",
       "      <td>2007</td>\n",
       "    </tr>\n",
       "    <tr>\n",
       "      <th>1</th>\n",
       "      <td>2</td>\n",
       "      <td>Adelie</td>\n",
       "      <td>Torgersen</td>\n",
       "      <td>39.5</td>\n",
       "      <td>17.4</td>\n",
       "      <td>186.0</td>\n",
       "      <td>3800.0</td>\n",
       "      <td>female</td>\n",
       "      <td>2007</td>\n",
       "    </tr>\n",
       "    <tr>\n",
       "      <th>2</th>\n",
       "      <td>3</td>\n",
       "      <td>Adelie</td>\n",
       "      <td>Torgersen</td>\n",
       "      <td>40.3</td>\n",
       "      <td>18.0</td>\n",
       "      <td>195.0</td>\n",
       "      <td>3250.0</td>\n",
       "      <td>female</td>\n",
       "      <td>2007</td>\n",
       "    </tr>\n",
       "    <tr>\n",
       "      <th>3</th>\n",
       "      <td>4</td>\n",
       "      <td>Adelie</td>\n",
       "      <td>Torgersen</td>\n",
       "      <td>NaN</td>\n",
       "      <td>NaN</td>\n",
       "      <td>NaN</td>\n",
       "      <td>NaN</td>\n",
       "      <td>NaN</td>\n",
       "      <td>2007</td>\n",
       "    </tr>\n",
       "    <tr>\n",
       "      <th>4</th>\n",
       "      <td>5</td>\n",
       "      <td>Adelie</td>\n",
       "      <td>Torgersen</td>\n",
       "      <td>36.7</td>\n",
       "      <td>19.3</td>\n",
       "      <td>193.0</td>\n",
       "      <td>3450.0</td>\n",
       "      <td>female</td>\n",
       "      <td>2007</td>\n",
       "    </tr>\n",
       "    <tr>\n",
       "      <th>...</th>\n",
       "      <td>...</td>\n",
       "      <td>...</td>\n",
       "      <td>...</td>\n",
       "      <td>...</td>\n",
       "      <td>...</td>\n",
       "      <td>...</td>\n",
       "      <td>...</td>\n",
       "      <td>...</td>\n",
       "      <td>...</td>\n",
       "    </tr>\n",
       "    <tr>\n",
       "      <th>339</th>\n",
       "      <td>340</td>\n",
       "      <td>Chinstrap</td>\n",
       "      <td>Dream</td>\n",
       "      <td>55.8</td>\n",
       "      <td>19.8</td>\n",
       "      <td>207.0</td>\n",
       "      <td>4000.0</td>\n",
       "      <td>male</td>\n",
       "      <td>2009</td>\n",
       "    </tr>\n",
       "    <tr>\n",
       "      <th>340</th>\n",
       "      <td>341</td>\n",
       "      <td>Chinstrap</td>\n",
       "      <td>Dream</td>\n",
       "      <td>43.5</td>\n",
       "      <td>18.1</td>\n",
       "      <td>202.0</td>\n",
       "      <td>3400.0</td>\n",
       "      <td>female</td>\n",
       "      <td>2009</td>\n",
       "    </tr>\n",
       "    <tr>\n",
       "      <th>341</th>\n",
       "      <td>342</td>\n",
       "      <td>Chinstrap</td>\n",
       "      <td>Dream</td>\n",
       "      <td>49.6</td>\n",
       "      <td>18.2</td>\n",
       "      <td>193.0</td>\n",
       "      <td>3775.0</td>\n",
       "      <td>male</td>\n",
       "      <td>2009</td>\n",
       "    </tr>\n",
       "    <tr>\n",
       "      <th>342</th>\n",
       "      <td>343</td>\n",
       "      <td>Chinstrap</td>\n",
       "      <td>Dream</td>\n",
       "      <td>50.8</td>\n",
       "      <td>19.0</td>\n",
       "      <td>210.0</td>\n",
       "      <td>4100.0</td>\n",
       "      <td>male</td>\n",
       "      <td>2009</td>\n",
       "    </tr>\n",
       "    <tr>\n",
       "      <th>343</th>\n",
       "      <td>344</td>\n",
       "      <td>Chinstrap</td>\n",
       "      <td>Dream</td>\n",
       "      <td>50.2</td>\n",
       "      <td>18.7</td>\n",
       "      <td>198.0</td>\n",
       "      <td>3775.0</td>\n",
       "      <td>female</td>\n",
       "      <td>2009</td>\n",
       "    </tr>\n",
       "  </tbody>\n",
       "</table>\n",
       "<p>344 rows × 9 columns</p>\n",
       "</div>"
      ],
      "text/plain": [
       "     rowid    species     island  bill_length_mm  bill_depth_mm  \\\n",
       "0        1     Adelie  Torgersen            39.1           18.7   \n",
       "1        2     Adelie  Torgersen            39.5           17.4   \n",
       "2        3     Adelie  Torgersen            40.3           18.0   \n",
       "3        4     Adelie  Torgersen             NaN            NaN   \n",
       "4        5     Adelie  Torgersen            36.7           19.3   \n",
       "..     ...        ...        ...             ...            ...   \n",
       "339    340  Chinstrap      Dream            55.8           19.8   \n",
       "340    341  Chinstrap      Dream            43.5           18.1   \n",
       "341    342  Chinstrap      Dream            49.6           18.2   \n",
       "342    343  Chinstrap      Dream            50.8           19.0   \n",
       "343    344  Chinstrap      Dream            50.2           18.7   \n",
       "\n",
       "     flipper_length_mm  body_mass_g     sex  year  \n",
       "0                181.0       3750.0    male  2007  \n",
       "1                186.0       3800.0  female  2007  \n",
       "2                195.0       3250.0  female  2007  \n",
       "3                  NaN          NaN     NaN  2007  \n",
       "4                193.0       3450.0  female  2007  \n",
       "..                 ...          ...     ...   ...  \n",
       "339              207.0       4000.0    male  2009  \n",
       "340              202.0       3400.0  female  2009  \n",
       "341              193.0       3775.0    male  2009  \n",
       "342              210.0       4100.0    male  2009  \n",
       "343              198.0       3775.0  female  2009  \n",
       "\n",
       "[344 rows x 9 columns]"
      ]
     },
     "execution_count": 3,
     "metadata": {},
     "output_type": "execute_result"
    }
   ],
   "source": [
    "ibon"
   ]
  },
  {
   "cell_type": "markdown",
   "id": "e3d83d78-51f4-4203-8167-a7661a6e6c64",
   "metadata": {},
   "source": [
    "<h1>Creating new column.</h1>"
   ]
  },
  {
   "cell_type": "code",
   "execution_count": 4,
   "id": "a1ba796c-8d64-4de6-9f79-ae5c02df3281",
   "metadata": {},
   "outputs": [],
   "source": [
    "ibon['weight_kg'] = ibon['body_mass_g'] / 1000"
   ]
  },
  {
   "cell_type": "code",
   "execution_count": 5,
   "id": "1f1c7f48-a22f-472b-9d78-f1478eed6b81",
   "metadata": {},
   "outputs": [
    {
     "data": {
      "text/html": [
       "<div>\n",
       "<style scoped>\n",
       "    .dataframe tbody tr th:only-of-type {\n",
       "        vertical-align: middle;\n",
       "    }\n",
       "\n",
       "    .dataframe tbody tr th {\n",
       "        vertical-align: top;\n",
       "    }\n",
       "\n",
       "    .dataframe thead th {\n",
       "        text-align: right;\n",
       "    }\n",
       "</style>\n",
       "<table border=\"1\" class=\"dataframe\">\n",
       "  <thead>\n",
       "    <tr style=\"text-align: right;\">\n",
       "      <th></th>\n",
       "      <th>rowid</th>\n",
       "      <th>species</th>\n",
       "      <th>island</th>\n",
       "      <th>bill_length_mm</th>\n",
       "      <th>bill_depth_mm</th>\n",
       "      <th>flipper_length_mm</th>\n",
       "      <th>body_mass_g</th>\n",
       "      <th>sex</th>\n",
       "      <th>year</th>\n",
       "      <th>weight_kg</th>\n",
       "    </tr>\n",
       "  </thead>\n",
       "  <tbody>\n",
       "    <tr>\n",
       "      <th>0</th>\n",
       "      <td>1</td>\n",
       "      <td>Adelie</td>\n",
       "      <td>Torgersen</td>\n",
       "      <td>39.1</td>\n",
       "      <td>18.7</td>\n",
       "      <td>181.0</td>\n",
       "      <td>3750.0</td>\n",
       "      <td>male</td>\n",
       "      <td>2007</td>\n",
       "      <td>3.750</td>\n",
       "    </tr>\n",
       "    <tr>\n",
       "      <th>1</th>\n",
       "      <td>2</td>\n",
       "      <td>Adelie</td>\n",
       "      <td>Torgersen</td>\n",
       "      <td>39.5</td>\n",
       "      <td>17.4</td>\n",
       "      <td>186.0</td>\n",
       "      <td>3800.0</td>\n",
       "      <td>female</td>\n",
       "      <td>2007</td>\n",
       "      <td>3.800</td>\n",
       "    </tr>\n",
       "    <tr>\n",
       "      <th>2</th>\n",
       "      <td>3</td>\n",
       "      <td>Adelie</td>\n",
       "      <td>Torgersen</td>\n",
       "      <td>40.3</td>\n",
       "      <td>18.0</td>\n",
       "      <td>195.0</td>\n",
       "      <td>3250.0</td>\n",
       "      <td>female</td>\n",
       "      <td>2007</td>\n",
       "      <td>3.250</td>\n",
       "    </tr>\n",
       "    <tr>\n",
       "      <th>3</th>\n",
       "      <td>4</td>\n",
       "      <td>Adelie</td>\n",
       "      <td>Torgersen</td>\n",
       "      <td>NaN</td>\n",
       "      <td>NaN</td>\n",
       "      <td>NaN</td>\n",
       "      <td>NaN</td>\n",
       "      <td>NaN</td>\n",
       "      <td>2007</td>\n",
       "      <td>NaN</td>\n",
       "    </tr>\n",
       "    <tr>\n",
       "      <th>4</th>\n",
       "      <td>5</td>\n",
       "      <td>Adelie</td>\n",
       "      <td>Torgersen</td>\n",
       "      <td>36.7</td>\n",
       "      <td>19.3</td>\n",
       "      <td>193.0</td>\n",
       "      <td>3450.0</td>\n",
       "      <td>female</td>\n",
       "      <td>2007</td>\n",
       "      <td>3.450</td>\n",
       "    </tr>\n",
       "    <tr>\n",
       "      <th>...</th>\n",
       "      <td>...</td>\n",
       "      <td>...</td>\n",
       "      <td>...</td>\n",
       "      <td>...</td>\n",
       "      <td>...</td>\n",
       "      <td>...</td>\n",
       "      <td>...</td>\n",
       "      <td>...</td>\n",
       "      <td>...</td>\n",
       "      <td>...</td>\n",
       "    </tr>\n",
       "    <tr>\n",
       "      <th>339</th>\n",
       "      <td>340</td>\n",
       "      <td>Chinstrap</td>\n",
       "      <td>Dream</td>\n",
       "      <td>55.8</td>\n",
       "      <td>19.8</td>\n",
       "      <td>207.0</td>\n",
       "      <td>4000.0</td>\n",
       "      <td>male</td>\n",
       "      <td>2009</td>\n",
       "      <td>4.000</td>\n",
       "    </tr>\n",
       "    <tr>\n",
       "      <th>340</th>\n",
       "      <td>341</td>\n",
       "      <td>Chinstrap</td>\n",
       "      <td>Dream</td>\n",
       "      <td>43.5</td>\n",
       "      <td>18.1</td>\n",
       "      <td>202.0</td>\n",
       "      <td>3400.0</td>\n",
       "      <td>female</td>\n",
       "      <td>2009</td>\n",
       "      <td>3.400</td>\n",
       "    </tr>\n",
       "    <tr>\n",
       "      <th>341</th>\n",
       "      <td>342</td>\n",
       "      <td>Chinstrap</td>\n",
       "      <td>Dream</td>\n",
       "      <td>49.6</td>\n",
       "      <td>18.2</td>\n",
       "      <td>193.0</td>\n",
       "      <td>3775.0</td>\n",
       "      <td>male</td>\n",
       "      <td>2009</td>\n",
       "      <td>3.775</td>\n",
       "    </tr>\n",
       "    <tr>\n",
       "      <th>342</th>\n",
       "      <td>343</td>\n",
       "      <td>Chinstrap</td>\n",
       "      <td>Dream</td>\n",
       "      <td>50.8</td>\n",
       "      <td>19.0</td>\n",
       "      <td>210.0</td>\n",
       "      <td>4100.0</td>\n",
       "      <td>male</td>\n",
       "      <td>2009</td>\n",
       "      <td>4.100</td>\n",
       "    </tr>\n",
       "    <tr>\n",
       "      <th>343</th>\n",
       "      <td>344</td>\n",
       "      <td>Chinstrap</td>\n",
       "      <td>Dream</td>\n",
       "      <td>50.2</td>\n",
       "      <td>18.7</td>\n",
       "      <td>198.0</td>\n",
       "      <td>3775.0</td>\n",
       "      <td>female</td>\n",
       "      <td>2009</td>\n",
       "      <td>3.775</td>\n",
       "    </tr>\n",
       "  </tbody>\n",
       "</table>\n",
       "<p>344 rows × 10 columns</p>\n",
       "</div>"
      ],
      "text/plain": [
       "     rowid    species     island  bill_length_mm  bill_depth_mm  \\\n",
       "0        1     Adelie  Torgersen            39.1           18.7   \n",
       "1        2     Adelie  Torgersen            39.5           17.4   \n",
       "2        3     Adelie  Torgersen            40.3           18.0   \n",
       "3        4     Adelie  Torgersen             NaN            NaN   \n",
       "4        5     Adelie  Torgersen            36.7           19.3   \n",
       "..     ...        ...        ...             ...            ...   \n",
       "339    340  Chinstrap      Dream            55.8           19.8   \n",
       "340    341  Chinstrap      Dream            43.5           18.1   \n",
       "341    342  Chinstrap      Dream            49.6           18.2   \n",
       "342    343  Chinstrap      Dream            50.8           19.0   \n",
       "343    344  Chinstrap      Dream            50.2           18.7   \n",
       "\n",
       "     flipper_length_mm  body_mass_g     sex  year  weight_kg  \n",
       "0                181.0       3750.0    male  2007      3.750  \n",
       "1                186.0       3800.0  female  2007      3.800  \n",
       "2                195.0       3250.0  female  2007      3.250  \n",
       "3                  NaN          NaN     NaN  2007        NaN  \n",
       "4                193.0       3450.0  female  2007      3.450  \n",
       "..                 ...          ...     ...   ...        ...  \n",
       "339              207.0       4000.0    male  2009      4.000  \n",
       "340              202.0       3400.0  female  2009      3.400  \n",
       "341              193.0       3775.0    male  2009      3.775  \n",
       "342              210.0       4100.0    male  2009      4.100  \n",
       "343              198.0       3775.0  female  2009      3.775  \n",
       "\n",
       "[344 rows x 10 columns]"
      ]
     },
     "execution_count": 5,
     "metadata": {},
     "output_type": "execute_result"
    }
   ],
   "source": [
    "ibon"
   ]
  },
  {
   "cell_type": "code",
   "execution_count": 6,
   "id": "88fc4c76-b239-45d2-aef7-86f055d083c9",
   "metadata": {},
   "outputs": [],
   "source": [
    "#Rounding the value a table using the np.round(float, decimal_places) fucntion"
   ]
  },
  {
   "cell_type": "code",
   "execution_count": 7,
   "id": "c620cb76-ff55-40b9-adec-f9eb922e40e8",
   "metadata": {},
   "outputs": [
    {
     "data": {
      "text/html": [
       "<div>\n",
       "<style scoped>\n",
       "    .dataframe tbody tr th:only-of-type {\n",
       "        vertical-align: middle;\n",
       "    }\n",
       "\n",
       "    .dataframe tbody tr th {\n",
       "        vertical-align: top;\n",
       "    }\n",
       "\n",
       "    .dataframe thead th {\n",
       "        text-align: right;\n",
       "    }\n",
       "</style>\n",
       "<table border=\"1\" class=\"dataframe\">\n",
       "  <thead>\n",
       "    <tr style=\"text-align: right;\">\n",
       "      <th></th>\n",
       "      <th>rowid</th>\n",
       "      <th>species</th>\n",
       "      <th>island</th>\n",
       "      <th>bill_length_mm</th>\n",
       "      <th>bill_depth_mm</th>\n",
       "      <th>flipper_length_mm</th>\n",
       "      <th>body_mass_g</th>\n",
       "      <th>sex</th>\n",
       "      <th>year</th>\n",
       "      <th>weight_kg</th>\n",
       "    </tr>\n",
       "  </thead>\n",
       "  <tbody>\n",
       "    <tr>\n",
       "      <th>0</th>\n",
       "      <td>1</td>\n",
       "      <td>Adelie</td>\n",
       "      <td>Torgersen</td>\n",
       "      <td>39.1</td>\n",
       "      <td>18.7</td>\n",
       "      <td>181.0</td>\n",
       "      <td>3750.0</td>\n",
       "      <td>male</td>\n",
       "      <td>2007</td>\n",
       "      <td>3.8</td>\n",
       "    </tr>\n",
       "    <tr>\n",
       "      <th>1</th>\n",
       "      <td>2</td>\n",
       "      <td>Adelie</td>\n",
       "      <td>Torgersen</td>\n",
       "      <td>39.5</td>\n",
       "      <td>17.4</td>\n",
       "      <td>186.0</td>\n",
       "      <td>3800.0</td>\n",
       "      <td>female</td>\n",
       "      <td>2007</td>\n",
       "      <td>3.8</td>\n",
       "    </tr>\n",
       "    <tr>\n",
       "      <th>2</th>\n",
       "      <td>3</td>\n",
       "      <td>Adelie</td>\n",
       "      <td>Torgersen</td>\n",
       "      <td>40.3</td>\n",
       "      <td>18.0</td>\n",
       "      <td>195.0</td>\n",
       "      <td>3250.0</td>\n",
       "      <td>female</td>\n",
       "      <td>2007</td>\n",
       "      <td>3.2</td>\n",
       "    </tr>\n",
       "    <tr>\n",
       "      <th>3</th>\n",
       "      <td>4</td>\n",
       "      <td>Adelie</td>\n",
       "      <td>Torgersen</td>\n",
       "      <td>NaN</td>\n",
       "      <td>NaN</td>\n",
       "      <td>NaN</td>\n",
       "      <td>NaN</td>\n",
       "      <td>NaN</td>\n",
       "      <td>2007</td>\n",
       "      <td>NaN</td>\n",
       "    </tr>\n",
       "    <tr>\n",
       "      <th>4</th>\n",
       "      <td>5</td>\n",
       "      <td>Adelie</td>\n",
       "      <td>Torgersen</td>\n",
       "      <td>36.7</td>\n",
       "      <td>19.3</td>\n",
       "      <td>193.0</td>\n",
       "      <td>3450.0</td>\n",
       "      <td>female</td>\n",
       "      <td>2007</td>\n",
       "      <td>3.4</td>\n",
       "    </tr>\n",
       "    <tr>\n",
       "      <th>...</th>\n",
       "      <td>...</td>\n",
       "      <td>...</td>\n",
       "      <td>...</td>\n",
       "      <td>...</td>\n",
       "      <td>...</td>\n",
       "      <td>...</td>\n",
       "      <td>...</td>\n",
       "      <td>...</td>\n",
       "      <td>...</td>\n",
       "      <td>...</td>\n",
       "    </tr>\n",
       "    <tr>\n",
       "      <th>339</th>\n",
       "      <td>340</td>\n",
       "      <td>Chinstrap</td>\n",
       "      <td>Dream</td>\n",
       "      <td>55.8</td>\n",
       "      <td>19.8</td>\n",
       "      <td>207.0</td>\n",
       "      <td>4000.0</td>\n",
       "      <td>male</td>\n",
       "      <td>2009</td>\n",
       "      <td>4.0</td>\n",
       "    </tr>\n",
       "    <tr>\n",
       "      <th>340</th>\n",
       "      <td>341</td>\n",
       "      <td>Chinstrap</td>\n",
       "      <td>Dream</td>\n",
       "      <td>43.5</td>\n",
       "      <td>18.1</td>\n",
       "      <td>202.0</td>\n",
       "      <td>3400.0</td>\n",
       "      <td>female</td>\n",
       "      <td>2009</td>\n",
       "      <td>3.4</td>\n",
       "    </tr>\n",
       "    <tr>\n",
       "      <th>341</th>\n",
       "      <td>342</td>\n",
       "      <td>Chinstrap</td>\n",
       "      <td>Dream</td>\n",
       "      <td>49.6</td>\n",
       "      <td>18.2</td>\n",
       "      <td>193.0</td>\n",
       "      <td>3775.0</td>\n",
       "      <td>male</td>\n",
       "      <td>2009</td>\n",
       "      <td>3.8</td>\n",
       "    </tr>\n",
       "    <tr>\n",
       "      <th>342</th>\n",
       "      <td>343</td>\n",
       "      <td>Chinstrap</td>\n",
       "      <td>Dream</td>\n",
       "      <td>50.8</td>\n",
       "      <td>19.0</td>\n",
       "      <td>210.0</td>\n",
       "      <td>4100.0</td>\n",
       "      <td>male</td>\n",
       "      <td>2009</td>\n",
       "      <td>4.1</td>\n",
       "    </tr>\n",
       "    <tr>\n",
       "      <th>343</th>\n",
       "      <td>344</td>\n",
       "      <td>Chinstrap</td>\n",
       "      <td>Dream</td>\n",
       "      <td>50.2</td>\n",
       "      <td>18.7</td>\n",
       "      <td>198.0</td>\n",
       "      <td>3775.0</td>\n",
       "      <td>female</td>\n",
       "      <td>2009</td>\n",
       "      <td>3.8</td>\n",
       "    </tr>\n",
       "  </tbody>\n",
       "</table>\n",
       "<p>344 rows × 10 columns</p>\n",
       "</div>"
      ],
      "text/plain": [
       "     rowid    species     island  bill_length_mm  bill_depth_mm  \\\n",
       "0        1     Adelie  Torgersen            39.1           18.7   \n",
       "1        2     Adelie  Torgersen            39.5           17.4   \n",
       "2        3     Adelie  Torgersen            40.3           18.0   \n",
       "3        4     Adelie  Torgersen             NaN            NaN   \n",
       "4        5     Adelie  Torgersen            36.7           19.3   \n",
       "..     ...        ...        ...             ...            ...   \n",
       "339    340  Chinstrap      Dream            55.8           19.8   \n",
       "340    341  Chinstrap      Dream            43.5           18.1   \n",
       "341    342  Chinstrap      Dream            49.6           18.2   \n",
       "342    343  Chinstrap      Dream            50.8           19.0   \n",
       "343    344  Chinstrap      Dream            50.2           18.7   \n",
       "\n",
       "     flipper_length_mm  body_mass_g     sex  year  weight_kg  \n",
       "0                181.0       3750.0    male  2007        3.8  \n",
       "1                186.0       3800.0  female  2007        3.8  \n",
       "2                195.0       3250.0  female  2007        3.2  \n",
       "3                  NaN          NaN     NaN  2007        NaN  \n",
       "4                193.0       3450.0  female  2007        3.4  \n",
       "..                 ...          ...     ...   ...        ...  \n",
       "339              207.0       4000.0    male  2009        4.0  \n",
       "340              202.0       3400.0  female  2009        3.4  \n",
       "341              193.0       3775.0    male  2009        3.8  \n",
       "342              210.0       4100.0    male  2009        4.1  \n",
       "343              198.0       3775.0  female  2009        3.8  \n",
       "\n",
       "[344 rows x 10 columns]"
      ]
     },
     "execution_count": 7,
     "metadata": {},
     "output_type": "execute_result"
    }
   ],
   "source": [
    "ibon['weight_kg'] = np.round(ibon['body_mass_g'] / 1000, 1)\n",
    "ibon"
   ]
  },
  {
   "cell_type": "markdown",
   "id": "fc62a520-6acd-41cc-a8b8-897818ed0707",
   "metadata": {},
   "source": [
    "<h1>Getting the mean, mode, median</h1>"
   ]
  },
  {
   "cell_type": "code",
   "execution_count": 8,
   "id": "59b19dfd-c299-426b-90a8-aa5eeb9e1d6d",
   "metadata": {},
   "outputs": [
    {
     "data": {
      "text/plain": [
       "4201.754385964912"
      ]
     },
     "execution_count": 8,
     "metadata": {},
     "output_type": "execute_result"
    }
   ],
   "source": [
    "ibon['body_mass_g'].mean()"
   ]
  },
  {
   "cell_type": "code",
   "execution_count": 9,
   "id": "2be42542-1d7e-4472-9275-9d63346a9fa5",
   "metadata": {},
   "outputs": [
    {
     "data": {
      "text/plain": [
       "0    3800.0\n",
       "Name: body_mass_g, dtype: float64"
      ]
     },
     "execution_count": 9,
     "metadata": {},
     "output_type": "execute_result"
    }
   ],
   "source": [
    "ibon['body_mass_g'].mode()"
   ]
  },
  {
   "cell_type": "code",
   "execution_count": 10,
   "id": "eda31865-5df0-4009-a87d-143f8afdf892",
   "metadata": {},
   "outputs": [
    {
     "data": {
      "text/plain": [
       "4050.0"
      ]
     },
     "execution_count": 10,
     "metadata": {},
     "output_type": "execute_result"
    }
   ],
   "source": [
    "ibon['body_mass_g'].median()"
   ]
  },
  {
   "cell_type": "markdown",
   "id": "5a881497-aa5b-48fb-8724-0ddee8c99e0e",
   "metadata": {},
   "source": [
    "<h1>Checking the null values</h1>"
   ]
  },
  {
   "cell_type": "code",
   "execution_count": 11,
   "id": "dd1d982a-84c4-4398-9dac-7d1b4f6480cf",
   "metadata": {},
   "outputs": [
    {
     "data": {
      "text/html": [
       "<div>\n",
       "<style scoped>\n",
       "    .dataframe tbody tr th:only-of-type {\n",
       "        vertical-align: middle;\n",
       "    }\n",
       "\n",
       "    .dataframe tbody tr th {\n",
       "        vertical-align: top;\n",
       "    }\n",
       "\n",
       "    .dataframe thead th {\n",
       "        text-align: right;\n",
       "    }\n",
       "</style>\n",
       "<table border=\"1\" class=\"dataframe\">\n",
       "  <thead>\n",
       "    <tr style=\"text-align: right;\">\n",
       "      <th></th>\n",
       "      <th>rowid</th>\n",
       "      <th>species</th>\n",
       "      <th>island</th>\n",
       "      <th>bill_length_mm</th>\n",
       "      <th>bill_depth_mm</th>\n",
       "      <th>flipper_length_mm</th>\n",
       "      <th>body_mass_g</th>\n",
       "      <th>sex</th>\n",
       "      <th>year</th>\n",
       "      <th>weight_kg</th>\n",
       "    </tr>\n",
       "  </thead>\n",
       "  <tbody>\n",
       "    <tr>\n",
       "      <th>0</th>\n",
       "      <td>False</td>\n",
       "      <td>False</td>\n",
       "      <td>False</td>\n",
       "      <td>False</td>\n",
       "      <td>False</td>\n",
       "      <td>False</td>\n",
       "      <td>False</td>\n",
       "      <td>False</td>\n",
       "      <td>False</td>\n",
       "      <td>False</td>\n",
       "    </tr>\n",
       "    <tr>\n",
       "      <th>1</th>\n",
       "      <td>False</td>\n",
       "      <td>False</td>\n",
       "      <td>False</td>\n",
       "      <td>False</td>\n",
       "      <td>False</td>\n",
       "      <td>False</td>\n",
       "      <td>False</td>\n",
       "      <td>False</td>\n",
       "      <td>False</td>\n",
       "      <td>False</td>\n",
       "    </tr>\n",
       "    <tr>\n",
       "      <th>2</th>\n",
       "      <td>False</td>\n",
       "      <td>False</td>\n",
       "      <td>False</td>\n",
       "      <td>False</td>\n",
       "      <td>False</td>\n",
       "      <td>False</td>\n",
       "      <td>False</td>\n",
       "      <td>False</td>\n",
       "      <td>False</td>\n",
       "      <td>False</td>\n",
       "    </tr>\n",
       "    <tr>\n",
       "      <th>3</th>\n",
       "      <td>False</td>\n",
       "      <td>False</td>\n",
       "      <td>False</td>\n",
       "      <td>True</td>\n",
       "      <td>True</td>\n",
       "      <td>True</td>\n",
       "      <td>True</td>\n",
       "      <td>True</td>\n",
       "      <td>False</td>\n",
       "      <td>True</td>\n",
       "    </tr>\n",
       "    <tr>\n",
       "      <th>4</th>\n",
       "      <td>False</td>\n",
       "      <td>False</td>\n",
       "      <td>False</td>\n",
       "      <td>False</td>\n",
       "      <td>False</td>\n",
       "      <td>False</td>\n",
       "      <td>False</td>\n",
       "      <td>False</td>\n",
       "      <td>False</td>\n",
       "      <td>False</td>\n",
       "    </tr>\n",
       "    <tr>\n",
       "      <th>...</th>\n",
       "      <td>...</td>\n",
       "      <td>...</td>\n",
       "      <td>...</td>\n",
       "      <td>...</td>\n",
       "      <td>...</td>\n",
       "      <td>...</td>\n",
       "      <td>...</td>\n",
       "      <td>...</td>\n",
       "      <td>...</td>\n",
       "      <td>...</td>\n",
       "    </tr>\n",
       "    <tr>\n",
       "      <th>339</th>\n",
       "      <td>False</td>\n",
       "      <td>False</td>\n",
       "      <td>False</td>\n",
       "      <td>False</td>\n",
       "      <td>False</td>\n",
       "      <td>False</td>\n",
       "      <td>False</td>\n",
       "      <td>False</td>\n",
       "      <td>False</td>\n",
       "      <td>False</td>\n",
       "    </tr>\n",
       "    <tr>\n",
       "      <th>340</th>\n",
       "      <td>False</td>\n",
       "      <td>False</td>\n",
       "      <td>False</td>\n",
       "      <td>False</td>\n",
       "      <td>False</td>\n",
       "      <td>False</td>\n",
       "      <td>False</td>\n",
       "      <td>False</td>\n",
       "      <td>False</td>\n",
       "      <td>False</td>\n",
       "    </tr>\n",
       "    <tr>\n",
       "      <th>341</th>\n",
       "      <td>False</td>\n",
       "      <td>False</td>\n",
       "      <td>False</td>\n",
       "      <td>False</td>\n",
       "      <td>False</td>\n",
       "      <td>False</td>\n",
       "      <td>False</td>\n",
       "      <td>False</td>\n",
       "      <td>False</td>\n",
       "      <td>False</td>\n",
       "    </tr>\n",
       "    <tr>\n",
       "      <th>342</th>\n",
       "      <td>False</td>\n",
       "      <td>False</td>\n",
       "      <td>False</td>\n",
       "      <td>False</td>\n",
       "      <td>False</td>\n",
       "      <td>False</td>\n",
       "      <td>False</td>\n",
       "      <td>False</td>\n",
       "      <td>False</td>\n",
       "      <td>False</td>\n",
       "    </tr>\n",
       "    <tr>\n",
       "      <th>343</th>\n",
       "      <td>False</td>\n",
       "      <td>False</td>\n",
       "      <td>False</td>\n",
       "      <td>False</td>\n",
       "      <td>False</td>\n",
       "      <td>False</td>\n",
       "      <td>False</td>\n",
       "      <td>False</td>\n",
       "      <td>False</td>\n",
       "      <td>False</td>\n",
       "    </tr>\n",
       "  </tbody>\n",
       "</table>\n",
       "<p>344 rows × 10 columns</p>\n",
       "</div>"
      ],
      "text/plain": [
       "     rowid  species  island  bill_length_mm  bill_depth_mm  flipper_length_mm  \\\n",
       "0    False    False   False           False          False              False   \n",
       "1    False    False   False           False          False              False   \n",
       "2    False    False   False           False          False              False   \n",
       "3    False    False   False            True           True               True   \n",
       "4    False    False   False           False          False              False   \n",
       "..     ...      ...     ...             ...            ...                ...   \n",
       "339  False    False   False           False          False              False   \n",
       "340  False    False   False           False          False              False   \n",
       "341  False    False   False           False          False              False   \n",
       "342  False    False   False           False          False              False   \n",
       "343  False    False   False           False          False              False   \n",
       "\n",
       "     body_mass_g    sex   year  weight_kg  \n",
       "0          False  False  False      False  \n",
       "1          False  False  False      False  \n",
       "2          False  False  False      False  \n",
       "3           True   True  False       True  \n",
       "4          False  False  False      False  \n",
       "..           ...    ...    ...        ...  \n",
       "339        False  False  False      False  \n",
       "340        False  False  False      False  \n",
       "341        False  False  False      False  \n",
       "342        False  False  False      False  \n",
       "343        False  False  False      False  \n",
       "\n",
       "[344 rows x 10 columns]"
      ]
     },
     "execution_count": 11,
     "metadata": {},
     "output_type": "execute_result"
    }
   ],
   "source": [
    "ibon.isnull()"
   ]
  },
  {
   "cell_type": "code",
   "execution_count": 12,
   "id": "0a4b70ea-892e-4d72-8543-c10d01555b11",
   "metadata": {},
   "outputs": [],
   "source": [
    "#Checking the null value but summarized."
   ]
  },
  {
   "cell_type": "code",
   "execution_count": 13,
   "id": "2b2b9de8-bde0-4340-aa49-f3b5189bc3d1",
   "metadata": {},
   "outputs": [
    {
     "data": {
      "text/plain": [
       "rowid                 0\n",
       "species               0\n",
       "island                0\n",
       "bill_length_mm        2\n",
       "bill_depth_mm         2\n",
       "flipper_length_mm     2\n",
       "body_mass_g           2\n",
       "sex                  11\n",
       "year                  0\n",
       "weight_kg             2\n",
       "dtype: int64"
      ]
     },
     "execution_count": 13,
     "metadata": {},
     "output_type": "execute_result"
    }
   ],
   "source": [
    "ibon.isnull().sum()"
   ]
  },
  {
   "cell_type": "markdown",
   "id": "375818f3-d89c-4eb7-833f-b12d11909d8c",
   "metadata": {},
   "source": [
    "<h1>Filling up the null value</h1>"
   ]
  },
  {
   "cell_type": "code",
   "execution_count": 14,
   "id": "1a85109b-745d-402f-bdd0-33a1ffcf51a1",
   "metadata": {},
   "outputs": [],
   "source": [
    "ibon['bill_length_mm'] = ibon['bill_length_mm'].fillna(ibon['bill_length_mm'].mean())"
   ]
  },
  {
   "cell_type": "code",
   "execution_count": 15,
   "id": "4e8e2915-325c-4761-a969-f0715ce99ac5",
   "metadata": {},
   "outputs": [],
   "source": [
    "ibon['bill_depth_mm'] = ibon['bill_depth_mm'].fillna(ibon['bill_depth_mm'].mean())"
   ]
  },
  {
   "cell_type": "code",
   "execution_count": 16,
   "id": "eb77b11b-f9b6-4aac-915b-1f790a57ca19",
   "metadata": {},
   "outputs": [],
   "source": [
    "ibon['flipper_length_mm'] = ibon['flipper_length_mm'].fillna(ibon['flipper_length_mm'].mean())"
   ]
  },
  {
   "cell_type": "code",
   "execution_count": 17,
   "id": "aa8c17d8-33b9-4084-b189-1f00c449761b",
   "metadata": {},
   "outputs": [],
   "source": [
    "ibon['body_mass_g'] = ibon['body_mass_g'].fillna(ibon['body_mass_g'].mean())"
   ]
  },
  {
   "cell_type": "code",
   "execution_count": 18,
   "id": "c7d7a230-57c2-42f1-b07e-44d304544127",
   "metadata": {},
   "outputs": [],
   "source": [
    "ibon['sex'] = ibon['sex'].fillna(ibon['sex'].mode()[0])"
   ]
  },
  {
   "cell_type": "code",
   "execution_count": 2,
   "id": "303caa05-1377-4208-ace9-951ca5321efb",
   "metadata": {},
   "outputs": [
    {
     "ename": "NameError",
     "evalue": "name 'ibon' is not defined",
     "output_type": "error",
     "traceback": [
      "\u001b[31m----------------------------------------------------------------------\u001b[39m",
      "\u001b[31mNameError\u001b[39m                            Traceback (most recent call last)",
      "\u001b[36mCell\u001b[39m\u001b[36m \u001b[39m\u001b[32mIn[2]\u001b[39m\u001b[32m, line 1\u001b[39m\n\u001b[32m----> \u001b[39m\u001b[32m1\u001b[39m \u001b[43mibon\u001b[49m[\u001b[33m'\u001b[39m\u001b[33msex\u001b[39m\u001b[33m'\u001b[39m].mode()\n",
      "\u001b[31mNameError\u001b[39m: name 'ibon' is not defined"
     ]
    }
   ],
   "source": [
    "ibon['sex'].mode()"
   ]
  },
  {
   "cell_type": "code",
   "execution_count": null,
   "id": "5891e3a5-1a98-49b3-b0c1-2c910eb1409b",
   "metadata": {},
   "outputs": [],
   "source": []
  },
  {
   "cell_type": "code",
   "execution_count": 19,
   "id": "60778834-3690-4c5a-a453-74017f87ca7f",
   "metadata": {},
   "outputs": [],
   "source": [
    "ibon['weight_kg'] = ibon['weight_kg'].fillna(ibon['weight_kg'].mean())"
   ]
  },
  {
   "cell_type": "code",
   "execution_count": 20,
   "id": "417b7a7d-b982-4849-8525-e4f6adecde2c",
   "metadata": {},
   "outputs": [
    {
     "data": {
      "text/plain": [
       "rowid                0\n",
       "species              0\n",
       "island               0\n",
       "bill_length_mm       0\n",
       "bill_depth_mm        0\n",
       "flipper_length_mm    0\n",
       "body_mass_g          0\n",
       "sex                  0\n",
       "year                 0\n",
       "weight_kg            0\n",
       "dtype: int64"
      ]
     },
     "execution_count": 20,
     "metadata": {},
     "output_type": "execute_result"
    }
   ],
   "source": [
    "ibon.isnull().sum()"
   ]
  },
  {
   "cell_type": "markdown",
   "id": "a5617d31-c8cc-4b42-8d71-d94e07bf2626",
   "metadata": {},
   "source": [
    "<h1>Converting columns category</h1>"
   ]
  },
  {
   "cell_type": "code",
   "execution_count": 21,
   "id": "b33422fe-bf56-45db-bd8a-acb822fe13c4",
   "metadata": {},
   "outputs": [],
   "source": [
    "ibon['species'] = ibon['species'].astype('category')"
   ]
  },
  {
   "cell_type": "code",
   "execution_count": 22,
   "id": "bd8d6feb-8407-451f-8f45-9131c9f13fea",
   "metadata": {},
   "outputs": [],
   "source": [
    "ibon['island'] = ibon['island'].astype('category')"
   ]
  },
  {
   "cell_type": "code",
   "execution_count": 23,
   "id": "9e816bdd-a75d-45f2-9832-9a2e4f021d26",
   "metadata": {},
   "outputs": [],
   "source": [
    "ibon['sex'] = ibon['sex'].astype('category')"
   ]
  },
  {
   "cell_type": "code",
   "execution_count": 24,
   "id": "a2bb7462-75a0-4602-8627-6a219c506185",
   "metadata": {},
   "outputs": [
    {
     "name": "stdout",
     "output_type": "stream",
     "text": [
      "<class 'pandas.core.frame.DataFrame'>\n",
      "RangeIndex: 344 entries, 0 to 343\n",
      "Data columns (total 10 columns):\n",
      " #   Column             Non-Null Count  Dtype   \n",
      "---  ------             --------------  -----   \n",
      " 0   rowid              344 non-null    int64   \n",
      " 1   species            344 non-null    category\n",
      " 2   island             344 non-null    category\n",
      " 3   bill_length_mm     344 non-null    float64 \n",
      " 4   bill_depth_mm      344 non-null    float64 \n",
      " 5   flipper_length_mm  344 non-null    float64 \n",
      " 6   body_mass_g        344 non-null    float64 \n",
      " 7   sex                344 non-null    category\n",
      " 8   year               344 non-null    int64   \n",
      " 9   weight_kg          344 non-null    float64 \n",
      "dtypes: category(3), float64(5), int64(2)\n",
      "memory usage: 20.3 KB\n"
     ]
    }
   ],
   "source": [
    "ibon.info()"
   ]
  },
  {
   "cell_type": "code",
   "execution_count": 25,
   "id": "3f18e901-b1f9-4606-8504-a4ec1b1fd0fc",
   "metadata": {},
   "outputs": [
    {
     "data": {
      "text/plain": [
       "species\n",
       "Adelie       152\n",
       "Gentoo       124\n",
       "Chinstrap     68\n",
       "Name: count, dtype: int64"
      ]
     },
     "execution_count": 25,
     "metadata": {},
     "output_type": "execute_result"
    }
   ],
   "source": [
    "ibon['species'].value_counts()"
   ]
  },
  {
   "cell_type": "markdown",
   "id": "67a0f590-9e3b-422e-90a3-d9e17354891f",
   "metadata": {},
   "source": [
    "<h1>Filtering data in specific data.</h1>"
   ]
  },
  {
   "cell_type": "code",
   "execution_count": 26,
   "id": "bd24b189-8556-42da-9502-5a833ce5171a",
   "metadata": {},
   "outputs": [
    {
     "data": {
      "text/html": [
       "<div>\n",
       "<style scoped>\n",
       "    .dataframe tbody tr th:only-of-type {\n",
       "        vertical-align: middle;\n",
       "    }\n",
       "\n",
       "    .dataframe tbody tr th {\n",
       "        vertical-align: top;\n",
       "    }\n",
       "\n",
       "    .dataframe thead th {\n",
       "        text-align: right;\n",
       "    }\n",
       "</style>\n",
       "<table border=\"1\" class=\"dataframe\">\n",
       "  <thead>\n",
       "    <tr style=\"text-align: right;\">\n",
       "      <th></th>\n",
       "      <th>rowid</th>\n",
       "      <th>species</th>\n",
       "      <th>island</th>\n",
       "      <th>bill_length_mm</th>\n",
       "      <th>bill_depth_mm</th>\n",
       "      <th>flipper_length_mm</th>\n",
       "      <th>body_mass_g</th>\n",
       "      <th>sex</th>\n",
       "      <th>year</th>\n",
       "      <th>weight_kg</th>\n",
       "    </tr>\n",
       "  </thead>\n",
       "  <tbody>\n",
       "    <tr>\n",
       "      <th>0</th>\n",
       "      <td>1</td>\n",
       "      <td>Adelie</td>\n",
       "      <td>Torgersen</td>\n",
       "      <td>39.10000</td>\n",
       "      <td>18.70000</td>\n",
       "      <td>181.000000</td>\n",
       "      <td>3750.000000</td>\n",
       "      <td>male</td>\n",
       "      <td>2007</td>\n",
       "      <td>3.800000</td>\n",
       "    </tr>\n",
       "    <tr>\n",
       "      <th>1</th>\n",
       "      <td>2</td>\n",
       "      <td>Adelie</td>\n",
       "      <td>Torgersen</td>\n",
       "      <td>39.50000</td>\n",
       "      <td>17.40000</td>\n",
       "      <td>186.000000</td>\n",
       "      <td>3800.000000</td>\n",
       "      <td>female</td>\n",
       "      <td>2007</td>\n",
       "      <td>3.800000</td>\n",
       "    </tr>\n",
       "    <tr>\n",
       "      <th>2</th>\n",
       "      <td>3</td>\n",
       "      <td>Adelie</td>\n",
       "      <td>Torgersen</td>\n",
       "      <td>40.30000</td>\n",
       "      <td>18.00000</td>\n",
       "      <td>195.000000</td>\n",
       "      <td>3250.000000</td>\n",
       "      <td>female</td>\n",
       "      <td>2007</td>\n",
       "      <td>3.200000</td>\n",
       "    </tr>\n",
       "    <tr>\n",
       "      <th>3</th>\n",
       "      <td>4</td>\n",
       "      <td>Adelie</td>\n",
       "      <td>Torgersen</td>\n",
       "      <td>43.92193</td>\n",
       "      <td>17.15117</td>\n",
       "      <td>200.915205</td>\n",
       "      <td>4201.754386</td>\n",
       "      <td>male</td>\n",
       "      <td>2007</td>\n",
       "      <td>4.202047</td>\n",
       "    </tr>\n",
       "    <tr>\n",
       "      <th>4</th>\n",
       "      <td>5</td>\n",
       "      <td>Adelie</td>\n",
       "      <td>Torgersen</td>\n",
       "      <td>36.70000</td>\n",
       "      <td>19.30000</td>\n",
       "      <td>193.000000</td>\n",
       "      <td>3450.000000</td>\n",
       "      <td>female</td>\n",
       "      <td>2007</td>\n",
       "      <td>3.400000</td>\n",
       "    </tr>\n",
       "    <tr>\n",
       "      <th>...</th>\n",
       "      <td>...</td>\n",
       "      <td>...</td>\n",
       "      <td>...</td>\n",
       "      <td>...</td>\n",
       "      <td>...</td>\n",
       "      <td>...</td>\n",
       "      <td>...</td>\n",
       "      <td>...</td>\n",
       "      <td>...</td>\n",
       "      <td>...</td>\n",
       "    </tr>\n",
       "    <tr>\n",
       "      <th>147</th>\n",
       "      <td>148</td>\n",
       "      <td>Adelie</td>\n",
       "      <td>Dream</td>\n",
       "      <td>36.60000</td>\n",
       "      <td>18.40000</td>\n",
       "      <td>184.000000</td>\n",
       "      <td>3475.000000</td>\n",
       "      <td>female</td>\n",
       "      <td>2009</td>\n",
       "      <td>3.500000</td>\n",
       "    </tr>\n",
       "    <tr>\n",
       "      <th>148</th>\n",
       "      <td>149</td>\n",
       "      <td>Adelie</td>\n",
       "      <td>Dream</td>\n",
       "      <td>36.00000</td>\n",
       "      <td>17.80000</td>\n",
       "      <td>195.000000</td>\n",
       "      <td>3450.000000</td>\n",
       "      <td>female</td>\n",
       "      <td>2009</td>\n",
       "      <td>3.400000</td>\n",
       "    </tr>\n",
       "    <tr>\n",
       "      <th>149</th>\n",
       "      <td>150</td>\n",
       "      <td>Adelie</td>\n",
       "      <td>Dream</td>\n",
       "      <td>37.80000</td>\n",
       "      <td>18.10000</td>\n",
       "      <td>193.000000</td>\n",
       "      <td>3750.000000</td>\n",
       "      <td>male</td>\n",
       "      <td>2009</td>\n",
       "      <td>3.800000</td>\n",
       "    </tr>\n",
       "    <tr>\n",
       "      <th>150</th>\n",
       "      <td>151</td>\n",
       "      <td>Adelie</td>\n",
       "      <td>Dream</td>\n",
       "      <td>36.00000</td>\n",
       "      <td>17.10000</td>\n",
       "      <td>187.000000</td>\n",
       "      <td>3700.000000</td>\n",
       "      <td>female</td>\n",
       "      <td>2009</td>\n",
       "      <td>3.700000</td>\n",
       "    </tr>\n",
       "    <tr>\n",
       "      <th>151</th>\n",
       "      <td>152</td>\n",
       "      <td>Adelie</td>\n",
       "      <td>Dream</td>\n",
       "      <td>41.50000</td>\n",
       "      <td>18.50000</td>\n",
       "      <td>201.000000</td>\n",
       "      <td>4000.000000</td>\n",
       "      <td>male</td>\n",
       "      <td>2009</td>\n",
       "      <td>4.000000</td>\n",
       "    </tr>\n",
       "  </tbody>\n",
       "</table>\n",
       "<p>152 rows × 10 columns</p>\n",
       "</div>"
      ],
      "text/plain": [
       "     rowid species     island  bill_length_mm  bill_depth_mm  \\\n",
       "0        1  Adelie  Torgersen        39.10000       18.70000   \n",
       "1        2  Adelie  Torgersen        39.50000       17.40000   \n",
       "2        3  Adelie  Torgersen        40.30000       18.00000   \n",
       "3        4  Adelie  Torgersen        43.92193       17.15117   \n",
       "4        5  Adelie  Torgersen        36.70000       19.30000   \n",
       "..     ...     ...        ...             ...            ...   \n",
       "147    148  Adelie      Dream        36.60000       18.40000   \n",
       "148    149  Adelie      Dream        36.00000       17.80000   \n",
       "149    150  Adelie      Dream        37.80000       18.10000   \n",
       "150    151  Adelie      Dream        36.00000       17.10000   \n",
       "151    152  Adelie      Dream        41.50000       18.50000   \n",
       "\n",
       "     flipper_length_mm  body_mass_g     sex  year  weight_kg  \n",
       "0           181.000000  3750.000000    male  2007   3.800000  \n",
       "1           186.000000  3800.000000  female  2007   3.800000  \n",
       "2           195.000000  3250.000000  female  2007   3.200000  \n",
       "3           200.915205  4201.754386    male  2007   4.202047  \n",
       "4           193.000000  3450.000000  female  2007   3.400000  \n",
       "..                 ...          ...     ...   ...        ...  \n",
       "147         184.000000  3475.000000  female  2009   3.500000  \n",
       "148         195.000000  3450.000000  female  2009   3.400000  \n",
       "149         193.000000  3750.000000    male  2009   3.800000  \n",
       "150         187.000000  3700.000000  female  2009   3.700000  \n",
       "151         201.000000  4000.000000    male  2009   4.000000  \n",
       "\n",
       "[152 rows x 10 columns]"
      ]
     },
     "execution_count": 26,
     "metadata": {},
     "output_type": "execute_result"
    }
   ],
   "source": [
    "ibon[ibon['species'] == 'Adelie']"
   ]
  },
  {
   "cell_type": "code",
   "execution_count": 27,
   "id": "644e77ca-e735-4d21-ada0-e85a7ea267cd",
   "metadata": {},
   "outputs": [
    {
     "data": {
      "text/html": [
       "<div>\n",
       "<style scoped>\n",
       "    .dataframe tbody tr th:only-of-type {\n",
       "        vertical-align: middle;\n",
       "    }\n",
       "\n",
       "    .dataframe tbody tr th {\n",
       "        vertical-align: top;\n",
       "    }\n",
       "\n",
       "    .dataframe thead th {\n",
       "        text-align: right;\n",
       "    }\n",
       "</style>\n",
       "<table border=\"1\" class=\"dataframe\">\n",
       "  <thead>\n",
       "    <tr style=\"text-align: right;\">\n",
       "      <th></th>\n",
       "      <th>rowid</th>\n",
       "      <th>species</th>\n",
       "      <th>island</th>\n",
       "      <th>bill_length_mm</th>\n",
       "      <th>bill_depth_mm</th>\n",
       "      <th>flipper_length_mm</th>\n",
       "      <th>body_mass_g</th>\n",
       "      <th>sex</th>\n",
       "      <th>year</th>\n",
       "      <th>weight_kg</th>\n",
       "    </tr>\n",
       "  </thead>\n",
       "  <tbody>\n",
       "    <tr>\n",
       "      <th>20</th>\n",
       "      <td>21</td>\n",
       "      <td>Adelie</td>\n",
       "      <td>Biscoe</td>\n",
       "      <td>37.8</td>\n",
       "      <td>18.3</td>\n",
       "      <td>174.0</td>\n",
       "      <td>3400.0</td>\n",
       "      <td>female</td>\n",
       "      <td>2007</td>\n",
       "      <td>3.4</td>\n",
       "    </tr>\n",
       "    <tr>\n",
       "      <th>21</th>\n",
       "      <td>22</td>\n",
       "      <td>Adelie</td>\n",
       "      <td>Biscoe</td>\n",
       "      <td>37.7</td>\n",
       "      <td>18.7</td>\n",
       "      <td>180.0</td>\n",
       "      <td>3600.0</td>\n",
       "      <td>male</td>\n",
       "      <td>2007</td>\n",
       "      <td>3.6</td>\n",
       "    </tr>\n",
       "    <tr>\n",
       "      <th>22</th>\n",
       "      <td>23</td>\n",
       "      <td>Adelie</td>\n",
       "      <td>Biscoe</td>\n",
       "      <td>35.9</td>\n",
       "      <td>19.2</td>\n",
       "      <td>189.0</td>\n",
       "      <td>3800.0</td>\n",
       "      <td>female</td>\n",
       "      <td>2007</td>\n",
       "      <td>3.8</td>\n",
       "    </tr>\n",
       "    <tr>\n",
       "      <th>23</th>\n",
       "      <td>24</td>\n",
       "      <td>Adelie</td>\n",
       "      <td>Biscoe</td>\n",
       "      <td>38.2</td>\n",
       "      <td>18.1</td>\n",
       "      <td>185.0</td>\n",
       "      <td>3950.0</td>\n",
       "      <td>male</td>\n",
       "      <td>2007</td>\n",
       "      <td>4.0</td>\n",
       "    </tr>\n",
       "    <tr>\n",
       "      <th>24</th>\n",
       "      <td>25</td>\n",
       "      <td>Adelie</td>\n",
       "      <td>Biscoe</td>\n",
       "      <td>38.8</td>\n",
       "      <td>17.2</td>\n",
       "      <td>180.0</td>\n",
       "      <td>3800.0</td>\n",
       "      <td>male</td>\n",
       "      <td>2007</td>\n",
       "      <td>3.8</td>\n",
       "    </tr>\n",
       "    <tr>\n",
       "      <th>25</th>\n",
       "      <td>26</td>\n",
       "      <td>Adelie</td>\n",
       "      <td>Biscoe</td>\n",
       "      <td>35.3</td>\n",
       "      <td>18.9</td>\n",
       "      <td>187.0</td>\n",
       "      <td>3800.0</td>\n",
       "      <td>female</td>\n",
       "      <td>2007</td>\n",
       "      <td>3.8</td>\n",
       "    </tr>\n",
       "    <tr>\n",
       "      <th>26</th>\n",
       "      <td>27</td>\n",
       "      <td>Adelie</td>\n",
       "      <td>Biscoe</td>\n",
       "      <td>40.6</td>\n",
       "      <td>18.6</td>\n",
       "      <td>183.0</td>\n",
       "      <td>3550.0</td>\n",
       "      <td>male</td>\n",
       "      <td>2007</td>\n",
       "      <td>3.6</td>\n",
       "    </tr>\n",
       "    <tr>\n",
       "      <th>27</th>\n",
       "      <td>28</td>\n",
       "      <td>Adelie</td>\n",
       "      <td>Biscoe</td>\n",
       "      <td>40.5</td>\n",
       "      <td>17.9</td>\n",
       "      <td>187.0</td>\n",
       "      <td>3200.0</td>\n",
       "      <td>female</td>\n",
       "      <td>2007</td>\n",
       "      <td>3.2</td>\n",
       "    </tr>\n",
       "    <tr>\n",
       "      <th>28</th>\n",
       "      <td>29</td>\n",
       "      <td>Adelie</td>\n",
       "      <td>Biscoe</td>\n",
       "      <td>37.9</td>\n",
       "      <td>18.6</td>\n",
       "      <td>172.0</td>\n",
       "      <td>3150.0</td>\n",
       "      <td>female</td>\n",
       "      <td>2007</td>\n",
       "      <td>3.2</td>\n",
       "    </tr>\n",
       "    <tr>\n",
       "      <th>29</th>\n",
       "      <td>30</td>\n",
       "      <td>Adelie</td>\n",
       "      <td>Biscoe</td>\n",
       "      <td>40.5</td>\n",
       "      <td>18.9</td>\n",
       "      <td>180.0</td>\n",
       "      <td>3950.0</td>\n",
       "      <td>male</td>\n",
       "      <td>2007</td>\n",
       "      <td>4.0</td>\n",
       "    </tr>\n",
       "    <tr>\n",
       "      <th>50</th>\n",
       "      <td>51</td>\n",
       "      <td>Adelie</td>\n",
       "      <td>Biscoe</td>\n",
       "      <td>39.6</td>\n",
       "      <td>17.7</td>\n",
       "      <td>186.0</td>\n",
       "      <td>3500.0</td>\n",
       "      <td>female</td>\n",
       "      <td>2008</td>\n",
       "      <td>3.5</td>\n",
       "    </tr>\n",
       "    <tr>\n",
       "      <th>51</th>\n",
       "      <td>52</td>\n",
       "      <td>Adelie</td>\n",
       "      <td>Biscoe</td>\n",
       "      <td>40.1</td>\n",
       "      <td>18.9</td>\n",
       "      <td>188.0</td>\n",
       "      <td>4300.0</td>\n",
       "      <td>male</td>\n",
       "      <td>2008</td>\n",
       "      <td>4.3</td>\n",
       "    </tr>\n",
       "    <tr>\n",
       "      <th>52</th>\n",
       "      <td>53</td>\n",
       "      <td>Adelie</td>\n",
       "      <td>Biscoe</td>\n",
       "      <td>35.0</td>\n",
       "      <td>17.9</td>\n",
       "      <td>190.0</td>\n",
       "      <td>3450.0</td>\n",
       "      <td>female</td>\n",
       "      <td>2008</td>\n",
       "      <td>3.4</td>\n",
       "    </tr>\n",
       "    <tr>\n",
       "      <th>53</th>\n",
       "      <td>54</td>\n",
       "      <td>Adelie</td>\n",
       "      <td>Biscoe</td>\n",
       "      <td>42.0</td>\n",
       "      <td>19.5</td>\n",
       "      <td>200.0</td>\n",
       "      <td>4050.0</td>\n",
       "      <td>male</td>\n",
       "      <td>2008</td>\n",
       "      <td>4.0</td>\n",
       "    </tr>\n",
       "    <tr>\n",
       "      <th>54</th>\n",
       "      <td>55</td>\n",
       "      <td>Adelie</td>\n",
       "      <td>Biscoe</td>\n",
       "      <td>34.5</td>\n",
       "      <td>18.1</td>\n",
       "      <td>187.0</td>\n",
       "      <td>2900.0</td>\n",
       "      <td>female</td>\n",
       "      <td>2008</td>\n",
       "      <td>2.9</td>\n",
       "    </tr>\n",
       "    <tr>\n",
       "      <th>55</th>\n",
       "      <td>56</td>\n",
       "      <td>Adelie</td>\n",
       "      <td>Biscoe</td>\n",
       "      <td>41.4</td>\n",
       "      <td>18.6</td>\n",
       "      <td>191.0</td>\n",
       "      <td>3700.0</td>\n",
       "      <td>male</td>\n",
       "      <td>2008</td>\n",
       "      <td>3.7</td>\n",
       "    </tr>\n",
       "    <tr>\n",
       "      <th>56</th>\n",
       "      <td>57</td>\n",
       "      <td>Adelie</td>\n",
       "      <td>Biscoe</td>\n",
       "      <td>39.0</td>\n",
       "      <td>17.5</td>\n",
       "      <td>186.0</td>\n",
       "      <td>3550.0</td>\n",
       "      <td>female</td>\n",
       "      <td>2008</td>\n",
       "      <td>3.6</td>\n",
       "    </tr>\n",
       "    <tr>\n",
       "      <th>57</th>\n",
       "      <td>58</td>\n",
       "      <td>Adelie</td>\n",
       "      <td>Biscoe</td>\n",
       "      <td>40.6</td>\n",
       "      <td>18.8</td>\n",
       "      <td>193.0</td>\n",
       "      <td>3800.0</td>\n",
       "      <td>male</td>\n",
       "      <td>2008</td>\n",
       "      <td>3.8</td>\n",
       "    </tr>\n",
       "    <tr>\n",
       "      <th>58</th>\n",
       "      <td>59</td>\n",
       "      <td>Adelie</td>\n",
       "      <td>Biscoe</td>\n",
       "      <td>36.5</td>\n",
       "      <td>16.6</td>\n",
       "      <td>181.0</td>\n",
       "      <td>2850.0</td>\n",
       "      <td>female</td>\n",
       "      <td>2008</td>\n",
       "      <td>2.8</td>\n",
       "    </tr>\n",
       "    <tr>\n",
       "      <th>59</th>\n",
       "      <td>60</td>\n",
       "      <td>Adelie</td>\n",
       "      <td>Biscoe</td>\n",
       "      <td>37.6</td>\n",
       "      <td>19.1</td>\n",
       "      <td>194.0</td>\n",
       "      <td>3750.0</td>\n",
       "      <td>male</td>\n",
       "      <td>2008</td>\n",
       "      <td>3.8</td>\n",
       "    </tr>\n",
       "    <tr>\n",
       "      <th>60</th>\n",
       "      <td>61</td>\n",
       "      <td>Adelie</td>\n",
       "      <td>Biscoe</td>\n",
       "      <td>35.7</td>\n",
       "      <td>16.9</td>\n",
       "      <td>185.0</td>\n",
       "      <td>3150.0</td>\n",
       "      <td>female</td>\n",
       "      <td>2008</td>\n",
       "      <td>3.2</td>\n",
       "    </tr>\n",
       "    <tr>\n",
       "      <th>61</th>\n",
       "      <td>62</td>\n",
       "      <td>Adelie</td>\n",
       "      <td>Biscoe</td>\n",
       "      <td>41.3</td>\n",
       "      <td>21.1</td>\n",
       "      <td>195.0</td>\n",
       "      <td>4400.0</td>\n",
       "      <td>male</td>\n",
       "      <td>2008</td>\n",
       "      <td>4.4</td>\n",
       "    </tr>\n",
       "    <tr>\n",
       "      <th>62</th>\n",
       "      <td>63</td>\n",
       "      <td>Adelie</td>\n",
       "      <td>Biscoe</td>\n",
       "      <td>37.6</td>\n",
       "      <td>17.0</td>\n",
       "      <td>185.0</td>\n",
       "      <td>3600.0</td>\n",
       "      <td>female</td>\n",
       "      <td>2008</td>\n",
       "      <td>3.6</td>\n",
       "    </tr>\n",
       "    <tr>\n",
       "      <th>63</th>\n",
       "      <td>64</td>\n",
       "      <td>Adelie</td>\n",
       "      <td>Biscoe</td>\n",
       "      <td>41.1</td>\n",
       "      <td>18.2</td>\n",
       "      <td>192.0</td>\n",
       "      <td>4050.0</td>\n",
       "      <td>male</td>\n",
       "      <td>2008</td>\n",
       "      <td>4.0</td>\n",
       "    </tr>\n",
       "    <tr>\n",
       "      <th>64</th>\n",
       "      <td>65</td>\n",
       "      <td>Adelie</td>\n",
       "      <td>Biscoe</td>\n",
       "      <td>36.4</td>\n",
       "      <td>17.1</td>\n",
       "      <td>184.0</td>\n",
       "      <td>2850.0</td>\n",
       "      <td>female</td>\n",
       "      <td>2008</td>\n",
       "      <td>2.8</td>\n",
       "    </tr>\n",
       "    <tr>\n",
       "      <th>65</th>\n",
       "      <td>66</td>\n",
       "      <td>Adelie</td>\n",
       "      <td>Biscoe</td>\n",
       "      <td>41.6</td>\n",
       "      <td>18.0</td>\n",
       "      <td>192.0</td>\n",
       "      <td>3950.0</td>\n",
       "      <td>male</td>\n",
       "      <td>2008</td>\n",
       "      <td>4.0</td>\n",
       "    </tr>\n",
       "    <tr>\n",
       "      <th>66</th>\n",
       "      <td>67</td>\n",
       "      <td>Adelie</td>\n",
       "      <td>Biscoe</td>\n",
       "      <td>35.5</td>\n",
       "      <td>16.2</td>\n",
       "      <td>195.0</td>\n",
       "      <td>3350.0</td>\n",
       "      <td>female</td>\n",
       "      <td>2008</td>\n",
       "      <td>3.4</td>\n",
       "    </tr>\n",
       "    <tr>\n",
       "      <th>67</th>\n",
       "      <td>68</td>\n",
       "      <td>Adelie</td>\n",
       "      <td>Biscoe</td>\n",
       "      <td>41.1</td>\n",
       "      <td>19.1</td>\n",
       "      <td>188.0</td>\n",
       "      <td>4100.0</td>\n",
       "      <td>male</td>\n",
       "      <td>2008</td>\n",
       "      <td>4.1</td>\n",
       "    </tr>\n",
       "    <tr>\n",
       "      <th>100</th>\n",
       "      <td>101</td>\n",
       "      <td>Adelie</td>\n",
       "      <td>Biscoe</td>\n",
       "      <td>35.0</td>\n",
       "      <td>17.9</td>\n",
       "      <td>192.0</td>\n",
       "      <td>3725.0</td>\n",
       "      <td>female</td>\n",
       "      <td>2009</td>\n",
       "      <td>3.7</td>\n",
       "    </tr>\n",
       "    <tr>\n",
       "      <th>101</th>\n",
       "      <td>102</td>\n",
       "      <td>Adelie</td>\n",
       "      <td>Biscoe</td>\n",
       "      <td>41.0</td>\n",
       "      <td>20.0</td>\n",
       "      <td>203.0</td>\n",
       "      <td>4725.0</td>\n",
       "      <td>male</td>\n",
       "      <td>2009</td>\n",
       "      <td>4.7</td>\n",
       "    </tr>\n",
       "    <tr>\n",
       "      <th>102</th>\n",
       "      <td>103</td>\n",
       "      <td>Adelie</td>\n",
       "      <td>Biscoe</td>\n",
       "      <td>37.7</td>\n",
       "      <td>16.0</td>\n",
       "      <td>183.0</td>\n",
       "      <td>3075.0</td>\n",
       "      <td>female</td>\n",
       "      <td>2009</td>\n",
       "      <td>3.1</td>\n",
       "    </tr>\n",
       "    <tr>\n",
       "      <th>103</th>\n",
       "      <td>104</td>\n",
       "      <td>Adelie</td>\n",
       "      <td>Biscoe</td>\n",
       "      <td>37.8</td>\n",
       "      <td>20.0</td>\n",
       "      <td>190.0</td>\n",
       "      <td>4250.0</td>\n",
       "      <td>male</td>\n",
       "      <td>2009</td>\n",
       "      <td>4.2</td>\n",
       "    </tr>\n",
       "    <tr>\n",
       "      <th>104</th>\n",
       "      <td>105</td>\n",
       "      <td>Adelie</td>\n",
       "      <td>Biscoe</td>\n",
       "      <td>37.9</td>\n",
       "      <td>18.6</td>\n",
       "      <td>193.0</td>\n",
       "      <td>2925.0</td>\n",
       "      <td>female</td>\n",
       "      <td>2009</td>\n",
       "      <td>2.9</td>\n",
       "    </tr>\n",
       "    <tr>\n",
       "      <th>105</th>\n",
       "      <td>106</td>\n",
       "      <td>Adelie</td>\n",
       "      <td>Biscoe</td>\n",
       "      <td>39.7</td>\n",
       "      <td>18.9</td>\n",
       "      <td>184.0</td>\n",
       "      <td>3550.0</td>\n",
       "      <td>male</td>\n",
       "      <td>2009</td>\n",
       "      <td>3.6</td>\n",
       "    </tr>\n",
       "    <tr>\n",
       "      <th>106</th>\n",
       "      <td>107</td>\n",
       "      <td>Adelie</td>\n",
       "      <td>Biscoe</td>\n",
       "      <td>38.6</td>\n",
       "      <td>17.2</td>\n",
       "      <td>199.0</td>\n",
       "      <td>3750.0</td>\n",
       "      <td>female</td>\n",
       "      <td>2009</td>\n",
       "      <td>3.8</td>\n",
       "    </tr>\n",
       "    <tr>\n",
       "      <th>107</th>\n",
       "      <td>108</td>\n",
       "      <td>Adelie</td>\n",
       "      <td>Biscoe</td>\n",
       "      <td>38.2</td>\n",
       "      <td>20.0</td>\n",
       "      <td>190.0</td>\n",
       "      <td>3900.0</td>\n",
       "      <td>male</td>\n",
       "      <td>2009</td>\n",
       "      <td>3.9</td>\n",
       "    </tr>\n",
       "    <tr>\n",
       "      <th>108</th>\n",
       "      <td>109</td>\n",
       "      <td>Adelie</td>\n",
       "      <td>Biscoe</td>\n",
       "      <td>38.1</td>\n",
       "      <td>17.0</td>\n",
       "      <td>181.0</td>\n",
       "      <td>3175.0</td>\n",
       "      <td>female</td>\n",
       "      <td>2009</td>\n",
       "      <td>3.2</td>\n",
       "    </tr>\n",
       "    <tr>\n",
       "      <th>109</th>\n",
       "      <td>110</td>\n",
       "      <td>Adelie</td>\n",
       "      <td>Biscoe</td>\n",
       "      <td>43.2</td>\n",
       "      <td>19.0</td>\n",
       "      <td>197.0</td>\n",
       "      <td>4775.0</td>\n",
       "      <td>male</td>\n",
       "      <td>2009</td>\n",
       "      <td>4.8</td>\n",
       "    </tr>\n",
       "    <tr>\n",
       "      <th>110</th>\n",
       "      <td>111</td>\n",
       "      <td>Adelie</td>\n",
       "      <td>Biscoe</td>\n",
       "      <td>38.1</td>\n",
       "      <td>16.5</td>\n",
       "      <td>198.0</td>\n",
       "      <td>3825.0</td>\n",
       "      <td>female</td>\n",
       "      <td>2009</td>\n",
       "      <td>3.8</td>\n",
       "    </tr>\n",
       "    <tr>\n",
       "      <th>111</th>\n",
       "      <td>112</td>\n",
       "      <td>Adelie</td>\n",
       "      <td>Biscoe</td>\n",
       "      <td>45.6</td>\n",
       "      <td>20.3</td>\n",
       "      <td>191.0</td>\n",
       "      <td>4600.0</td>\n",
       "      <td>male</td>\n",
       "      <td>2009</td>\n",
       "      <td>4.6</td>\n",
       "    </tr>\n",
       "    <tr>\n",
       "      <th>112</th>\n",
       "      <td>113</td>\n",
       "      <td>Adelie</td>\n",
       "      <td>Biscoe</td>\n",
       "      <td>39.7</td>\n",
       "      <td>17.7</td>\n",
       "      <td>193.0</td>\n",
       "      <td>3200.0</td>\n",
       "      <td>female</td>\n",
       "      <td>2009</td>\n",
       "      <td>3.2</td>\n",
       "    </tr>\n",
       "    <tr>\n",
       "      <th>113</th>\n",
       "      <td>114</td>\n",
       "      <td>Adelie</td>\n",
       "      <td>Biscoe</td>\n",
       "      <td>42.2</td>\n",
       "      <td>19.5</td>\n",
       "      <td>197.0</td>\n",
       "      <td>4275.0</td>\n",
       "      <td>male</td>\n",
       "      <td>2009</td>\n",
       "      <td>4.3</td>\n",
       "    </tr>\n",
       "    <tr>\n",
       "      <th>114</th>\n",
       "      <td>115</td>\n",
       "      <td>Adelie</td>\n",
       "      <td>Biscoe</td>\n",
       "      <td>39.6</td>\n",
       "      <td>20.7</td>\n",
       "      <td>191.0</td>\n",
       "      <td>3900.0</td>\n",
       "      <td>female</td>\n",
       "      <td>2009</td>\n",
       "      <td>3.9</td>\n",
       "    </tr>\n",
       "    <tr>\n",
       "      <th>115</th>\n",
       "      <td>116</td>\n",
       "      <td>Adelie</td>\n",
       "      <td>Biscoe</td>\n",
       "      <td>42.7</td>\n",
       "      <td>18.3</td>\n",
       "      <td>196.0</td>\n",
       "      <td>4075.0</td>\n",
       "      <td>male</td>\n",
       "      <td>2009</td>\n",
       "      <td>4.1</td>\n",
       "    </tr>\n",
       "  </tbody>\n",
       "</table>\n",
       "</div>"
      ],
      "text/plain": [
       "     rowid species  island  bill_length_mm  bill_depth_mm  flipper_length_mm  \\\n",
       "20      21  Adelie  Biscoe            37.8           18.3              174.0   \n",
       "21      22  Adelie  Biscoe            37.7           18.7              180.0   \n",
       "22      23  Adelie  Biscoe            35.9           19.2              189.0   \n",
       "23      24  Adelie  Biscoe            38.2           18.1              185.0   \n",
       "24      25  Adelie  Biscoe            38.8           17.2              180.0   \n",
       "25      26  Adelie  Biscoe            35.3           18.9              187.0   \n",
       "26      27  Adelie  Biscoe            40.6           18.6              183.0   \n",
       "27      28  Adelie  Biscoe            40.5           17.9              187.0   \n",
       "28      29  Adelie  Biscoe            37.9           18.6              172.0   \n",
       "29      30  Adelie  Biscoe            40.5           18.9              180.0   \n",
       "50      51  Adelie  Biscoe            39.6           17.7              186.0   \n",
       "51      52  Adelie  Biscoe            40.1           18.9              188.0   \n",
       "52      53  Adelie  Biscoe            35.0           17.9              190.0   \n",
       "53      54  Adelie  Biscoe            42.0           19.5              200.0   \n",
       "54      55  Adelie  Biscoe            34.5           18.1              187.0   \n",
       "55      56  Adelie  Biscoe            41.4           18.6              191.0   \n",
       "56      57  Adelie  Biscoe            39.0           17.5              186.0   \n",
       "57      58  Adelie  Biscoe            40.6           18.8              193.0   \n",
       "58      59  Adelie  Biscoe            36.5           16.6              181.0   \n",
       "59      60  Adelie  Biscoe            37.6           19.1              194.0   \n",
       "60      61  Adelie  Biscoe            35.7           16.9              185.0   \n",
       "61      62  Adelie  Biscoe            41.3           21.1              195.0   \n",
       "62      63  Adelie  Biscoe            37.6           17.0              185.0   \n",
       "63      64  Adelie  Biscoe            41.1           18.2              192.0   \n",
       "64      65  Adelie  Biscoe            36.4           17.1              184.0   \n",
       "65      66  Adelie  Biscoe            41.6           18.0              192.0   \n",
       "66      67  Adelie  Biscoe            35.5           16.2              195.0   \n",
       "67      68  Adelie  Biscoe            41.1           19.1              188.0   \n",
       "100    101  Adelie  Biscoe            35.0           17.9              192.0   \n",
       "101    102  Adelie  Biscoe            41.0           20.0              203.0   \n",
       "102    103  Adelie  Biscoe            37.7           16.0              183.0   \n",
       "103    104  Adelie  Biscoe            37.8           20.0              190.0   \n",
       "104    105  Adelie  Biscoe            37.9           18.6              193.0   \n",
       "105    106  Adelie  Biscoe            39.7           18.9              184.0   \n",
       "106    107  Adelie  Biscoe            38.6           17.2              199.0   \n",
       "107    108  Adelie  Biscoe            38.2           20.0              190.0   \n",
       "108    109  Adelie  Biscoe            38.1           17.0              181.0   \n",
       "109    110  Adelie  Biscoe            43.2           19.0              197.0   \n",
       "110    111  Adelie  Biscoe            38.1           16.5              198.0   \n",
       "111    112  Adelie  Biscoe            45.6           20.3              191.0   \n",
       "112    113  Adelie  Biscoe            39.7           17.7              193.0   \n",
       "113    114  Adelie  Biscoe            42.2           19.5              197.0   \n",
       "114    115  Adelie  Biscoe            39.6           20.7              191.0   \n",
       "115    116  Adelie  Biscoe            42.7           18.3              196.0   \n",
       "\n",
       "     body_mass_g     sex  year  weight_kg  \n",
       "20        3400.0  female  2007        3.4  \n",
       "21        3600.0    male  2007        3.6  \n",
       "22        3800.0  female  2007        3.8  \n",
       "23        3950.0    male  2007        4.0  \n",
       "24        3800.0    male  2007        3.8  \n",
       "25        3800.0  female  2007        3.8  \n",
       "26        3550.0    male  2007        3.6  \n",
       "27        3200.0  female  2007        3.2  \n",
       "28        3150.0  female  2007        3.2  \n",
       "29        3950.0    male  2007        4.0  \n",
       "50        3500.0  female  2008        3.5  \n",
       "51        4300.0    male  2008        4.3  \n",
       "52        3450.0  female  2008        3.4  \n",
       "53        4050.0    male  2008        4.0  \n",
       "54        2900.0  female  2008        2.9  \n",
       "55        3700.0    male  2008        3.7  \n",
       "56        3550.0  female  2008        3.6  \n",
       "57        3800.0    male  2008        3.8  \n",
       "58        2850.0  female  2008        2.8  \n",
       "59        3750.0    male  2008        3.8  \n",
       "60        3150.0  female  2008        3.2  \n",
       "61        4400.0    male  2008        4.4  \n",
       "62        3600.0  female  2008        3.6  \n",
       "63        4050.0    male  2008        4.0  \n",
       "64        2850.0  female  2008        2.8  \n",
       "65        3950.0    male  2008        4.0  \n",
       "66        3350.0  female  2008        3.4  \n",
       "67        4100.0    male  2008        4.1  \n",
       "100       3725.0  female  2009        3.7  \n",
       "101       4725.0    male  2009        4.7  \n",
       "102       3075.0  female  2009        3.1  \n",
       "103       4250.0    male  2009        4.2  \n",
       "104       2925.0  female  2009        2.9  \n",
       "105       3550.0    male  2009        3.6  \n",
       "106       3750.0  female  2009        3.8  \n",
       "107       3900.0    male  2009        3.9  \n",
       "108       3175.0  female  2009        3.2  \n",
       "109       4775.0    male  2009        4.8  \n",
       "110       3825.0  female  2009        3.8  \n",
       "111       4600.0    male  2009        4.6  \n",
       "112       3200.0  female  2009        3.2  \n",
       "113       4275.0    male  2009        4.3  \n",
       "114       3900.0  female  2009        3.9  \n",
       "115       4075.0    male  2009        4.1  "
      ]
     },
     "execution_count": 27,
     "metadata": {},
     "output_type": "execute_result"
    }
   ],
   "source": [
    "ibon[(ibon['species'] == 'Adelie') & (ibon['island'] == 'Biscoe')]"
   ]
  },
  {
   "cell_type": "code",
   "execution_count": 28,
   "id": "cca4caeb-adc1-4625-8f09-514b0d4976d8",
   "metadata": {},
   "outputs": [
    {
     "name": "stdout",
     "output_type": "stream",
     "text": [
      "<class 'pandas.core.frame.DataFrame'>\n",
      "Index: 0 entries\n",
      "Data columns (total 10 columns):\n",
      " #   Column             Non-Null Count  Dtype   \n",
      "---  ------             --------------  -----   \n",
      " 0   rowid              0 non-null      int64   \n",
      " 1   species            0 non-null      category\n",
      " 2   island             0 non-null      category\n",
      " 3   bill_length_mm     0 non-null      float64 \n",
      " 4   bill_depth_mm      0 non-null      float64 \n",
      " 5   flipper_length_mm  0 non-null      float64 \n",
      " 6   body_mass_g        0 non-null      float64 \n",
      " 7   sex                0 non-null      category\n",
      " 8   year               0 non-null      int64   \n",
      " 9   weight_kg          0 non-null      float64 \n",
      "dtypes: category(3), float64(5), int64(2)\n",
      "memory usage: 388.0 bytes\n"
     ]
    }
   ],
   "source": [
    "ibon[(ibon['species'] == 'Chinstrap') & (ibon['island'] == 'Biscoe')].info()"
   ]
  },
  {
   "cell_type": "code",
   "execution_count": 29,
   "id": "20968276-6ca9-48a5-8016-3258d1a38866",
   "metadata": {},
   "outputs": [
    {
     "name": "stdout",
     "output_type": "stream",
     "text": [
      "<class 'pandas.core.frame.DataFrame'>\n",
      "Index: 68 entries, 276 to 343\n",
      "Data columns (total 10 columns):\n",
      " #   Column             Non-Null Count  Dtype   \n",
      "---  ------             --------------  -----   \n",
      " 0   rowid              68 non-null     int64   \n",
      " 1   species            68 non-null     category\n",
      " 2   island             68 non-null     category\n",
      " 3   bill_length_mm     68 non-null     float64 \n",
      " 4   bill_depth_mm      68 non-null     float64 \n",
      " 5   flipper_length_mm  68 non-null     float64 \n",
      " 6   body_mass_g        68 non-null     float64 \n",
      " 7   sex                68 non-null     category\n",
      " 8   year               68 non-null     int64   \n",
      " 9   weight_kg          68 non-null     float64 \n",
      "dtypes: category(3), float64(5), int64(2)\n",
      "memory usage: 4.8 KB\n"
     ]
    }
   ],
   "source": [
    "ibon[(ibon['species'] == 'Chinstrap') & (ibon['island'] == 'Dream')].info()"
   ]
  },
  {
   "cell_type": "code",
   "execution_count": 30,
   "id": "5b472854-787b-455a-beeb-2f1df463eebc",
   "metadata": {},
   "outputs": [
    {
     "name": "stdout",
     "output_type": "stream",
     "text": [
      "<class 'pandas.core.frame.DataFrame'>\n",
      "Index: 0 entries\n",
      "Data columns (total 10 columns):\n",
      " #   Column             Non-Null Count  Dtype   \n",
      "---  ------             --------------  -----   \n",
      " 0   rowid              0 non-null      int64   \n",
      " 1   species            0 non-null      category\n",
      " 2   island             0 non-null      category\n",
      " 3   bill_length_mm     0 non-null      float64 \n",
      " 4   bill_depth_mm      0 non-null      float64 \n",
      " 5   flipper_length_mm  0 non-null      float64 \n",
      " 6   body_mass_g        0 non-null      float64 \n",
      " 7   sex                0 non-null      category\n",
      " 8   year               0 non-null      int64   \n",
      " 9   weight_kg          0 non-null      float64 \n",
      "dtypes: category(3), float64(5), int64(2)\n",
      "memory usage: 388.0 bytes\n"
     ]
    }
   ],
   "source": [
    "ibon[(ibon['species'] == 'Chinstrap') & (ibon['island'] == 'Torgersen')].info()"
   ]
  },
  {
   "cell_type": "code",
   "execution_count": 31,
   "id": "c6221553-b980-4db7-a908-637e20915910",
   "metadata": {},
   "outputs": [
    {
     "name": "stdout",
     "output_type": "stream",
     "text": [
      ">> Biscoe\n",
      "<class 'pandas.core.frame.DataFrame'>\n",
      "Index: 44 entries, 20 to 115\n",
      "Data columns (total 10 columns):\n",
      " #   Column             Non-Null Count  Dtype   \n",
      "---  ------             --------------  -----   \n",
      " 0   rowid              44 non-null     int64   \n",
      " 1   species            44 non-null     category\n",
      " 2   island             44 non-null     category\n",
      " 3   bill_length_mm     44 non-null     float64 \n",
      " 4   bill_depth_mm      44 non-null     float64 \n",
      " 5   flipper_length_mm  44 non-null     float64 \n",
      " 6   body_mass_g        44 non-null     float64 \n",
      " 7   sex                44 non-null     category\n",
      " 8   year               44 non-null     int64   \n",
      " 9   weight_kg          44 non-null     float64 \n",
      "dtypes: category(3), float64(5), int64(2)\n",
      "memory usage: 3.3 KB\n",
      "\n",
      ">> Dream\n",
      "<class 'pandas.core.frame.DataFrame'>\n",
      "Index: 56 entries, 30 to 151\n",
      "Data columns (total 10 columns):\n",
      " #   Column             Non-Null Count  Dtype   \n",
      "---  ------             --------------  -----   \n",
      " 0   rowid              56 non-null     int64   \n",
      " 1   species            56 non-null     category\n",
      " 2   island             56 non-null     category\n",
      " 3   bill_length_mm     56 non-null     float64 \n",
      " 4   bill_depth_mm      56 non-null     float64 \n",
      " 5   flipper_length_mm  56 non-null     float64 \n",
      " 6   body_mass_g        56 non-null     float64 \n",
      " 7   sex                56 non-null     category\n",
      " 8   year               56 non-null     int64   \n",
      " 9   weight_kg          56 non-null     float64 \n",
      "dtypes: category(3), float64(5), int64(2)\n",
      "memory usage: 4.0 KB\n",
      "\n",
      ">> Torgersen\n",
      "<class 'pandas.core.frame.DataFrame'>\n",
      "Index: 52 entries, 0 to 131\n",
      "Data columns (total 10 columns):\n",
      " #   Column             Non-Null Count  Dtype   \n",
      "---  ------             --------------  -----   \n",
      " 0   rowid              52 non-null     int64   \n",
      " 1   species            52 non-null     category\n",
      " 2   island             52 non-null     category\n",
      " 3   bill_length_mm     52 non-null     float64 \n",
      " 4   bill_depth_mm      52 non-null     float64 \n",
      " 5   flipper_length_mm  52 non-null     float64 \n",
      " 6   body_mass_g        52 non-null     float64 \n",
      " 7   sex                52 non-null     category\n",
      " 8   year               52 non-null     int64   \n",
      " 9   weight_kg          52 non-null     float64 \n",
      "dtypes: category(3), float64(5), int64(2)\n",
      "memory usage: 3.8 KB\n"
     ]
    }
   ],
   "source": [
    "print('>> Biscoe')\n",
    "ibon[(ibon['species'] == 'Adelie') & (ibon['island'] == 'Biscoe')].info()\n",
    "print('\\n>> Dream')\n",
    "ibon[(ibon['species'] == 'Adelie') & (ibon['island'] == 'Dream')].info()\n",
    "print('\\n>> Torgersen')\n",
    "ibon[(ibon['species'] == 'Adelie') & (ibon['island'] == 'Torgersen')].info()"
   ]
  },
  {
   "cell_type": "code",
   "execution_count": 32,
   "id": "301c08bd-dc2f-4c63-a3d4-44d618938ca8",
   "metadata": {},
   "outputs": [
    {
     "name": "stdout",
     "output_type": "stream",
     "text": [
      ">> Biscoe\n",
      "<class 'pandas.core.frame.DataFrame'>\n",
      "Index: 44 entries, 20 to 115\n",
      "Data columns (total 10 columns):\n",
      " #   Column             Non-Null Count  Dtype   \n",
      "---  ------             --------------  -----   \n",
      " 0   rowid              44 non-null     int64   \n",
      " 1   species            44 non-null     category\n",
      " 2   island             44 non-null     category\n",
      " 3   bill_length_mm     44 non-null     float64 \n",
      " 4   bill_depth_mm      44 non-null     float64 \n",
      " 5   flipper_length_mm  44 non-null     float64 \n",
      " 6   body_mass_g        44 non-null     float64 \n",
      " 7   sex                44 non-null     category\n",
      " 8   year               44 non-null     int64   \n",
      " 9   weight_kg          44 non-null     float64 \n",
      "dtypes: category(3), float64(5), int64(2)\n",
      "memory usage: 3.3 KB\n",
      "\n",
      ">> Dream\n",
      "<class 'pandas.core.frame.DataFrame'>\n",
      "Index: 56 entries, 30 to 151\n",
      "Data columns (total 10 columns):\n",
      " #   Column             Non-Null Count  Dtype   \n",
      "---  ------             --------------  -----   \n",
      " 0   rowid              56 non-null     int64   \n",
      " 1   species            56 non-null     category\n",
      " 2   island             56 non-null     category\n",
      " 3   bill_length_mm     56 non-null     float64 \n",
      " 4   bill_depth_mm      56 non-null     float64 \n",
      " 5   flipper_length_mm  56 non-null     float64 \n",
      " 6   body_mass_g        56 non-null     float64 \n",
      " 7   sex                56 non-null     category\n",
      " 8   year               56 non-null     int64   \n",
      " 9   weight_kg          56 non-null     float64 \n",
      "dtypes: category(3), float64(5), int64(2)\n",
      "memory usage: 4.0 KB\n",
      "\n",
      ">> Torgersen\n",
      "<class 'pandas.core.frame.DataFrame'>\n",
      "Index: 52 entries, 0 to 131\n",
      "Data columns (total 10 columns):\n",
      " #   Column             Non-Null Count  Dtype   \n",
      "---  ------             --------------  -----   \n",
      " 0   rowid              52 non-null     int64   \n",
      " 1   species            52 non-null     category\n",
      " 2   island             52 non-null     category\n",
      " 3   bill_length_mm     52 non-null     float64 \n",
      " 4   bill_depth_mm      52 non-null     float64 \n",
      " 5   flipper_length_mm  52 non-null     float64 \n",
      " 6   body_mass_g        52 non-null     float64 \n",
      " 7   sex                52 non-null     category\n",
      " 8   year               52 non-null     int64   \n",
      " 9   weight_kg          52 non-null     float64 \n",
      "dtypes: category(3), float64(5), int64(2)\n",
      "memory usage: 3.8 KB\n"
     ]
    }
   ],
   "source": [
    "print('>> Biscoe')\n",
    "ibon_biscoe = ibon[(ibon['species'] == 'Adelie') & (ibon['island'] == 'Biscoe')].info()\n",
    "print('\\n>> Dream')\n",
    "ibon_dream = ibon[(ibon['species'] == 'Adelie') & (ibon['island'] == 'Dream')].info()\n",
    "print('\\n>> Torgersen')\n",
    "ibon_torgersen = ibon[(ibon['species'] == 'Adelie') & (ibon['island'] == 'Torgersen')].info()"
   ]
  },
  {
   "cell_type": "code",
   "execution_count": 33,
   "id": "7a2264f3-7914-4184-bc02-e92870941c07",
   "metadata": {},
   "outputs": [],
   "source": [
    "ibon_biscoe = ibon[(ibon['species'] == 'Adelie') & (ibon['island'] == 'Biscoe')]\n",
    "ibon_dream = ibon[(ibon['species'] == 'Adelie') & (ibon['island'] == 'Dream')]\n",
    "ibon_torgersen = ibon[(ibon['species'] == 'Adelie') & (ibon['island'] == 'Torgersen')]"
   ]
  },
  {
   "cell_type": "code",
   "execution_count": 34,
   "id": "6c0b4921-7d40-4b04-9393-8efb7f0b136e",
   "metadata": {},
   "outputs": [
    {
     "name": "stdout",
     "output_type": "stream",
     "text": [
      ">> Biscoe\n"
     ]
    },
    {
     "data": {
      "text/plain": [
       "3.7"
      ]
     },
     "execution_count": 34,
     "metadata": {},
     "output_type": "execute_result"
    }
   ],
   "source": [
    "print('>> Biscoe')\n",
    "np.round(ibon_biscoe['weight_kg'].mean(), 1)"
   ]
  },
  {
   "cell_type": "code",
   "execution_count": 35,
   "id": "991aac34-5c5e-41a7-8077-79e58df153d3",
   "metadata": {},
   "outputs": [
    {
     "name": "stdout",
     "output_type": "stream",
     "text": [
      "\n",
      ">> Dream\n"
     ]
    },
    {
     "data": {
      "text/plain": [
       "3.7"
      ]
     },
     "execution_count": 35,
     "metadata": {},
     "output_type": "execute_result"
    }
   ],
   "source": [
    "print('\\n>> Dream')\n",
    "np.round(ibon_dream['weight_kg'].mean(), 1)"
   ]
  },
  {
   "cell_type": "code",
   "execution_count": 36,
   "id": "e4ae9dd0-1462-4dfb-b101-9ffb4e1e0936",
   "metadata": {},
   "outputs": [
    {
     "name": "stdout",
     "output_type": "stream",
     "text": [
      "\n",
      ">> Torgersen\n"
     ]
    },
    {
     "data": {
      "text/plain": [
       "3.7"
      ]
     },
     "execution_count": 36,
     "metadata": {},
     "output_type": "execute_result"
    }
   ],
   "source": [
    "print('\\n>> Torgersen')\n",
    "np.round(ibon_torgersen['weight_kg'].mean(), 1)"
   ]
  },
  {
   "cell_type": "code",
   "execution_count": 37,
   "id": "47a5015f-d136-4bf2-a0a3-79b105601f64",
   "metadata": {},
   "outputs": [
    {
     "data": {
      "text/html": [
       "<div>\n",
       "<style scoped>\n",
       "    .dataframe tbody tr th:only-of-type {\n",
       "        vertical-align: middle;\n",
       "    }\n",
       "\n",
       "    .dataframe tbody tr th {\n",
       "        vertical-align: top;\n",
       "    }\n",
       "\n",
       "    .dataframe thead th {\n",
       "        text-align: right;\n",
       "    }\n",
       "</style>\n",
       "<table border=\"1\" class=\"dataframe\">\n",
       "  <thead>\n",
       "    <tr style=\"text-align: right;\">\n",
       "      <th></th>\n",
       "      <th>rowid</th>\n",
       "      <th>species</th>\n",
       "      <th>island</th>\n",
       "      <th>bill_length_mm</th>\n",
       "      <th>bill_depth_mm</th>\n",
       "      <th>flipper_length_mm</th>\n",
       "      <th>body_mass_g</th>\n",
       "      <th>sex</th>\n",
       "      <th>year</th>\n",
       "      <th>weight_kg</th>\n",
       "    </tr>\n",
       "  </thead>\n",
       "  <tbody>\n",
       "    <tr>\n",
       "      <th>0</th>\n",
       "      <td>1</td>\n",
       "      <td>Adelie</td>\n",
       "      <td>Torgersen</td>\n",
       "      <td>39.10000</td>\n",
       "      <td>18.70000</td>\n",
       "      <td>181.000000</td>\n",
       "      <td>3750.000000</td>\n",
       "      <td>male</td>\n",
       "      <td>2007</td>\n",
       "      <td>3.800000</td>\n",
       "    </tr>\n",
       "    <tr>\n",
       "      <th>1</th>\n",
       "      <td>2</td>\n",
       "      <td>Adelie</td>\n",
       "      <td>Torgersen</td>\n",
       "      <td>39.50000</td>\n",
       "      <td>17.40000</td>\n",
       "      <td>186.000000</td>\n",
       "      <td>3800.000000</td>\n",
       "      <td>female</td>\n",
       "      <td>2007</td>\n",
       "      <td>3.800000</td>\n",
       "    </tr>\n",
       "    <tr>\n",
       "      <th>2</th>\n",
       "      <td>3</td>\n",
       "      <td>Adelie</td>\n",
       "      <td>Torgersen</td>\n",
       "      <td>40.30000</td>\n",
       "      <td>18.00000</td>\n",
       "      <td>195.000000</td>\n",
       "      <td>3250.000000</td>\n",
       "      <td>female</td>\n",
       "      <td>2007</td>\n",
       "      <td>3.200000</td>\n",
       "    </tr>\n",
       "    <tr>\n",
       "      <th>3</th>\n",
       "      <td>4</td>\n",
       "      <td>Adelie</td>\n",
       "      <td>Torgersen</td>\n",
       "      <td>43.92193</td>\n",
       "      <td>17.15117</td>\n",
       "      <td>200.915205</td>\n",
       "      <td>4201.754386</td>\n",
       "      <td>male</td>\n",
       "      <td>2007</td>\n",
       "      <td>4.202047</td>\n",
       "    </tr>\n",
       "    <tr>\n",
       "      <th>4</th>\n",
       "      <td>5</td>\n",
       "      <td>Adelie</td>\n",
       "      <td>Torgersen</td>\n",
       "      <td>36.70000</td>\n",
       "      <td>19.30000</td>\n",
       "      <td>193.000000</td>\n",
       "      <td>3450.000000</td>\n",
       "      <td>female</td>\n",
       "      <td>2007</td>\n",
       "      <td>3.400000</td>\n",
       "    </tr>\n",
       "    <tr>\n",
       "      <th>...</th>\n",
       "      <td>...</td>\n",
       "      <td>...</td>\n",
       "      <td>...</td>\n",
       "      <td>...</td>\n",
       "      <td>...</td>\n",
       "      <td>...</td>\n",
       "      <td>...</td>\n",
       "      <td>...</td>\n",
       "      <td>...</td>\n",
       "      <td>...</td>\n",
       "    </tr>\n",
       "    <tr>\n",
       "      <th>339</th>\n",
       "      <td>340</td>\n",
       "      <td>Chinstrap</td>\n",
       "      <td>Dream</td>\n",
       "      <td>55.80000</td>\n",
       "      <td>19.80000</td>\n",
       "      <td>207.000000</td>\n",
       "      <td>4000.000000</td>\n",
       "      <td>male</td>\n",
       "      <td>2009</td>\n",
       "      <td>4.000000</td>\n",
       "    </tr>\n",
       "    <tr>\n",
       "      <th>340</th>\n",
       "      <td>341</td>\n",
       "      <td>Chinstrap</td>\n",
       "      <td>Dream</td>\n",
       "      <td>43.50000</td>\n",
       "      <td>18.10000</td>\n",
       "      <td>202.000000</td>\n",
       "      <td>3400.000000</td>\n",
       "      <td>female</td>\n",
       "      <td>2009</td>\n",
       "      <td>3.400000</td>\n",
       "    </tr>\n",
       "    <tr>\n",
       "      <th>341</th>\n",
       "      <td>342</td>\n",
       "      <td>Chinstrap</td>\n",
       "      <td>Dream</td>\n",
       "      <td>49.60000</td>\n",
       "      <td>18.20000</td>\n",
       "      <td>193.000000</td>\n",
       "      <td>3775.000000</td>\n",
       "      <td>male</td>\n",
       "      <td>2009</td>\n",
       "      <td>3.800000</td>\n",
       "    </tr>\n",
       "    <tr>\n",
       "      <th>342</th>\n",
       "      <td>343</td>\n",
       "      <td>Chinstrap</td>\n",
       "      <td>Dream</td>\n",
       "      <td>50.80000</td>\n",
       "      <td>19.00000</td>\n",
       "      <td>210.000000</td>\n",
       "      <td>4100.000000</td>\n",
       "      <td>male</td>\n",
       "      <td>2009</td>\n",
       "      <td>4.100000</td>\n",
       "    </tr>\n",
       "    <tr>\n",
       "      <th>343</th>\n",
       "      <td>344</td>\n",
       "      <td>Chinstrap</td>\n",
       "      <td>Dream</td>\n",
       "      <td>50.20000</td>\n",
       "      <td>18.70000</td>\n",
       "      <td>198.000000</td>\n",
       "      <td>3775.000000</td>\n",
       "      <td>female</td>\n",
       "      <td>2009</td>\n",
       "      <td>3.800000</td>\n",
       "    </tr>\n",
       "  </tbody>\n",
       "</table>\n",
       "<p>344 rows × 10 columns</p>\n",
       "</div>"
      ],
      "text/plain": [
       "     rowid    species     island  bill_length_mm  bill_depth_mm  \\\n",
       "0        1     Adelie  Torgersen        39.10000       18.70000   \n",
       "1        2     Adelie  Torgersen        39.50000       17.40000   \n",
       "2        3     Adelie  Torgersen        40.30000       18.00000   \n",
       "3        4     Adelie  Torgersen        43.92193       17.15117   \n",
       "4        5     Adelie  Torgersen        36.70000       19.30000   \n",
       "..     ...        ...        ...             ...            ...   \n",
       "339    340  Chinstrap      Dream        55.80000       19.80000   \n",
       "340    341  Chinstrap      Dream        43.50000       18.10000   \n",
       "341    342  Chinstrap      Dream        49.60000       18.20000   \n",
       "342    343  Chinstrap      Dream        50.80000       19.00000   \n",
       "343    344  Chinstrap      Dream        50.20000       18.70000   \n",
       "\n",
       "     flipper_length_mm  body_mass_g     sex  year  weight_kg  \n",
       "0           181.000000  3750.000000    male  2007   3.800000  \n",
       "1           186.000000  3800.000000  female  2007   3.800000  \n",
       "2           195.000000  3250.000000  female  2007   3.200000  \n",
       "3           200.915205  4201.754386    male  2007   4.202047  \n",
       "4           193.000000  3450.000000  female  2007   3.400000  \n",
       "..                 ...          ...     ...   ...        ...  \n",
       "339         207.000000  4000.000000    male  2009   4.000000  \n",
       "340         202.000000  3400.000000  female  2009   3.400000  \n",
       "341         193.000000  3775.000000    male  2009   3.800000  \n",
       "342         210.000000  4100.000000    male  2009   4.100000  \n",
       "343         198.000000  3775.000000  female  2009   3.800000  \n",
       "\n",
       "[344 rows x 10 columns]"
      ]
     },
     "execution_count": 37,
     "metadata": {},
     "output_type": "execute_result"
    }
   ],
   "source": [
    "ibon"
   ]
  },
  {
   "cell_type": "markdown",
   "id": "4b6462f7-7228-4d23-9b60-745b928ca65f",
   "metadata": {},
   "source": [
    "<h1>Residence of specie per island</h1>\n",
    "<h1>INSIGHT #1</h1>"
   ]
  },
  {
   "cell_type": "code",
   "execution_count": 38,
   "id": "0db81049-8633-45bc-88ea-529bc173bfb4",
   "metadata": {},
   "outputs": [
    {
     "data": {
      "text/plain": [
       "island\n",
       "Dream        68\n",
       "Biscoe        0\n",
       "Torgersen     0\n",
       "Name: count, dtype: int64"
      ]
     },
     "execution_count": 38,
     "metadata": {},
     "output_type": "execute_result"
    }
   ],
   "source": [
    "chin = ibon[ibon['species'] == 'Chinstrap']\n",
    "chin['island'].value_counts()"
   ]
  },
  {
   "cell_type": "markdown",
   "id": "85fcebf5-661a-4fd0-b726-669c8c86760b",
   "metadata": {},
   "source": [
    "<h1>There is 68 Chinstrap penguins in Dream and none to Biscoe and Torgersen</h1>"
   ]
  },
  {
   "cell_type": "markdown",
   "id": "59ccfcfd-1776-407c-b944-80aff104170f",
   "metadata": {},
   "source": [
    "<h1>INSIGHT #2</h1>"
   ]
  },
  {
   "cell_type": "code",
   "execution_count": 39,
   "id": "ee834abd-4095-4a15-a1d5-b0fe66428f47",
   "metadata": {},
   "outputs": [
    {
     "data": {
      "text/plain": [
       "island\n",
       "Biscoe       124\n",
       "Dream          0\n",
       "Torgersen      0\n",
       "Name: count, dtype: int64"
      ]
     },
     "execution_count": 39,
     "metadata": {},
     "output_type": "execute_result"
    }
   ],
   "source": [
    "gen = ibon[ibon['species'] == 'Gentoo']\n",
    "gen['island'].value_counts()"
   ]
  },
  {
   "cell_type": "markdown",
   "id": "b6888b3d-1e1c-4988-9ae1-c065bc2df81e",
   "metadata": {},
   "source": [
    "<h1>There is 124 Gentoo penguins in Biscoe and none to Dream and Torgersen</h1>"
   ]
  },
  {
   "cell_type": "markdown",
   "id": "f4637946-3861-421f-a378-80586c619e99",
   "metadata": {},
   "source": [
    "<h1>INSIGHT #3</h1>"
   ]
  },
  {
   "cell_type": "code",
   "execution_count": 40,
   "id": "dbf4bdd7-9f02-41df-b48c-7519bfaedbde",
   "metadata": {},
   "outputs": [
    {
     "data": {
      "text/plain": [
       "island\n",
       "Dream        56\n",
       "Torgersen    52\n",
       "Biscoe       44\n",
       "Name: count, dtype: int64"
      ]
     },
     "execution_count": 40,
     "metadata": {},
     "output_type": "execute_result"
    }
   ],
   "source": [
    "ade = ibon[ibon['species'] == 'Adelie']\n",
    "ade['island'].value_counts()"
   ]
  },
  {
   "cell_type": "markdown",
   "id": "3668df6c-62da-43d7-b3d9-3b1a722f8c36",
   "metadata": {},
   "source": [
    "<h1>There is 44 Gentoo penguins in Biscoe and 56 to Dream and 52 in Torgersen</h1>"
   ]
  },
  {
   "cell_type": "markdown",
   "id": "be191079-d79c-4e07-9cb6-c14e7d56a30c",
   "metadata": {},
   "source": [
    "<h1>INSIGHT #4</h1>\n",
    "<h1>Average weight in kg of species Chinstrap in every island</h1>"
   ]
  },
  {
   "cell_type": "code",
   "execution_count": 41,
   "id": "d9ed523c-eeff-4825-9d65-dee0d28e1642",
   "metadata": {},
   "outputs": [],
   "source": [
    "chin_dream = ibon[(ibon['island'] == 'Dream') & (ibon['species'] == 'Chinstrap')]"
   ]
  },
  {
   "cell_type": "code",
   "execution_count": 42,
   "id": "b14e92d0-dec5-4c2b-a43f-de1b3ea9dd8f",
   "metadata": {},
   "outputs": [
    {
     "data": {
      "text/plain": [
       "3.7"
      ]
     },
     "execution_count": 42,
     "metadata": {},
     "output_type": "execute_result"
    }
   ],
   "source": [
    "np.round(chin_dream['weight_kg'].mean(), 1)"
   ]
  },
  {
   "cell_type": "markdown",
   "id": "cba5ac24-b4e3-47c5-b8d3-7785072815d0",
   "metadata": {},
   "source": [
    "<h1>The average weight in kg of Chinstrap in Dream Island is 3.7</h1>"
   ]
  },
  {
   "cell_type": "markdown",
   "id": "643d0c87-8695-4250-94c0-299d8f908cc5",
   "metadata": {},
   "source": [
    "<h1>INSIGHT #5</h1>\n",
    "<h1>Average weight in kg of species Adelie in every island</h1>"
   ]
  },
  {
   "cell_type": "code",
   "execution_count": 43,
   "id": "b2b04209-87e8-4758-8ed5-9cc4ab06248f",
   "metadata": {},
   "outputs": [],
   "source": [
    "ade_biscoe = ibon[(ibon['island'] == 'Biscoe') & (ibon['species'] == 'Adelie')]\n",
    "ade_torgersen = ibon[(ibon['island'] == 'Torgersen') & (ibon['species'] == 'Adelie')]\n",
    "ade_dream = ibon[(ibon['island'] == 'Dream') & (ibon['species'] == 'Adelie')]"
   ]
  },
  {
   "cell_type": "code",
   "execution_count": 44,
   "id": "4dd4f5cb-223e-45b6-9723-f7c5bc712bc0",
   "metadata": {},
   "outputs": [
    {
     "data": {
      "text/plain": [
       "3.7"
      ]
     },
     "execution_count": 44,
     "metadata": {},
     "output_type": "execute_result"
    }
   ],
   "source": [
    "np.round(ade_biscoe['weight_kg'].mean(), 1)"
   ]
  },
  {
   "cell_type": "code",
   "execution_count": 45,
   "id": "7b1a4019-ee80-4a3e-b0f0-ded1bcbc7b1e",
   "metadata": {},
   "outputs": [
    {
     "data": {
      "text/plain": [
       "3.7"
      ]
     },
     "execution_count": 45,
     "metadata": {},
     "output_type": "execute_result"
    }
   ],
   "source": [
    "np.round(ade_torgersen['weight_kg'].mean(), 1)"
   ]
  },
  {
   "cell_type": "code",
   "execution_count": 46,
   "id": "16c71d4c-74d7-4674-8997-2b7ec34c93ee",
   "metadata": {},
   "outputs": [
    {
     "data": {
      "text/plain": [
       "3.7"
      ]
     },
     "execution_count": 46,
     "metadata": {},
     "output_type": "execute_result"
    }
   ],
   "source": [
    "np.round(ade_dream['weight_kg'].mean(), 1)"
   ]
  },
  {
   "cell_type": "markdown",
   "id": "06d417d3-03f3-4713-ad10-2eab6ac2bd9a",
   "metadata": {},
   "source": [
    "<h1>The average weight in kg of Adelie in every Island is 3.7</h1>"
   ]
  },
  {
   "cell_type": "markdown",
   "id": "5e3b6210-125c-4efc-a89b-456999347618",
   "metadata": {},
   "source": [
    "<h1>INSIGHT #6</h1>\n",
    "<h1>Average weight in kg of species Gentoo in every island</h1>"
   ]
  },
  {
   "cell_type": "code",
   "execution_count": 47,
   "id": "539a0793-bcfe-4824-8a78-a4981b5b4aab",
   "metadata": {},
   "outputs": [],
   "source": [
    "gen_biscoe = ibon[(ibon['island'] == 'Biscoe') & (ibon['species'] == 'Gentoo')]"
   ]
  },
  {
   "cell_type": "code",
   "execution_count": 48,
   "id": "daa89f98-5d68-4cd6-a665-1af00d3c19eb",
   "metadata": {},
   "outputs": [
    {
     "data": {
      "text/plain": [
       "5.1"
      ]
     },
     "execution_count": 48,
     "metadata": {},
     "output_type": "execute_result"
    }
   ],
   "source": [
    "np.round(gen_biscoe['weight_kg'].mean(), 1)"
   ]
  },
  {
   "cell_type": "markdown",
   "id": "08a29733-c609-4f31-932c-938087c8a159",
   "metadata": {},
   "source": [
    "<h1>The average weight in kg of Gentoo in Biscoe Island is 5.1</h1>"
   ]
  },
  {
   "cell_type": "markdown",
   "id": "571d744e-5957-4470-bb22-5dd13e74e2c0",
   "metadata": {},
   "source": [
    "<h1>INSIGHT #7</h1>\n",
    "<h1>The heaviest specie.</h1>"
   ]
  },
  {
   "cell_type": "code",
   "execution_count": 49,
   "id": "e06c3cd5-9e08-4f2e-bfc8-0842bb4b08ae",
   "metadata": {},
   "outputs": [
    {
     "data": {
      "text/plain": [
       "5.1"
      ]
     },
     "execution_count": 49,
     "metadata": {},
     "output_type": "execute_result"
    }
   ],
   "source": [
    "gen_biscoe = ibon[(ibon['island'] == 'Biscoe') & (ibon['species'] == 'Gentoo')]\n",
    "np.round(gen_biscoe['weight_kg'].mean(), 1)"
   ]
  },
  {
   "cell_type": "markdown",
   "id": "d9c87adf-7fe5-41b9-8c60-fa4de28e5361",
   "metadata": {},
   "source": [
    "<h1>The heaviest specie is Gentoo in Biscoe Island with average of 5.1kg.</h1>"
   ]
  },
  {
   "cell_type": "markdown",
   "id": "6634f38b-4436-4222-8dd7-74c0222baf5a",
   "metadata": {},
   "source": [
    "<h1>INSIGHT #8</h1>\n",
    "<h1>The use of .groupby function</h1>"
   ]
  },
  {
   "cell_type": "code",
   "execution_count": 50,
   "id": "e78a70ba-ecab-47b5-b0fa-64800459a43e",
   "metadata": {},
   "outputs": [
    {
     "name": "stderr",
     "output_type": "stream",
     "text": [
      "C:\\Users\\User\\AppData\\Local\\Temp\\ipykernel_5600\\3372943492.py:1: FutureWarning: The default of observed=False is deprecated and will be changed to True in a future version of pandas. Pass observed=False to retain current behavior or observed=True to adopt the future default and silence this warning.\n",
      "  ibon_insight8 = ibon.groupby(['species', 'island', 'sex']).count()\n"
     ]
    },
    {
     "data": {
      "text/html": [
       "<div>\n",
       "<style scoped>\n",
       "    .dataframe tbody tr th:only-of-type {\n",
       "        vertical-align: middle;\n",
       "    }\n",
       "\n",
       "    .dataframe tbody tr th {\n",
       "        vertical-align: top;\n",
       "    }\n",
       "\n",
       "    .dataframe thead th {\n",
       "        text-align: right;\n",
       "    }\n",
       "</style>\n",
       "<table border=\"1\" class=\"dataframe\">\n",
       "  <thead>\n",
       "    <tr style=\"text-align: right;\">\n",
       "      <th></th>\n",
       "      <th></th>\n",
       "      <th></th>\n",
       "      <th>rowid</th>\n",
       "      <th>bill_length_mm</th>\n",
       "      <th>bill_depth_mm</th>\n",
       "      <th>flipper_length_mm</th>\n",
       "      <th>body_mass_g</th>\n",
       "      <th>year</th>\n",
       "      <th>weight_kg</th>\n",
       "    </tr>\n",
       "    <tr>\n",
       "      <th>species</th>\n",
       "      <th>island</th>\n",
       "      <th>sex</th>\n",
       "      <th></th>\n",
       "      <th></th>\n",
       "      <th></th>\n",
       "      <th></th>\n",
       "      <th></th>\n",
       "      <th></th>\n",
       "      <th></th>\n",
       "    </tr>\n",
       "  </thead>\n",
       "  <tbody>\n",
       "    <tr>\n",
       "      <th rowspan=\"6\" valign=\"top\">Adelie</th>\n",
       "      <th rowspan=\"2\" valign=\"top\">Biscoe</th>\n",
       "      <th>female</th>\n",
       "      <td>22</td>\n",
       "      <td>22</td>\n",
       "      <td>22</td>\n",
       "      <td>22</td>\n",
       "      <td>22</td>\n",
       "      <td>22</td>\n",
       "      <td>22</td>\n",
       "    </tr>\n",
       "    <tr>\n",
       "      <th>male</th>\n",
       "      <td>22</td>\n",
       "      <td>22</td>\n",
       "      <td>22</td>\n",
       "      <td>22</td>\n",
       "      <td>22</td>\n",
       "      <td>22</td>\n",
       "      <td>22</td>\n",
       "    </tr>\n",
       "    <tr>\n",
       "      <th rowspan=\"2\" valign=\"top\">Dream</th>\n",
       "      <th>female</th>\n",
       "      <td>27</td>\n",
       "      <td>27</td>\n",
       "      <td>27</td>\n",
       "      <td>27</td>\n",
       "      <td>27</td>\n",
       "      <td>27</td>\n",
       "      <td>27</td>\n",
       "    </tr>\n",
       "    <tr>\n",
       "      <th>male</th>\n",
       "      <td>29</td>\n",
       "      <td>29</td>\n",
       "      <td>29</td>\n",
       "      <td>29</td>\n",
       "      <td>29</td>\n",
       "      <td>29</td>\n",
       "      <td>29</td>\n",
       "    </tr>\n",
       "    <tr>\n",
       "      <th rowspan=\"2\" valign=\"top\">Torgersen</th>\n",
       "      <th>female</th>\n",
       "      <td>24</td>\n",
       "      <td>24</td>\n",
       "      <td>24</td>\n",
       "      <td>24</td>\n",
       "      <td>24</td>\n",
       "      <td>24</td>\n",
       "      <td>24</td>\n",
       "    </tr>\n",
       "    <tr>\n",
       "      <th>male</th>\n",
       "      <td>28</td>\n",
       "      <td>28</td>\n",
       "      <td>28</td>\n",
       "      <td>28</td>\n",
       "      <td>28</td>\n",
       "      <td>28</td>\n",
       "      <td>28</td>\n",
       "    </tr>\n",
       "    <tr>\n",
       "      <th rowspan=\"6\" valign=\"top\">Chinstrap</th>\n",
       "      <th rowspan=\"2\" valign=\"top\">Biscoe</th>\n",
       "      <th>female</th>\n",
       "      <td>0</td>\n",
       "      <td>0</td>\n",
       "      <td>0</td>\n",
       "      <td>0</td>\n",
       "      <td>0</td>\n",
       "      <td>0</td>\n",
       "      <td>0</td>\n",
       "    </tr>\n",
       "    <tr>\n",
       "      <th>male</th>\n",
       "      <td>0</td>\n",
       "      <td>0</td>\n",
       "      <td>0</td>\n",
       "      <td>0</td>\n",
       "      <td>0</td>\n",
       "      <td>0</td>\n",
       "      <td>0</td>\n",
       "    </tr>\n",
       "    <tr>\n",
       "      <th rowspan=\"2\" valign=\"top\">Dream</th>\n",
       "      <th>female</th>\n",
       "      <td>34</td>\n",
       "      <td>34</td>\n",
       "      <td>34</td>\n",
       "      <td>34</td>\n",
       "      <td>34</td>\n",
       "      <td>34</td>\n",
       "      <td>34</td>\n",
       "    </tr>\n",
       "    <tr>\n",
       "      <th>male</th>\n",
       "      <td>34</td>\n",
       "      <td>34</td>\n",
       "      <td>34</td>\n",
       "      <td>34</td>\n",
       "      <td>34</td>\n",
       "      <td>34</td>\n",
       "      <td>34</td>\n",
       "    </tr>\n",
       "    <tr>\n",
       "      <th rowspan=\"2\" valign=\"top\">Torgersen</th>\n",
       "      <th>female</th>\n",
       "      <td>0</td>\n",
       "      <td>0</td>\n",
       "      <td>0</td>\n",
       "      <td>0</td>\n",
       "      <td>0</td>\n",
       "      <td>0</td>\n",
       "      <td>0</td>\n",
       "    </tr>\n",
       "    <tr>\n",
       "      <th>male</th>\n",
       "      <td>0</td>\n",
       "      <td>0</td>\n",
       "      <td>0</td>\n",
       "      <td>0</td>\n",
       "      <td>0</td>\n",
       "      <td>0</td>\n",
       "      <td>0</td>\n",
       "    </tr>\n",
       "    <tr>\n",
       "      <th rowspan=\"6\" valign=\"top\">Gentoo</th>\n",
       "      <th rowspan=\"2\" valign=\"top\">Biscoe</th>\n",
       "      <th>female</th>\n",
       "      <td>58</td>\n",
       "      <td>58</td>\n",
       "      <td>58</td>\n",
       "      <td>58</td>\n",
       "      <td>58</td>\n",
       "      <td>58</td>\n",
       "      <td>58</td>\n",
       "    </tr>\n",
       "    <tr>\n",
       "      <th>male</th>\n",
       "      <td>66</td>\n",
       "      <td>66</td>\n",
       "      <td>66</td>\n",
       "      <td>66</td>\n",
       "      <td>66</td>\n",
       "      <td>66</td>\n",
       "      <td>66</td>\n",
       "    </tr>\n",
       "    <tr>\n",
       "      <th rowspan=\"2\" valign=\"top\">Dream</th>\n",
       "      <th>female</th>\n",
       "      <td>0</td>\n",
       "      <td>0</td>\n",
       "      <td>0</td>\n",
       "      <td>0</td>\n",
       "      <td>0</td>\n",
       "      <td>0</td>\n",
       "      <td>0</td>\n",
       "    </tr>\n",
       "    <tr>\n",
       "      <th>male</th>\n",
       "      <td>0</td>\n",
       "      <td>0</td>\n",
       "      <td>0</td>\n",
       "      <td>0</td>\n",
       "      <td>0</td>\n",
       "      <td>0</td>\n",
       "      <td>0</td>\n",
       "    </tr>\n",
       "    <tr>\n",
       "      <th rowspan=\"2\" valign=\"top\">Torgersen</th>\n",
       "      <th>female</th>\n",
       "      <td>0</td>\n",
       "      <td>0</td>\n",
       "      <td>0</td>\n",
       "      <td>0</td>\n",
       "      <td>0</td>\n",
       "      <td>0</td>\n",
       "      <td>0</td>\n",
       "    </tr>\n",
       "    <tr>\n",
       "      <th>male</th>\n",
       "      <td>0</td>\n",
       "      <td>0</td>\n",
       "      <td>0</td>\n",
       "      <td>0</td>\n",
       "      <td>0</td>\n",
       "      <td>0</td>\n",
       "      <td>0</td>\n",
       "    </tr>\n",
       "  </tbody>\n",
       "</table>\n",
       "</div>"
      ],
      "text/plain": [
       "                            rowid  bill_length_mm  bill_depth_mm  \\\n",
       "species   island    sex                                            \n",
       "Adelie    Biscoe    female     22              22             22   \n",
       "                    male       22              22             22   \n",
       "          Dream     female     27              27             27   \n",
       "                    male       29              29             29   \n",
       "          Torgersen female     24              24             24   \n",
       "                    male       28              28             28   \n",
       "Chinstrap Biscoe    female      0               0              0   \n",
       "                    male        0               0              0   \n",
       "          Dream     female     34              34             34   \n",
       "                    male       34              34             34   \n",
       "          Torgersen female      0               0              0   \n",
       "                    male        0               0              0   \n",
       "Gentoo    Biscoe    female     58              58             58   \n",
       "                    male       66              66             66   \n",
       "          Dream     female      0               0              0   \n",
       "                    male        0               0              0   \n",
       "          Torgersen female      0               0              0   \n",
       "                    male        0               0              0   \n",
       "\n",
       "                            flipper_length_mm  body_mass_g  year  weight_kg  \n",
       "species   island    sex                                                      \n",
       "Adelie    Biscoe    female                 22           22    22         22  \n",
       "                    male                   22           22    22         22  \n",
       "          Dream     female                 27           27    27         27  \n",
       "                    male                   29           29    29         29  \n",
       "          Torgersen female                 24           24    24         24  \n",
       "                    male                   28           28    28         28  \n",
       "Chinstrap Biscoe    female                  0            0     0          0  \n",
       "                    male                    0            0     0          0  \n",
       "          Dream     female                 34           34    34         34  \n",
       "                    male                   34           34    34         34  \n",
       "          Torgersen female                  0            0     0          0  \n",
       "                    male                    0            0     0          0  \n",
       "Gentoo    Biscoe    female                 58           58    58         58  \n",
       "                    male                   66           66    66         66  \n",
       "          Dream     female                  0            0     0          0  \n",
       "                    male                    0            0     0          0  \n",
       "          Torgersen female                  0            0     0          0  \n",
       "                    male                    0            0     0          0  "
      ]
     },
     "execution_count": 50,
     "metadata": {},
     "output_type": "execute_result"
    }
   ],
   "source": [
    "ibon_insight8 = ibon.groupby(['species', 'island', 'sex']).count()\n",
    "ibon_insight8"
   ]
  },
  {
   "cell_type": "markdown",
   "id": "59fae9b9-a6e4-4b10-b343-01f3ffa9a033",
   "metadata": {},
   "source": [
    "<h1>Shows the use of .groupby() function.</h1>"
   ]
  },
  {
   "cell_type": "code",
   "execution_count": 51,
   "id": "49ecc23b-c1f6-4428-bbda-63152a1fb26e",
   "metadata": {},
   "outputs": [
    {
     "name": "stderr",
     "output_type": "stream",
     "text": [
      "C:\\Users\\User\\AppData\\Local\\Temp\\ipykernel_5600\\2813697338.py:1: FutureWarning: The default of observed=False is deprecated and will be changed to True in a future version of pandas. Pass observed=False to retain current behavior or observed=True to adopt the future default and silence this warning.\n",
      "  ibon_insight8 = ibon.groupby(['species', 'island', 'sex', 'year']).size()\n"
     ]
    },
    {
     "data": {
      "text/plain": [
       "species    island     sex     year\n",
       "Adelie     Biscoe     female  2007     5\n",
       "                              2008     9\n",
       "                              2009     8\n",
       "                      male    2007     5\n",
       "                              2008     9\n",
       "                              2009     8\n",
       "           Dream      female  2007     9\n",
       "                              2008     8\n",
       "                              2009    10\n",
       "                      male    2007    11\n",
       "                              2008     8\n",
       "                              2009    10\n",
       "           Torgersen  female  2007     8\n",
       "                              2008     8\n",
       "                              2009     8\n",
       "                      male    2007    12\n",
       "                              2008     8\n",
       "                              2009     8\n",
       "Chinstrap  Biscoe     female  2007     0\n",
       "                              2008     0\n",
       "                              2009     0\n",
       "                      male    2007     0\n",
       "                              2008     0\n",
       "                              2009     0\n",
       "           Dream      female  2007    13\n",
       "                              2008     9\n",
       "                              2009    12\n",
       "                      male    2007    13\n",
       "                              2008     9\n",
       "                              2009    12\n",
       "           Torgersen  female  2007     0\n",
       "                              2008     0\n",
       "                              2009     0\n",
       "                      male    2007     0\n",
       "                              2008     0\n",
       "                              2009     0\n",
       "Gentoo     Biscoe     female  2007    16\n",
       "                              2008    22\n",
       "                              2009    20\n",
       "                      male    2007    18\n",
       "                              2008    24\n",
       "                              2009    24\n",
       "           Dream      female  2007     0\n",
       "                              2008     0\n",
       "                              2009     0\n",
       "                      male    2007     0\n",
       "                              2008     0\n",
       "                              2009     0\n",
       "           Torgersen  female  2007     0\n",
       "                              2008     0\n",
       "                              2009     0\n",
       "                      male    2007     0\n",
       "                              2008     0\n",
       "                              2009     0\n",
       "dtype: int64"
      ]
     },
     "execution_count": 51,
     "metadata": {},
     "output_type": "execute_result"
    }
   ],
   "source": [
    "ibon_insight8 = ibon.groupby(['species', 'island', 'sex', 'year']).size()\n",
    "ibon_insight8"
   ]
  },
  {
   "cell_type": "markdown",
   "id": "c44d6747-db99-4d2b-985e-9cf26333188d",
   "metadata": {},
   "source": [
    "<h1>The use of .size() in group data, using .groupby()</h1>"
   ]
  },
  {
   "cell_type": "markdown",
   "id": "63cd6bb7-54df-4b2a-ab92-f0e15248f4e7",
   "metadata": {},
   "source": [
    "<h1>INSIGHT #9</h1>\n",
    "<h1>Which is hevier amongst the penguin specie, Male Or Famale?</h1>"
   ]
  },
  {
   "cell_type": "code",
   "execution_count": 52,
   "id": "3cacd1e9-30f0-45a0-a59f-4d311add0c05",
   "metadata": {},
   "outputs": [
    {
     "name": "stderr",
     "output_type": "stream",
     "text": [
      "C:\\Users\\User\\AppData\\Local\\Temp\\ipykernel_5600\\2071395540.py:1: FutureWarning: The default of observed=False is deprecated and will be changed to True in a future version of pandas. Pass observed=False to retain current behavior or observed=True to adopt the future default and silence this warning.\n",
      "  ibon_insight8 = np.round(ibon.groupby(['species', 'sex', 'year'])['weight_kg'].mean(), 1)\n"
     ]
    },
    {
     "data": {
      "text/plain": [
       "species    sex     year\n",
       "Adelie     female  2007    3.4\n",
       "                   2008    3.4\n",
       "                   2009    3.3\n",
       "           male    2007    4.0\n",
       "                   2008    4.1\n",
       "                   2009    4.0\n",
       "Chinstrap  female  2007    3.6\n",
       "                   2008    3.5\n",
       "                   2009    3.5\n",
       "           male    2007    3.8\n",
       "                   2008    4.1\n",
       "                   2009    3.9\n",
       "Gentoo     female  2007    4.6\n",
       "                   2008    4.6\n",
       "                   2009    4.8\n",
       "           male    2007    5.5\n",
       "                   2008    5.4\n",
       "                   2009    5.4\n",
       "Name: weight_kg, dtype: float64"
      ]
     },
     "execution_count": 52,
     "metadata": {},
     "output_type": "execute_result"
    }
   ],
   "source": [
    "ibon_insight8 = np.round(ibon.groupby(['species', 'sex', 'year'])['weight_kg'].mean(), 1)\n",
    "ibon_insight8"
   ]
  },
  {
   "cell_type": "code",
   "execution_count": 53,
   "id": "753579ee-16c9-4908-9391-49fefedc19ae",
   "metadata": {},
   "outputs": [
    {
     "data": {
      "text/html": [
       "<div>\n",
       "<style scoped>\n",
       "    .dataframe tbody tr th:only-of-type {\n",
       "        vertical-align: middle;\n",
       "    }\n",
       "\n",
       "    .dataframe tbody tr th {\n",
       "        vertical-align: top;\n",
       "    }\n",
       "\n",
       "    .dataframe thead th {\n",
       "        text-align: right;\n",
       "    }\n",
       "</style>\n",
       "<table border=\"1\" class=\"dataframe\">\n",
       "  <thead>\n",
       "    <tr style=\"text-align: right;\">\n",
       "      <th></th>\n",
       "      <th>year</th>\n",
       "      <th>2007</th>\n",
       "      <th>2008</th>\n",
       "      <th>2009</th>\n",
       "    </tr>\n",
       "    <tr>\n",
       "      <th>species</th>\n",
       "      <th>sex</th>\n",
       "      <th></th>\n",
       "      <th></th>\n",
       "      <th></th>\n",
       "    </tr>\n",
       "  </thead>\n",
       "  <tbody>\n",
       "    <tr>\n",
       "      <th rowspan=\"2\" valign=\"top\">Adelie</th>\n",
       "      <th>female</th>\n",
       "      <td>3.4</td>\n",
       "      <td>3.4</td>\n",
       "      <td>3.3</td>\n",
       "    </tr>\n",
       "    <tr>\n",
       "      <th>male</th>\n",
       "      <td>4.0</td>\n",
       "      <td>4.1</td>\n",
       "      <td>4.0</td>\n",
       "    </tr>\n",
       "    <tr>\n",
       "      <th rowspan=\"2\" valign=\"top\">Chinstrap</th>\n",
       "      <th>female</th>\n",
       "      <td>3.6</td>\n",
       "      <td>3.5</td>\n",
       "      <td>3.5</td>\n",
       "    </tr>\n",
       "    <tr>\n",
       "      <th>male</th>\n",
       "      <td>3.8</td>\n",
       "      <td>4.1</td>\n",
       "      <td>3.9</td>\n",
       "    </tr>\n",
       "    <tr>\n",
       "      <th rowspan=\"2\" valign=\"top\">Gentoo</th>\n",
       "      <th>female</th>\n",
       "      <td>4.6</td>\n",
       "      <td>4.6</td>\n",
       "      <td>4.8</td>\n",
       "    </tr>\n",
       "    <tr>\n",
       "      <th>male</th>\n",
       "      <td>5.5</td>\n",
       "      <td>5.4</td>\n",
       "      <td>5.4</td>\n",
       "    </tr>\n",
       "  </tbody>\n",
       "</table>\n",
       "</div>"
      ],
      "text/plain": [
       "year              2007  2008  2009\n",
       "species   sex                     \n",
       "Adelie    female   3.4   3.4   3.3\n",
       "          male     4.0   4.1   4.0\n",
       "Chinstrap female   3.6   3.5   3.5\n",
       "          male     3.8   4.1   3.9\n",
       "Gentoo    female   4.6   4.6   4.8\n",
       "          male     5.5   5.4   5.4"
      ]
     },
     "execution_count": 53,
     "metadata": {},
     "output_type": "execute_result"
    }
   ],
   "source": [
    "ibon_insight8.unstack()"
   ]
  },
  {
   "cell_type": "markdown",
   "id": "b766dc07-981b-4258-a784-275dfb7aa168",
   "metadata": {},
   "source": [
    "<h1>The data frame shows the weight of both female and male per species in different time frame.</h1>"
   ]
  },
  {
   "cell_type": "markdown",
   "id": "625b1ea2-caf0-481e-b971-673291325503",
   "metadata": {},
   "source": [
    "<h1>QUESTION: Correlation between Bill length and bill depth</h1>"
   ]
  },
  {
   "cell_type": "code",
   "execution_count": 54,
   "id": "63116016-ee5a-43b9-8f68-e12f34aa16e2",
   "metadata": {},
   "outputs": [],
   "source": [
    "b_depth_lenght = ibon['bill_length_mm'].corr(ibon['bill_depth_mm'])"
   ]
  },
  {
   "cell_type": "code",
   "execution_count": 55,
   "id": "43356d33-020e-41af-ba47-28d87e14b60a",
   "metadata": {},
   "outputs": [
    {
     "data": {
      "text/plain": [
       "-0.23505287035553282"
      ]
     },
     "execution_count": 55,
     "metadata": {},
     "output_type": "execute_result"
    }
   ],
   "source": [
    "b_depth_lenght"
   ]
  },
  {
   "cell_type": "markdown",
   "id": "403e6b46-667d-4590-befc-e076771e8d90",
   "metadata": {},
   "source": [
    "<h1>Insight no.10</h1>"
   ]
  },
  {
   "cell_type": "markdown",
   "id": "906368c8-2cba-4bc4-8415-160e82f47022",
   "metadata": {},
   "source": [
    "<h1>There is no correlation between bill lenght and bill depth.</h1>"
   ]
  },
  {
   "cell_type": "markdown",
   "id": "acafc3e0-2edf-4295-bd1d-4f5f577bc5eb",
   "metadata": {},
   "source": [
    "<h1>QUESTION 11: Correlation between Body mass g and bill length</h1>"
   ]
  },
  {
   "cell_type": "code",
   "execution_count": 56,
   "id": "75f2c427-2e7f-431c-b67f-24ba6e1a6bb0",
   "metadata": {},
   "outputs": [],
   "source": [
    "b_mass_bill_length = ibon['body_mass_g'].corr(ibon['bill_length_mm'])"
   ]
  },
  {
   "cell_type": "code",
   "execution_count": 57,
   "id": "9966a77b-802c-4043-990c-1b184c0a53b4",
   "metadata": {},
   "outputs": [
    {
     "data": {
      "text/plain": [
       "0.5951098244376305"
      ]
     },
     "execution_count": 57,
     "metadata": {},
     "output_type": "execute_result"
    }
   ],
   "source": [
    "b_mass_bill_length"
   ]
  },
  {
   "cell_type": "markdown",
   "id": "6d197d95-1f51-44e5-bf1f-c5e4a23e7e81",
   "metadata": {},
   "source": [
    "<h1>Insight no. 11</h1>"
   ]
  },
  {
   "cell_type": "markdown",
   "id": "11348ce9-b10d-48cd-875f-0e0c2fa44c72",
   "metadata": {},
   "source": [
    "<h1>There is a correlation between bill lenght and body mass in grams.</h1>"
   ]
  },
  {
   "cell_type": "markdown",
   "id": "910034a3-ac79-4ef9-bd85-3f3b20e17207",
   "metadata": {},
   "source": [
    "<h1>QUESTION 12: Correlation between Body mass g and flipper length</h1>"
   ]
  },
  {
   "cell_type": "code",
   "execution_count": 58,
   "id": "1df486a8-2a5c-4d3d-a082-e0f15bb2b17c",
   "metadata": {},
   "outputs": [],
   "source": [
    "b_mass_flipper_length = ibon['body_mass_g'].corr(ibon['flipper_length_mm'])"
   ]
  },
  {
   "cell_type": "code",
   "execution_count": 59,
   "id": "e2a76c83-e927-4e7b-ad37-7636364ef507",
   "metadata": {},
   "outputs": [
    {
     "data": {
      "text/plain": [
       "0.8712017673060114"
      ]
     },
     "execution_count": 59,
     "metadata": {},
     "output_type": "execute_result"
    }
   ],
   "source": [
    "b_mass_flipper_length"
   ]
  },
  {
   "cell_type": "markdown",
   "id": "e1b745e9-1ef9-471f-8f81-3ef7c8a88ecd",
   "metadata": {},
   "source": [
    "<h1>Insight no. 12</h1>"
   ]
  },
  {
   "cell_type": "markdown",
   "id": "2d6de76a-bafc-4921-bb8a-fc17e7aa342d",
   "metadata": {},
   "source": [
    "<h1>There is a correlation between flipper lenght and body mass in grams.</h1>"
   ]
  },
  {
   "cell_type": "markdown",
   "id": "dad21b3a-a4a7-4966-82f5-7c11210d2d57",
   "metadata": {},
   "source": [
    "<h1>QUESTION 13: Correlation between bill depth and flipper length</h1>"
   ]
  },
  {
   "cell_type": "code",
   "execution_count": 60,
   "id": "bdc96241-e24f-492c-ade7-f4675fc25bc9",
   "metadata": {},
   "outputs": [],
   "source": [
    "b_depth_flipper_length = ibon['bill_depth_mm'].corr(ibon['flipper_length_mm'])"
   ]
  },
  {
   "cell_type": "code",
   "execution_count": 61,
   "id": "7399856f-be85-4558-818c-f70873792715",
   "metadata": {},
   "outputs": [
    {
     "data": {
      "text/plain": [
       "-0.5838512164654122"
      ]
     },
     "execution_count": 61,
     "metadata": {},
     "output_type": "execute_result"
    }
   ],
   "source": [
    "b_depth_flipper_length"
   ]
  },
  {
   "cell_type": "markdown",
   "id": "20193840-f7c4-42a3-8b2c-300541d81824",
   "metadata": {},
   "source": [
    "<h1>Insight no. 13</h1>"
   ]
  },
  {
   "cell_type": "markdown",
   "id": "ce1107af-bcf7-4d1b-bfe0-8e5bbc12658a",
   "metadata": {},
   "source": [
    "<h1>There is no correlation between flipper length and bill depth.</h1>"
   ]
  },
  {
   "cell_type": "markdown",
   "id": "b8fdfbce-83f8-457d-9807-14bf14990cef",
   "metadata": {},
   "source": [
    "<h1>QUESTION 14: Correlation between bill depth and body mass</h1>"
   ]
  },
  {
   "cell_type": "code",
   "execution_count": 62,
   "id": "c2d479cc-76da-4261-8829-46badc41b948",
   "metadata": {},
   "outputs": [],
   "source": [
    "b_depth_body_mass = ibon['bill_depth_mm'].corr(ibon['body_mass_g'])"
   ]
  },
  {
   "cell_type": "code",
   "execution_count": 63,
   "id": "b514dd0d-3b0a-41e8-b303-922a0ff7a800",
   "metadata": {},
   "outputs": [
    {
     "data": {
      "text/plain": [
       "-0.4719156211860664"
      ]
     },
     "execution_count": 63,
     "metadata": {},
     "output_type": "execute_result"
    }
   ],
   "source": [
    "b_depth_body_mass"
   ]
  },
  {
   "cell_type": "markdown",
   "id": "ca75a3ea-adaf-4db3-80c3-d0abd73e1a16",
   "metadata": {},
   "source": [
    "<h1>Insight no. 14</h1>"
   ]
  },
  {
   "cell_type": "markdown",
   "id": "4fc801ae-14fe-4462-bbda-dddfb5590cd1",
   "metadata": {},
   "source": [
    "<h1>There is no correlation between body mass and bill depth.</h1>"
   ]
  },
  {
   "cell_type": "markdown",
   "id": "efd0c092-d8c0-46a5-8b9a-5f9741d50255",
   "metadata": {},
   "source": [
    "<h1>QUESTION 15: Correlation between bill depth and bill length in different species.</h1>"
   ]
  },
  {
   "cell_type": "code",
   "execution_count": 64,
   "id": "9c546829-714c-4e32-ac00-a39edfa0ade1",
   "metadata": {},
   "outputs": [],
   "source": [
    "adelie = ibon[ibon['species'] == 'Adelie']\n",
    "chinstrap = ibon[ibon['species'] == 'Chinstrap']\n",
    "gentoo = ibon[ibon['species'] == 'Gentoo']"
   ]
  },
  {
   "cell_type": "code",
   "execution_count": 65,
   "id": "a3989a88-034f-405c-8d6e-7d604d38578c",
   "metadata": {},
   "outputs": [
    {
     "data": {
      "text/plain": [
       "0.3731961190689369"
      ]
     },
     "execution_count": 65,
     "metadata": {},
     "output_type": "execute_result"
    }
   ],
   "source": [
    "b_mass_bill_length_adelie = adelie['bill_depth_mm'].corr(adelie['bill_length_mm'])\n",
    "b_mass_bill_length_adelie"
   ]
  },
  {
   "cell_type": "code",
   "execution_count": 66,
   "id": "9e150618-a05c-44c5-8bff-53f600f4e9e8",
   "metadata": {},
   "outputs": [
    {
     "data": {
      "text/plain": [
       "0.6535362081800428"
      ]
     },
     "execution_count": 66,
     "metadata": {},
     "output_type": "execute_result"
    }
   ],
   "source": [
    "b_mass_bill_length_chin = chinstrap['bill_depth_mm'].corr(chinstrap['bill_length_mm'])\n",
    "b_mass_bill_length_chin"
   ]
  },
  {
   "cell_type": "code",
   "execution_count": 67,
   "id": "16705e94-9224-4db9-b5ca-85b7502caa82",
   "metadata": {},
   "outputs": [
    {
     "data": {
      "text/plain": [
       "0.6071518201350262"
      ]
     },
     "execution_count": 67,
     "metadata": {},
     "output_type": "execute_result"
    }
   ],
   "source": [
    "b_mass_bill_length_gentoo = gentoo['bill_depth_mm'].corr(gentoo['bill_length_mm'])\n",
    "b_mass_bill_length_gentoo"
   ]
  },
  {
   "cell_type": "markdown",
   "id": "93097c18-a293-4704-b0f2-524df48bd376",
   "metadata": {},
   "source": [
    "<h1>Insight no. 15</h1>"
   ]
  },
  {
   "cell_type": "markdown",
   "id": "64911f1e-adf8-489c-803d-901653ecc0d3",
   "metadata": {},
   "source": [
    "<h1>There is no correlation between body mass and bill depth but only in the Adelie species, but for Chinstrap and Gentoo there is a correlation.</h1>"
   ]
  },
  {
   "cell_type": "markdown",
   "id": "6cbfd550-5326-46e4-b35f-df6e6ecbac54",
   "metadata": {},
   "source": [
    "<h1>INTALLING ALL NECESSARY PACKAGES</h1>"
   ]
  },
  {
   "cell_type": "markdown",
   "id": "8d105c72-333b-473e-9a7b-c475f0badfe7",
   "metadata": {},
   "source": [
    "<h1>Testing Correlation Using One Way Anova, Analysis of varience</h1>"
   ]
  },
  {
   "cell_type": "code",
   "execution_count": 1,
   "id": "d2996db1-46e4-49aa-9ea9-7a9fe6a6ab2e",
   "metadata": {},
   "outputs": [],
   "source": [
    "from scipy.stats import f_oneway"
   ]
  },
  {
   "cell_type": "code",
   "execution_count": 73,
   "id": "b8c0980c-d082-4d4b-b17c-fe3ccc4c7f0f",
   "metadata": {},
   "outputs": [
    {
     "data": {
      "text/plain": [
       "1      3800.0\n",
       "2      3250.0\n",
       "4      3450.0\n",
       "6      3625.0\n",
       "12     3200.0\n",
       "        ...  \n",
       "335    3525.0\n",
       "337    3650.0\n",
       "338    3650.0\n",
       "340    3400.0\n",
       "343    3775.0\n",
       "Name: body_mass_g, Length: 165, dtype: float64"
      ]
     },
     "execution_count": 73,
     "metadata": {},
     "output_type": "execute_result"
    }
   ],
   "source": [
    "ibon[ibon['sex'] == 'female']['body_mass_g']"
   ]
  },
  {
   "cell_type": "code",
   "execution_count": 74,
   "id": "457d84bc-10e5-4c95-a3d4-137040d5495e",
   "metadata": {},
   "outputs": [
    {
     "data": {
      "text/plain": [
       "0      3750.000000\n",
       "3      4201.754386\n",
       "5      3650.000000\n",
       "7      4675.000000\n",
       "8      3475.000000\n",
       "          ...     \n",
       "334    3800.000000\n",
       "336    3950.000000\n",
       "339    4000.000000\n",
       "341    3775.000000\n",
       "342    4100.000000\n",
       "Name: body_mass_g, Length: 179, dtype: float64"
      ]
     },
     "execution_count": 74,
     "metadata": {},
     "output_type": "execute_result"
    }
   ],
   "source": [
    "ibon[ibon['sex'] == 'male']['body_mass_g']"
   ]
  },
  {
   "cell_type": "markdown",
   "id": "1f4595ff-bb53-464d-9c3c-74bf17644e8c",
   "metadata": {},
   "source": [
    "<h1>INSIGHT no. 16</h1>"
   ]
  },
  {
   "cell_type": "code",
   "execution_count": 81,
   "id": "7fe8654e-0e9e-4ebb-b4bb-e5b8679296e5",
   "metadata": {},
   "outputs": [],
   "source": [
    "f_stats, p_value = f_oneway(ibon[ibon['sex'] == 'male']['body_mass_g'],\n",
    "                            ibon[ibon['sex'] == 'female']['body_mass_g'])"
   ]
  },
  {
   "cell_type": "code",
   "execution_count": 83,
   "id": "9a53f37f-fd57-4239-8ece-1f5282a91d48",
   "metadata": {},
   "outputs": [
    {
     "name": "stdout",
     "output_type": "stream",
     "text": [
      "3.0226600487050253e-15\n"
     ]
    }
   ],
   "source": [
    "print(p_value)"
   ]
  },
  {
   "cell_type": "markdown",
   "id": "585c589e-2946-4e9b-8fad-f45c7079c23e",
   "metadata": {},
   "source": [
    "<h1>The is correlation between the body mass in grams of a male penguins to a female.</h1>"
   ]
  },
  {
   "cell_type": "code",
   "execution_count": null,
   "id": "88d2ea32-3a36-42f5-9d27-7dd09b06f11b",
   "metadata": {},
   "outputs": [],
   "source": []
  }
 ],
 "metadata": {
  "kernelspec": {
   "display_name": "Python 3 (ipykernel)",
   "language": "python",
   "name": "python3"
  },
  "language_info": {
   "codemirror_mode": {
    "name": "ipython",
    "version": 3
   },
   "file_extension": ".py",
   "mimetype": "text/x-python",
   "name": "python",
   "nbconvert_exporter": "python",
   "pygments_lexer": "ipython3",
   "version": "3.13.1"
  }
 },
 "nbformat": 4,
 "nbformat_minor": 5
}
