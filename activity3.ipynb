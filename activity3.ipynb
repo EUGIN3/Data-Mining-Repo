{
 "cells": [
  {
   "cell_type": "markdown",
   "id": "7b5877dd-bef1-4732-80da-99d0774c8334",
   "metadata": {},
   "source": [
    "<h1>DATA ANALYTICS PROJECT </h1>"
   ]
  },
  {
   "cell_type": "markdown",
   "id": "e1adaee1-a083-4bfb-a17c-dddc69867935",
   "metadata": {},
   "source": [
    "<h2>UNITED KINGDOM ROAD ACCIDENT DATA ANALYTICS</h2>\n",
    "<h3>Inclusie year: 2019 - 2020</h3>\n",
    "<h4>Analyst : Mark Eugine M. Casañada</h4>"
   ]
  },
  {
   "cell_type": "markdown",
   "id": "54502f90-1ed7-41d4-8fd6-94f012f3e451",
   "metadata": {},
   "source": [
    "<hr style=\"backgroundcolor:'green'\">"
   ]
  },
  {
   "cell_type": "markdown",
   "id": "96fa665c-7d82-4230-aacb-873cd72de39c",
   "metadata": {},
   "source": [
    "<h2>IMPORTING NECESSARY MODULES</h2>"
   ]
  },
  {
   "cell_type": "code",
   "execution_count": 1,
   "id": "0b0b4aae-6355-46e5-a069-fedcb6f6e327",
   "metadata": {},
   "outputs": [],
   "source": [
    "import numpy as np\n",
    "import pandas as pd\n",
    "import matplotlib.pyplot as plt\n",
    "import seaborn as sns\n",
    "from scipy.stats import f_oneway"
   ]
  },
  {
   "cell_type": "markdown",
   "id": "4b46c781-9785-4470-9e34-59d0409a4195",
   "metadata": {},
   "source": [
    "<hr>"
   ]
  },
  {
   "cell_type": "markdown",
   "id": "5f9d941a-9efd-4200-a617-3fb8be81f500",
   "metadata": {},
   "source": [
    "<h2>CONVERTING TO DATAFRAME</h2>"
   ]
  },
  {
   "cell_type": "code",
   "execution_count": 2,
   "id": "7f749750-7411-41da-a193-0b6d552a79ce",
   "metadata": {},
   "outputs": [],
   "source": [
    "df = pd.read_csv('dataset\\\\accident_data.csv')"
   ]
  },
  {
   "cell_type": "markdown",
   "id": "25d781ea-a5f6-49a1-98e1-421153ac2067",
   "metadata": {},
   "source": [
    "<hr>"
   ]
  },
  {
   "cell_type": "markdown",
   "id": "5af9258a-ac23-428a-8807-11ec07593112",
   "metadata": {},
   "source": [
    "<h2>DATA PREPERATION</h2>"
   ]
  },
  {
   "cell_type": "code",
   "execution_count": 3,
   "id": "a0357481-4cf2-4f2b-b138-23b5d2c1219c",
   "metadata": {},
   "outputs": [
    {
     "data": {
      "text/html": [
       "<div>\n",
       "<style scoped>\n",
       "    .dataframe tbody tr th:only-of-type {\n",
       "        vertical-align: middle;\n",
       "    }\n",
       "\n",
       "    .dataframe tbody tr th {\n",
       "        vertical-align: top;\n",
       "    }\n",
       "\n",
       "    .dataframe thead th {\n",
       "        text-align: right;\n",
       "    }\n",
       "</style>\n",
       "<table border=\"1\" class=\"dataframe\">\n",
       "  <thead>\n",
       "    <tr style=\"text-align: right;\">\n",
       "      <th></th>\n",
       "      <th>Latitude</th>\n",
       "      <th>Longitude</th>\n",
       "      <th>Number_of_Casualties</th>\n",
       "      <th>Number_of_Vehicles</th>\n",
       "    </tr>\n",
       "  </thead>\n",
       "  <tbody>\n",
       "    <tr>\n",
       "      <th>count</th>\n",
       "      <td>660654.000000</td>\n",
       "      <td>660653.000000</td>\n",
       "      <td>660679.000000</td>\n",
       "      <td>660679.000000</td>\n",
       "    </tr>\n",
       "    <tr>\n",
       "      <th>mean</th>\n",
       "      <td>52.553866</td>\n",
       "      <td>-1.431210</td>\n",
       "      <td>1.357040</td>\n",
       "      <td>1.831255</td>\n",
       "    </tr>\n",
       "    <tr>\n",
       "      <th>std</th>\n",
       "      <td>1.406922</td>\n",
       "      <td>1.383330</td>\n",
       "      <td>0.824847</td>\n",
       "      <td>0.715269</td>\n",
       "    </tr>\n",
       "    <tr>\n",
       "      <th>min</th>\n",
       "      <td>49.914430</td>\n",
       "      <td>-7.516225</td>\n",
       "      <td>1.000000</td>\n",
       "      <td>1.000000</td>\n",
       "    </tr>\n",
       "    <tr>\n",
       "      <th>25%</th>\n",
       "      <td>51.490690</td>\n",
       "      <td>-2.332291</td>\n",
       "      <td>1.000000</td>\n",
       "      <td>1.000000</td>\n",
       "    </tr>\n",
       "    <tr>\n",
       "      <th>50%</th>\n",
       "      <td>52.315641</td>\n",
       "      <td>-1.411667</td>\n",
       "      <td>1.000000</td>\n",
       "      <td>2.000000</td>\n",
       "    </tr>\n",
       "    <tr>\n",
       "      <th>75%</th>\n",
       "      <td>53.453452</td>\n",
       "      <td>-0.232869</td>\n",
       "      <td>1.000000</td>\n",
       "      <td>2.000000</td>\n",
       "    </tr>\n",
       "    <tr>\n",
       "      <th>max</th>\n",
       "      <td>60.757544</td>\n",
       "      <td>1.762010</td>\n",
       "      <td>68.000000</td>\n",
       "      <td>32.000000</td>\n",
       "    </tr>\n",
       "  </tbody>\n",
       "</table>\n",
       "</div>"
      ],
      "text/plain": [
       "            Latitude      Longitude  Number_of_Casualties  Number_of_Vehicles\n",
       "count  660654.000000  660653.000000         660679.000000       660679.000000\n",
       "mean       52.553866      -1.431210              1.357040            1.831255\n",
       "std         1.406922       1.383330              0.824847            0.715269\n",
       "min        49.914430      -7.516225              1.000000            1.000000\n",
       "25%        51.490690      -2.332291              1.000000            1.000000\n",
       "50%        52.315641      -1.411667              1.000000            2.000000\n",
       "75%        53.453452      -0.232869              1.000000            2.000000\n",
       "max        60.757544       1.762010             68.000000           32.000000"
      ]
     },
     "execution_count": 3,
     "metadata": {},
     "output_type": "execute_result"
    }
   ],
   "source": [
    "df.describe()"
   ]
  },
  {
   "cell_type": "code",
   "execution_count": 4,
   "id": "29ce1e98-6d03-4857-8294-a51b56e4d655",
   "metadata": {},
   "outputs": [
    {
     "name": "stdout",
     "output_type": "stream",
     "text": [
      "<class 'pandas.core.frame.DataFrame'>\n",
      "RangeIndex: 660679 entries, 0 to 660678\n",
      "Data columns (total 14 columns):\n",
      " #   Column                   Non-Null Count   Dtype  \n",
      "---  ------                   --------------   -----  \n",
      " 0   Index                    660679 non-null  object \n",
      " 1   Accident_Severity        660679 non-null  object \n",
      " 2   Accident Date            660679 non-null  object \n",
      " 3   Latitude                 660654 non-null  float64\n",
      " 4   Light_Conditions         660679 non-null  object \n",
      " 5   District Area            660679 non-null  object \n",
      " 6   Longitude                660653 non-null  float64\n",
      " 7   Number_of_Casualties     660679 non-null  int64  \n",
      " 8   Number_of_Vehicles       660679 non-null  int64  \n",
      " 9   Road_Surface_Conditions  659953 non-null  object \n",
      " 10  Road_Type                656159 non-null  object \n",
      " 11  Urban_or_Rural_Area      660664 non-null  object \n",
      " 12  Weather_Conditions       646551 non-null  object \n",
      " 13  Vehicle_Type             660679 non-null  object \n",
      "dtypes: float64(2), int64(2), object(10)\n",
      "memory usage: 70.6+ MB\n"
     ]
    }
   ],
   "source": [
    "df.info()"
   ]
  },
  {
   "cell_type": "code",
   "execution_count": 5,
   "id": "c8413b91-9601-47ed-ac12-f29e42015e7e",
   "metadata": {},
   "outputs": [
    {
     "data": {
      "text/plain": [
       "Index                       object\n",
       "Accident_Severity           object\n",
       "Accident Date               object\n",
       "Latitude                   float64\n",
       "Light_Conditions            object\n",
       "District Area               object\n",
       "Longitude                  float64\n",
       "Number_of_Casualties         int64\n",
       "Number_of_Vehicles           int64\n",
       "Road_Surface_Conditions     object\n",
       "Road_Type                   object\n",
       "Urban_or_Rural_Area         object\n",
       "Weather_Conditions          object\n",
       "Vehicle_Type                object\n",
       "dtype: object"
      ]
     },
     "execution_count": 5,
     "metadata": {},
     "output_type": "execute_result"
    }
   ],
   "source": [
    "df.dtypes"
   ]
  },
  {
   "cell_type": "markdown",
   "id": "b4db1f71-b769-44ee-a65d-a0c25a26f9c4",
   "metadata": {},
   "source": [
    "<h3>DEALING WITH NULL VALUES</h3>"
   ]
  },
  {
   "cell_type": "code",
   "execution_count": 6,
   "id": "936d1495-699e-493e-901a-5d3249cfca61",
   "metadata": {},
   "outputs": [
    {
     "data": {
      "text/plain": [
       "Index                          0\n",
       "Accident_Severity              0\n",
       "Accident Date                  0\n",
       "Latitude                      25\n",
       "Light_Conditions               0\n",
       "District Area                  0\n",
       "Longitude                     26\n",
       "Number_of_Casualties           0\n",
       "Number_of_Vehicles             0\n",
       "Road_Surface_Conditions      726\n",
       "Road_Type                   4520\n",
       "Urban_or_Rural_Area           15\n",
       "Weather_Conditions         14128\n",
       "Vehicle_Type                   0\n",
       "dtype: int64"
      ]
     },
     "execution_count": 6,
     "metadata": {},
     "output_type": "execute_result"
    }
   ],
   "source": [
    "df.isnull().sum()"
   ]
  },
  {
   "cell_type": "markdown",
   "id": "083150ec-3b55-41f7-9ef8-36e78c602475",
   "metadata": {},
   "source": [
    "<h4>FILL UP THE NULL VALUES</h4>"
   ]
  },
  {
   "cell_type": "code",
   "execution_count": 7,
   "id": "961afab7-79f9-4273-b18a-212d2a20499d",
   "metadata": {},
   "outputs": [],
   "source": [
    "df['Latitude'] = df['Latitude'].fillna(df['Latitude'].mode()[0])\n",
    "\n",
    "df['Longitude'] = df['Longitude'].fillna(df['Longitude'].mode()[0])\n",
    "\n",
    "df['Road_Surface_Conditions'] = df['Road_Surface_Conditions'].fillna('uncouted')\n",
    "\n",
    "df['Road_Type'] = df['Road_Type'].fillna('uncouted')\n",
    "\n",
    "df['Urban_or_Rural_Area'] = df['Urban_or_Rural_Area'].fillna('Unallocated')\n",
    "\n",
    "df['Weather_Conditions'] = df['Weather_Conditions'].fillna('uncouted')"
   ]
  },
  {
   "cell_type": "code",
   "execution_count": 8,
   "id": "7f5b7a4b-1e22-4af4-a5f9-998b21bae766",
   "metadata": {},
   "outputs": [
    {
     "data": {
      "text/plain": [
       "Index                      0\n",
       "Accident_Severity          0\n",
       "Accident Date              0\n",
       "Latitude                   0\n",
       "Light_Conditions           0\n",
       "District Area              0\n",
       "Longitude                  0\n",
       "Number_of_Casualties       0\n",
       "Number_of_Vehicles         0\n",
       "Road_Surface_Conditions    0\n",
       "Road_Type                  0\n",
       "Urban_or_Rural_Area        0\n",
       "Weather_Conditions         0\n",
       "Vehicle_Type               0\n",
       "dtype: int64"
      ]
     },
     "execution_count": 8,
     "metadata": {},
     "output_type": "execute_result"
    }
   ],
   "source": [
    "df.isnull().sum()"
   ]
  },
  {
   "cell_type": "markdown",
   "id": "e311d015-ee9d-478a-8917-2b38b6310c7e",
   "metadata": {},
   "source": [
    "<h3>CONVERTING OBJECT TO DATETIME DATA TYPE</h3>"
   ]
  },
  {
   "cell_type": "code",
   "execution_count": 9,
   "id": "df92234e-f798-44a4-bbb6-13c09764434e",
   "metadata": {},
   "outputs": [],
   "source": [
    "df['Accident Date'] = pd.to_datetime(df['Accident Date'], dayfirst=True, errors='coerce')"
   ]
  },
  {
   "cell_type": "code",
   "execution_count": 10,
   "id": "1f24e642-85a3-4284-a411-cdc90807f3c9",
   "metadata": {},
   "outputs": [
    {
     "data": {
      "text/plain": [
       "Index                      0\n",
       "Accident_Severity          0\n",
       "Accident Date              0\n",
       "Latitude                   0\n",
       "Light_Conditions           0\n",
       "District Area              0\n",
       "Longitude                  0\n",
       "Number_of_Casualties       0\n",
       "Number_of_Vehicles         0\n",
       "Road_Surface_Conditions    0\n",
       "Road_Type                  0\n",
       "Urban_or_Rural_Area        0\n",
       "Weather_Conditions         0\n",
       "Vehicle_Type               0\n",
       "dtype: int64"
      ]
     },
     "execution_count": 10,
     "metadata": {},
     "output_type": "execute_result"
    }
   ],
   "source": [
    "df.isnull().sum()"
   ]
  },
  {
   "cell_type": "markdown",
   "id": "a55490c0-b459-4292-a29a-ccbcf321781b",
   "metadata": {},
   "source": [
    "<h3>EXTRACTING DATE INFORMATION USING PANDAS DATA TIME</h3>"
   ]
  },
  {
   "cell_type": "code",
   "execution_count": 11,
   "id": "1692293b-c2e8-448d-bc58-7d26c0e8872b",
   "metadata": {},
   "outputs": [],
   "source": [
    "df['Year'] = df['Accident Date'].dt.year\n",
    "df['Month'] = df['Accident Date'].dt.month\n",
    "df['Day'] = df['Accident Date'].dt.day\n",
    "df['DayOfWeek'] = df['Accident Date'].dt.dayofweek"
   ]
  },
  {
   "cell_type": "code",
   "execution_count": 12,
   "id": "be14f17b-be4f-485d-bd89-c8dbe2020227",
   "metadata": {},
   "outputs": [
    {
     "name": "stdout",
     "output_type": "stream",
     "text": [
      "<class 'pandas.core.frame.DataFrame'>\n",
      "RangeIndex: 660679 entries, 0 to 660678\n",
      "Data columns (total 18 columns):\n",
      " #   Column                   Non-Null Count   Dtype         \n",
      "---  ------                   --------------   -----         \n",
      " 0   Index                    660679 non-null  object        \n",
      " 1   Accident_Severity        660679 non-null  object        \n",
      " 2   Accident Date            660679 non-null  datetime64[ns]\n",
      " 3   Latitude                 660679 non-null  float64       \n",
      " 4   Light_Conditions         660679 non-null  object        \n",
      " 5   District Area            660679 non-null  object        \n",
      " 6   Longitude                660679 non-null  float64       \n",
      " 7   Number_of_Casualties     660679 non-null  int64         \n",
      " 8   Number_of_Vehicles       660679 non-null  int64         \n",
      " 9   Road_Surface_Conditions  660679 non-null  object        \n",
      " 10  Road_Type                660679 non-null  object        \n",
      " 11  Urban_or_Rural_Area      660679 non-null  object        \n",
      " 12  Weather_Conditions       660679 non-null  object        \n",
      " 13  Vehicle_Type             660679 non-null  object        \n",
      " 14  Year                     660679 non-null  int32         \n",
      " 15  Month                    660679 non-null  int32         \n",
      " 16  Day                      660679 non-null  int32         \n",
      " 17  DayOfWeek                660679 non-null  int32         \n",
      "dtypes: datetime64[ns](1), float64(2), int32(4), int64(2), object(9)\n",
      "memory usage: 80.6+ MB\n"
     ]
    }
   ],
   "source": [
    "df.info()"
   ]
  },
  {
   "cell_type": "markdown",
   "id": "95bd63af-bf11-4780-b265-1d69efa92d4e",
   "metadata": {},
   "source": [
    "<h3>CHANGING THE DAY AND MONTH INTO PROPER VALUE</h3>"
   ]
  },
  {
   "cell_type": "code",
   "execution_count": 13,
   "id": "4d65ef1d-9a1c-4716-ae63-4a54f8e7b103",
   "metadata": {},
   "outputs": [],
   "source": [
    "month_map = {\n",
    "    1: 'January',\n",
    "    2: 'February',\n",
    "    3: 'March',\n",
    "    4: 'April',\n",
    "    5: 'May',\n",
    "    6: 'June',\n",
    "    7: 'July',\n",
    "    8: 'August',\n",
    "    9: 'September',\n",
    "    10: 'October',\n",
    "    11: 'November',\n",
    "    12: 'December'\n",
    "}\n",
    "\n",
    "df['Month'] = df['Month'].map(month_map)"
   ]
  },
  {
   "cell_type": "code",
   "execution_count": 14,
   "id": "4d365bb2-33c5-4821-bd9a-0b350da4eb48",
   "metadata": {},
   "outputs": [],
   "source": [
    "day_map = {\n",
    "    0: 'Monday',\n",
    "    1: 'Tuesday',\n",
    "    2: 'Wednesday',\n",
    "    3: 'Thursday',\n",
    "    4: 'Friday',\n",
    "    5: 'Saturday',\n",
    "    6: 'Sunday'\n",
    "}\n",
    "\n",
    "df['DayOfWeek'] = df['DayOfWeek'].map(day_map)"
   ]
  },
  {
   "cell_type": "code",
   "execution_count": 15,
   "id": "5f9acac6-8690-4b22-a673-785e5c3226f8",
   "metadata": {},
   "outputs": [
    {
     "data": {
      "text/plain": [
       "DayOfWeek\n",
       "Saturday     107178\n",
       "Wednesday     99558\n",
       "Thursday      99511\n",
       "Friday        97900\n",
       "Tuesday       94550\n",
       "Sunday        89302\n",
       "Monday        72680\n",
       "Name: count, dtype: int64"
      ]
     },
     "execution_count": 15,
     "metadata": {},
     "output_type": "execute_result"
    }
   ],
   "source": [
    "df['DayOfWeek'].value_counts()"
   ]
  },
  {
   "cell_type": "code",
   "execution_count": 16,
   "id": "1e30cbd5-536f-4d3d-a556-4899f4941aea",
   "metadata": {},
   "outputs": [
    {
     "data": {
      "text/plain": [
       "Month\n",
       "November     60424\n",
       "October      59580\n",
       "July         57445\n",
       "June         56481\n",
       "September    56455\n",
       "May          56352\n",
       "March        54086\n",
       "August       53913\n",
       "January      52872\n",
       "December     51836\n",
       "April        51744\n",
       "February     49491\n",
       "Name: count, dtype: int64"
      ]
     },
     "execution_count": 16,
     "metadata": {},
     "output_type": "execute_result"
    }
   ],
   "source": [
    "df['Month'].value_counts()"
   ]
  },
  {
   "cell_type": "markdown",
   "id": "f7e11aac-a6e4-44a0-96e8-c49e47e2845c",
   "metadata": {},
   "source": [
    "<hr>"
   ]
  },
  {
   "cell_type": "markdown",
   "id": "8953cf9d-6b16-444d-85ab-0c211212fd4c",
   "metadata": {},
   "source": [
    "<h3>CHANGING DATA TYPES TO VALID DATATYPE</h3>"
   ]
  },
  {
   "cell_type": "code",
   "execution_count": 17,
   "id": "332f9164-fbd8-447f-9c53-df3490180969",
   "metadata": {},
   "outputs": [],
   "source": [
    "df['Accident_Severity'] = df['Accident_Severity'].astype('category')\n",
    "\n",
    "df['Latitude'] = df['Latitude'].astype('category')\n",
    "\n",
    "df['Light_Conditions'] = df['Light_Conditions'].astype('category')\n",
    "\n",
    "df['District Area'] = df['District Area'].astype('category')\n",
    "\n",
    "df['Longitude'] = df['Longitude'].astype('category')\n",
    "\n",
    "df['Road_Surface_Conditions'] = df['Road_Surface_Conditions'].astype('category')\n",
    "\n",
    "df['Road_Type'] = df['Road_Type'].astype('category')\n",
    "\n",
    "df['Urban_or_Rural_Area'] = df['Urban_or_Rural_Area'].astype('category')\n",
    "\n",
    "df['Weather_Conditions'] = df['Weather_Conditions'].astype('category')\n",
    "\n",
    "df['Vehicle_Type'] = df['Vehicle_Type'].astype('category')\n",
    "\n",
    "df['Year'] = df['Year'].astype('category')\n",
    "\n",
    "df['Month'] = df['Month'].astype('category')\n",
    "\n",
    "df['Day'] = df['Day'].astype('category')\n",
    "\n",
    "df['DayOfWeek'] = df['DayOfWeek'].astype('category')"
   ]
  },
  {
   "cell_type": "code",
   "execution_count": 18,
   "id": "d97c43ed-ce70-4cb1-8650-e4c04f056ea4",
   "metadata": {},
   "outputs": [
    {
     "data": {
      "text/plain": [
       "Index                              object\n",
       "Accident_Severity                category\n",
       "Accident Date              datetime64[ns]\n",
       "Latitude                         category\n",
       "Light_Conditions                 category\n",
       "District Area                    category\n",
       "Longitude                        category\n",
       "Number_of_Casualties                int64\n",
       "Number_of_Vehicles                  int64\n",
       "Road_Surface_Conditions          category\n",
       "Road_Type                        category\n",
       "Urban_or_Rural_Area              category\n",
       "Weather_Conditions               category\n",
       "Vehicle_Type                     category\n",
       "Year                             category\n",
       "Month                            category\n",
       "Day                              category\n",
       "DayOfWeek                        category\n",
       "dtype: object"
      ]
     },
     "execution_count": 18,
     "metadata": {},
     "output_type": "execute_result"
    }
   ],
   "source": [
    "df.dtypes"
   ]
  },
  {
   "cell_type": "markdown",
   "id": "3a30bec4-03ca-452e-9a5b-b37cd4a428ba",
   "metadata": {},
   "source": [
    "<hr>"
   ]
  },
  {
   "cell_type": "markdown",
   "id": "48bb9228-b75a-44b6-9e75-5dad60196408",
   "metadata": {},
   "source": [
    "<h1>GENERATE 20 INSIGHTS</h1>"
   ]
  },
  {
   "cell_type": "markdown",
   "id": "2d6cdadf-e933-48cf-aade-eec34d2d9fcc",
   "metadata": {},
   "source": [
    "<h2 style='color: Blue;'>UNIVARIATE</h2>"
   ]
  },
  {
   "cell_type": "markdown",
   "id": "e257c9da-3003-415b-9785-dd6c14de7405",
   "metadata": {},
   "source": [
    "<h3><span style='color: Green;'>QUESTION 1</span> : How much accident happends on 2022 from the totality from year 2019-2022?</h3>"
   ]
  },
  {
   "cell_type": "code",
   "execution_count": 19,
   "id": "ae14c452",
   "metadata": {},
   "outputs": [
    {
     "name": "stdout",
     "output_type": "stream",
     "text": [
      "The total number of accident that occur in 2022 is 144419 which is 21.86 of 660679.\n"
     ]
    }
   ],
   "source": [
    "df_2022 = df[df['Year'] == 2022]\n",
    "df_total_2022 = df_2022.value_counts().sum()\n",
    "\n",
    "df_total_year = df['Year'].value_counts().sum()\n",
    "\n",
    "percentage_2022 = np.round((df_total_2022 / df_total_year) * 100, 2)\n",
    "\n",
    "print(f'The total number of accident that occur in 2022 is {df_total_2022} which is {percentage_2022} of {df_total_year}.')"
   ]
  },
  {
   "cell_type": "markdown",
   "id": "40c9e171-23b1-4b65-8676-ba29e74f7797",
   "metadata": {},
   "source": [
    "<h3><span style='color: Red;'>INSIGHT #1 :</span> In 2022, a total of 144,419 accidents were recorded, accounting for 21.86% of the 660,679 accidents that occurred between 2019 and 2022. This figure provides insight into the distribution of accidents over the years and may indicate trends in road safety, enforcement measures, or other influencing factors.</h3>"
   ]
  },
  {
   "cell_type": "markdown",
   "id": "ac33c6a9-facc-463d-9e63-8b28997dea0b",
   "metadata": {},
   "source": [
    "<hr>"
   ]
  },
  {
   "cell_type": "markdown",
   "id": "163287b1-4094-44f0-b549-395ab650ae3e",
   "metadata": {},
   "source": [
    "<h3><span style='color: Green;'>QUESTION 2</span> : Is the accident got worst in the last 4 years?</h3>"
   ]
  },
  {
   "cell_type": "code",
   "execution_count": 20,
   "id": "321266ff-3f4e-4e09-b5a4-9533c41af14c",
   "metadata": {},
   "outputs": [
    {
     "name": "stdout",
     "output_type": "stream",
     "text": [
      "The total accident that happen in 2019 is 182115 which is 27.56% of the total accident that happen in the past 4 years, 2019-2022.\n"
     ]
    }
   ],
   "source": [
    "df_2019 = df[df['Year'] == 2019]\n",
    "total_row_2019 = df_2019.value_counts().sum()\n",
    "\n",
    "df_total_row = df['Year'].value_counts().sum()\n",
    "\n",
    "x = total_row_2019/df_total_row\n",
    "\n",
    "print(f\"The total accident that happen in 2019 is {total_row_2019} which is {np.round(x * 100, 2)}% of the total accident that happen in the past 4 years, 2019-2022.\")"
   ]
  },
  {
   "cell_type": "markdown",
   "id": "e8c1ceb7-2775-4669-acd7-ca1f36a96a8a",
   "metadata": {},
   "source": [
    "<h3><span style='color: Red;'>INSIGHT #2 :</span> Between 2019 and 2022, 27.56% of recorded accidents occurred in 2019, while the percentage dropped to 21.86% in 2022. This decline suggests an overall improvement in safety, possibly due to enhanced regulations, better infrastructure, or increased awareness. Analyzing the factors behind this trend could provide valuable insights for further reducing accident rates.</h3>"
   ]
  },
  {
   "cell_type": "markdown",
   "id": "cac34a43-e49e-4bf4-831d-ceb45963ee2e",
   "metadata": {},
   "source": [
    "<hr>"
   ]
  },
  {
   "cell_type": "markdown",
   "id": "6a827405",
   "metadata": {},
   "source": [
    "<h3><span style='color: Green;'>QUESTION 3</span> : Day of the week the accident more likely to occur.</h3>"
   ]
  },
  {
   "cell_type": "code",
   "execution_count": 21,
   "id": "bf53cb20",
   "metadata": {},
   "outputs": [
    {
     "name": "stdout",
     "output_type": "stream",
     "text": [
      "16.22\n"
     ]
    },
    {
     "data": {
      "text/plain": [
       "DayOfWeek\n",
       "Saturday     107178\n",
       "Wednesday     99558\n",
       "Thursday      99511\n",
       "Friday        97900\n",
       "Tuesday       94550\n",
       "Sunday        89302\n",
       "Monday        72680\n",
       "Name: count, dtype: int64"
      ]
     },
     "execution_count": 21,
     "metadata": {},
     "output_type": "execute_result"
    }
   ],
   "source": [
    "total_dow = df['DayOfWeek'].value_counts().sum()\n",
    "\n",
    "saturday_n_acc = df['DayOfWeek'].value_counts().max()\n",
    "\n",
    "saturday_rate = np.round((saturday_n_acc/total_dow) * 100, 2)\n",
    "\n",
    "print(saturday_rate)\n",
    "\n",
    "df['DayOfWeek'].value_counts()"
   ]
  },
  {
   "cell_type": "markdown",
   "id": "25778a5f",
   "metadata": {},
   "source": [
    "<h3><span style='color: Red;'>INSIGHT #3 :</span> The analysis reveals that accidents occur most frequently on Saturdays, with a total of 107,178 incidents, accounting for 16.22% of all recorded accidents. This suggests that weekends, particularly Saturdays, may have higher risk factors, potentially due to increased traffic, leisure activities, or other contributing elements.</h3>"
   ]
  },
  {
   "cell_type": "markdown",
   "id": "28bf41e6",
   "metadata": {},
   "source": [
    "<hr>"
   ]
  },
  {
   "cell_type": "markdown",
   "id": "06501f72",
   "metadata": {},
   "source": [
    "<h3><span style='color: Green;'>QUESTION 4</span> : Under what weather condition does most accident occurs?</h3>"
   ]
  },
  {
   "cell_type": "code",
   "execution_count": 22,
   "id": "b214e87f",
   "metadata": {},
   "outputs": [
    {
     "name": "stdout",
     "output_type": "stream",
     "text": [
      "78.84\n"
     ]
    },
    {
     "data": {
      "text/plain": [
       "Weather_Conditions\n",
       "Fine no high winds       520885\n",
       "Raining no high winds     79696\n",
       "Other                     17150\n",
       "uncouted                  14128\n",
       "Raining + high winds       9615\n",
       "Fine + high winds          8554\n",
       "Snowing no high winds      6238\n",
       "Fog or mist                3528\n",
       "Snowing + high winds        885\n",
       "Name: count, dtype: int64"
      ]
     },
     "execution_count": 22,
     "metadata": {},
     "output_type": "execute_result"
    }
   ],
   "source": [
    "total_wc = df['Weather_Conditions'].value_counts().sum()\n",
    "\n",
    "fine_no_winds = df['Weather_Conditions'].value_counts().max()\n",
    "\n",
    "f_no_winds = np.round((fine_no_winds/total_wc) * 100, 2)\n",
    "\n",
    "print(f_no_winds)\n",
    "\n",
    "df['Weather_Conditions'].value_counts()"
   ]
  },
  {
   "cell_type": "markdown",
   "id": "add198cf",
   "metadata": {},
   "source": [
    "<h3><span style='color: Red;'>INSIGHT #4 :</span> The analysis indicates that the majority of accidents occurred under fine weather conditions with no high winds, totaling 535,013 incidents, which accounts for 80.98% of all recorded accidents. This suggests that adverse weather is not always a primary factor in accidents, highlighting the need to consider other contributors such as human error, road conditions, and traffic density.</h3>"
   ]
  },
  {
   "cell_type": "markdown",
   "id": "e10b82a9",
   "metadata": {},
   "source": [
    "<hr>"
   ]
  },
  {
   "cell_type": "markdown",
   "id": "c27a41e7",
   "metadata": {},
   "source": [
    "<h3><span style='color: Green;'>QUESTION 5</span> : Under what road type does most accident occurs?</h3>"
   ]
  },
  {
   "cell_type": "code",
   "execution_count": 23,
   "id": "28c2b690",
   "metadata": {},
   "outputs": [
    {
     "name": "stdout",
     "output_type": "stream",
     "text": [
      "74.49\n"
     ]
    },
    {
     "data": {
      "text/plain": [
       "Road_Type\n",
       "Single carriageway    492143\n",
       "Dual carriageway       99424\n",
       "Roundabout             43992\n",
       "One way street         13559\n",
       "Slip road               7041\n",
       "uncouted                4520\n",
       "Name: count, dtype: int64"
      ]
     },
     "execution_count": 23,
     "metadata": {},
     "output_type": "execute_result"
    }
   ],
   "source": [
    "total_rt = df['Road_Type'].value_counts().sum()\n",
    "\n",
    "single_carriageway = df['Road_Type'].value_counts().max()\n",
    "\n",
    "single_c_rt = np.round((single_carriageway/total_rt) * 100, 2)\n",
    "\n",
    "print(single_c_rt)\n",
    "\n",
    "df['Road_Type'].value_counts()"
   ]
  },
  {
   "cell_type": "markdown",
   "id": "1e3c9e3d",
   "metadata": {},
   "source": [
    "<h3><span style='color: Red;'>INSIGHT #5 :</span> The analysis reveals that the majority of accidents occurred on single carriageway roads, with a total of 496,663 incidents, accounting for 75.17% of all recorded accidents. This suggests that single carriageways may pose higher risks, potentially due to factors such as limited lanes, lack of central barriers, or higher traffic density. Further investigation into road design and traffic management could help improve safety in these areas.</h3>"
   ]
  },
  {
   "cell_type": "markdown",
   "id": "7e18fac9",
   "metadata": {},
   "source": [
    "<hr>"
   ]
  },
  {
   "cell_type": "markdown",
   "id": "09cafffa",
   "metadata": {},
   "source": [
    "<h3><span style='color: Green;'>QUESTION 6</span> : Under what road surface conditions does most accident occurs?</h3>"
   ]
  },
  {
   "cell_type": "code",
   "execution_count": 24,
   "id": "2bb8d29a",
   "metadata": {},
   "outputs": [
    {
     "name": "stdout",
     "output_type": "stream",
     "text": [
      "67.78\n"
     ]
    },
    {
     "data": {
      "text/plain": [
       "Road_Surface_Conditions\n",
       "Dry                     447821\n",
       "Wet or damp             186708\n",
       "Frost or ice             18517\n",
       "Snow                      5890\n",
       "Flood over 3cm. deep      1017\n",
       "uncouted                   726\n",
       "Name: count, dtype: int64"
      ]
     },
     "execution_count": 24,
     "metadata": {},
     "output_type": "execute_result"
    }
   ],
   "source": [
    "total_rsc = df['Road_Surface_Conditions'].value_counts().sum()\n",
    "\n",
    "dry = df['Road_Surface_Conditions'].value_counts().max()\n",
    "\n",
    "dry_surface = np.round((dry/total_rsc) * 100, 2)\n",
    "\n",
    "print(dry_surface)\n",
    "\n",
    "df['Road_Surface_Conditions'].value_counts()"
   ]
  },
  {
   "cell_type": "markdown",
   "id": "e3a1b0cf",
   "metadata": {},
   "source": [
    "<h3><span style='color: Red;'>INSIGHT #6 :</span> The analysis indicates that the majority of accidents occurred on dry road surfaces, totaling 448,547 incidents, which accounts for 67.89% of all recorded accidents. This suggests that road surface conditions alone may not be the primary cause of accidents, emphasizing the need to consider other factors such as driver behavior, traffic volume, and road design.</h3>"
   ]
  },
  {
   "cell_type": "markdown",
   "id": "6736b1a3",
   "metadata": {},
   "source": [
    "<hr>"
   ]
  },
  {
   "cell_type": "markdown",
   "id": "338151cd",
   "metadata": {},
   "source": [
    "<h2 style='color: Blue;'>BIVARIATE</h2>"
   ]
  },
  {
   "cell_type": "markdown",
   "id": "4e540ea8",
   "metadata": {},
   "source": [
    "<h3><span style='color: Green;'>QUESTION 7</span> : What is the light condition where the severity is categorize as fatal? </h3>"
   ]
  },
  {
   "cell_type": "code",
   "execution_count": 25,
   "id": "1a97eadf",
   "metadata": {},
   "outputs": [
    {
     "data": {
      "text/plain": [
       "Light_Conditions\n",
       "Daylight                       5076\n",
       "Darkness - lights lit          1860\n",
       "Darkness - no lighting         1612\n",
       "Darkness - lighting unknown      68\n",
       "Darkness - lights unlit          45\n",
       "Name: count, dtype: int64"
      ]
     },
     "execution_count": 25,
     "metadata": {},
     "output_type": "execute_result"
    }
   ],
   "source": [
    "light_conditions = df['Light_Conditions']\n",
    "\n",
    "fatal = df[df['Accident_Severity'] == 'Fatal']\n",
    "\n",
    "fatal['Light_Conditions'].value_counts()"
   ]
  },
  {
   "cell_type": "markdown",
   "id": "4808e767",
   "metadata": {},
   "source": [
    "<h3><span style='color: Red;'>INSIGHT #7 :</span> The analysis reveals that <i>\"FATAL\"</i> accidents occur most frequently under daylight conditions, with a total of 5,076 incidents. This suggests that visibility alone is not a primary factor in accident severity. Additionally, while daylight accounts for the highest number of accidents overall, darkness with unlit roads records the lowest, indicating that lower traffic volume at night may contribute to fewer incidents. </h3>"
   ]
  },
  {
   "cell_type": "markdown",
   "id": "e0fc4903",
   "metadata": {},
   "source": [
    "<hr>"
   ]
  },
  {
   "cell_type": "markdown",
   "id": "a3e7cc14",
   "metadata": {},
   "source": [
    "<h3><span style='color: Green;'>QUESTION 8</span> : What type vehicle often involve in accident during Saturday which is has the highest number of accident occurrencies weekly?</h3>"
   ]
  },
  {
   "cell_type": "code",
   "execution_count": 26,
   "id": "456091b8",
   "metadata": {},
   "outputs": [
    {
     "name": "stdout",
     "output_type": "stream",
     "text": [
      "Car vehicle type has the most number of accident during saturday.\n",
      "75.16 %\n"
     ]
    },
    {
     "data": {
      "text/plain": [
       "Vehicle_Type\n",
       "Car                                      80558\n",
       "Van / Goods 3.5 tonnes mgw or under       5676\n",
       "Motorcycle over 500cc                     4200\n",
       "Bus or coach (17 or more pass seats)      4140\n",
       "Goods 7.5 tonnes mgw and over             2828\n",
       "Motorcycle 125cc and under                2543\n",
       "Taxi/Private hire car                     2215\n",
       "Motorcycle over 125cc and up to 500cc     1209\n",
       "Motorcycle 50cc and under                 1181\n",
       "Goods over 3.5t. and under 7.5t           1016\n",
       "Other vehicle                              946\n",
       "Agricultural vehicle                       322\n",
       "Minibus (8 - 16 passenger seats)           308\n",
       "Pedal cycle                                 34\n",
       "Data missing or out of range                 2\n",
       "Ridden horse                                 0\n",
       "Name: count, dtype: int64"
      ]
     },
     "execution_count": 26,
     "metadata": {},
     "output_type": "execute_result"
    }
   ],
   "source": [
    "sat_df = df[df['DayOfWeek'] == 'Saturday']\n",
    "car = sat_df[sat_df['Vehicle_Type'] == 'Car'].value_counts().sum()\n",
    "\n",
    "car_rate_sat = np.round((car / sat_df.value_counts().sum()) * 100, 2)\n",
    "\n",
    "print('Car vehicle type has the most number of accident during saturday.')\n",
    "print(f'{car_rate_sat} %')\n",
    "sat_df['Vehicle_Type'].value_counts()"
   ]
  },
  {
   "cell_type": "markdown",
   "id": "f65d3bd9",
   "metadata": {},
   "source": [
    "<h3><span style='color: Red;'>INSIGHT #8 :</span> The analysis reveals that cars are the most frequently involved vehicle type in accidents occurring on Saturdays, accounting for 75.16% (80,558 accidents) out of the total 107,178 Saturday accidents. This suggests that weekends, particularly Saturdays, see a higher volume of car-related incidents, possibly due to increased travel and leisure activities.</h3>"
   ]
  },
  {
   "cell_type": "markdown",
   "id": "0d2b734f",
   "metadata": {},
   "source": [
    "<hr>"
   ]
  },
  {
   "cell_type": "markdown",
   "id": "ae7445d4",
   "metadata": {},
   "source": [
    "<h3><span style='color: Green;'>QUESTION 9</span> : What is the average casualties where only 2 vehicle is involve?</h3>"
   ]
  },
  {
   "cell_type": "code",
   "execution_count": 27,
   "id": "75a5d7bc",
   "metadata": {},
   "outputs": [
    {
     "data": {
      "text/plain": [
       "1.37"
      ]
     },
     "execution_count": 27,
     "metadata": {},
     "output_type": "execute_result"
    }
   ],
   "source": [
    "two_vehicle = df[(df['Number_of_Vehicles'] == 2)]\n",
    "\n",
    "np.round(two_vehicle['Number_of_Casualties'].mean(), 2)"
   ]
  },
  {
   "cell_type": "markdown",
   "id": "269dd513",
   "metadata": {},
   "source": [
    "<h3><span style='color: Red;'>INSIGHT #9 :</span> The analysis shows that the average number of Casualties per accident is 1.37. This is accidents where two vehicles are involve and account for the highest number of incidents, emphasizing the need for improved road safety measures and driver awareness to reduce accident.</h3>"
   ]
  },
  {
   "cell_type": "markdown",
   "id": "f40dc40c",
   "metadata": {},
   "source": [
    "<hr>"
   ]
  },
  {
   "cell_type": "markdown",
   "id": "46cfeeae-2b6c-450a-838b-da7fc8b44986",
   "metadata": {},
   "source": [
    "<h3><span style='color: Green;'>QUESTION 10</span> : What is the total number of fatal accidemt that happen in urban area?</h3>"
   ]
  },
  {
   "cell_type": "code",
   "execution_count": 28,
   "id": "c026efc9",
   "metadata": {},
   "outputs": [
    {
     "name": "stdout",
     "output_type": "stream",
     "text": [
      "The recorded accident in Urban area which resulted to Fatal severity is 3060 which is only 0.73% of the total accident recorded 421663.\n"
     ]
    }
   ],
   "source": [
    "urban_fatal = df[(df['Urban_or_Rural_Area'] == 'Urban') & (df['Accident_Severity'] == 'Fatal')].value_counts().sum()\n",
    "\n",
    "rural_total_accident = df[df['Urban_or_Rural_Area'] == 'Urban'].value_counts().sum()\n",
    "\n",
    "fatal_rate_raral = np.round((urban_fatal / rural_total_accident) * 100, 2)\n",
    "\n",
    "print(f'The recorded accident in Urban area which resulted to Fatal severity is {urban_fatal} which is only {fatal_rate_raral}% of the total accident recorded {rural_total_accident}.')"
   ]
  },
  {
   "cell_type": "markdown",
   "id": "e69d88f2",
   "metadata": {},
   "source": [
    "<h3><span style='color: Red;'>INSIGHT #10 :</span> The recorded number of fatal accidents in urban areas is 3,060, making up only 0.73% of the total 421,663 accidents. This suggests that while urban areas experience a high volume of accidents, the proportion of fatal incidents remains relatively low. Factors such as lower driving speeds, traffic regulations, and quicker emergency response may contribute to this trend.</h3>"
   ]
  },
  {
   "cell_type": "markdown",
   "id": "6d0696fa",
   "metadata": {},
   "source": [
    "<hr>"
   ]
  },
  {
   "cell_type": "markdown",
   "id": "fcb47ce1",
   "metadata": {},
   "source": [
    "<h3><span style='color: Green;'>QUESTION 11</span> : Averange accident per day of the week which a Car type vehicle got involve</h3>"
   ]
  },
  {
   "cell_type": "code",
   "execution_count": 29,
   "id": "b60b7d94",
   "metadata": {},
   "outputs": [
    {
     "name": "stdout",
     "output_type": "stream",
     "text": [
      "Monday : 54957 (11.04%)\n",
      "Tuesday : 71242 (14.31%)\n",
      "Wednesday : 75172 (15.1%)\n",
      "Thursday : 74941 (15.05%)\n",
      "Friday : 73828 (14.83%)\n",
      "Saturday : 80558 (16.18%)\n",
      "Sunday : 67294 (13.51%)\n",
      "The total number of accident with car type vehicle is 497992.\n"
     ]
    }
   ],
   "source": [
    "days = [\"Monday\", \"Tuesday\", \"Wednesday\", \"Thursday\", \"Friday\", \"Saturday\", \"Sunday\"]\n",
    "\n",
    "number_of_acc = [df[(df['DayOfWeek'] == i) & (df['Vehicle_Type'] == 'Car')].value_counts().sum() for i in days]\n",
    "\n",
    "car_total_dt = df[df['Vehicle_Type'] == 'Car'].value_counts().sum()\n",
    "\n",
    "for num, day in zip(number_of_acc, days):\n",
    "    rate = np.round((num / car_total_dt) * 100, 2)\n",
    "    \n",
    "    print(f'{day} : {num} ({rate}%)')\n",
    "\n",
    "print(f'The total number of accident with car type vehicle is {car_total_dt}.')"
   ]
  },
  {
   "cell_type": "markdown",
   "id": "a719be7c",
   "metadata": {},
   "source": [
    "<h3><span style='color: Red;'>INSIGHT #11 :</span> The analysis indicates that Saturday has the highest number of car-related accidents, accounting for 16.18% (80,558 accidents) of the total 497,992 car accidents recorded. This aligns with the trend of increased road activity on weekends, possibly due to leisure travel and social gatherings. Meanwhile, Monday records the lowest number of car accidents (11.04% or 54,957 accidents), suggesting reduced travel frequency at the start of the workweek. The data highlights a consistent increase in accidents from Monday to Saturday, peaking on weekends, which may indicate a correlation between road congestion and accident frequency.</h3>"
   ]
  },
  {
   "cell_type": "markdown",
   "id": "5a0b7856",
   "metadata": {},
   "source": [
    "<hr>"
   ]
  },
  {
   "cell_type": "markdown",
   "id": "e2b3380c",
   "metadata": {},
   "source": [
    "<h3><span style='color: Green;'>QUESTION 12</span> : Is there any correlation between number of casualties to the number of vehicles involve in an accident?</h3>"
   ]
  },
  {
   "cell_type": "code",
   "execution_count": 30,
   "id": "5f680201",
   "metadata": {},
   "outputs": [
    {
     "data": {
      "text/plain": [
       "0.2288888612692756"
      ]
     },
     "execution_count": 30,
     "metadata": {},
     "output_type": "execute_result"
    }
   ],
   "source": [
    "df['Number_of_Casualties'].corr(df['Number_of_Vehicles'])"
   ]
  },
  {
   "cell_type": "markdown",
   "id": "4387e057",
   "metadata": {},
   "source": [
    "<h3><span style='color: Red;'>INSIGHT #12 :</span> The analysis suggests that there is no strong correlation between the number of casualties and the number of vehicles involved in an accident. This indicates that a higher number of vehicles in a crash does not necessarily result in more casualties. Other factors, such as impact severity, vehicle type, safety measures, and road conditions, may play a more significant role in determining casualty numbers rather than just the number of vehicles involved.</h3>"
   ]
  },
  {
   "cell_type": "markdown",
   "id": "2d95e471",
   "metadata": {},
   "source": [
    "<hr>"
   ]
  },
  {
   "cell_type": "markdown",
   "id": "0ca5b1b0",
   "metadata": {},
   "source": [
    "<h3><span style='color: Green;'>QUESTION 13</span> : Is there any correlation between different accident severity and the number of casualties?</h3>"
   ]
  },
  {
   "cell_type": "code",
   "execution_count": 31,
   "id": "90712a3e",
   "metadata": {},
   "outputs": [
    {
     "data": {
      "text/plain": [
       "Accident_Severity\n",
       "Slight     563801\n",
       "Serious     88217\n",
       "Fatal        8661\n",
       "Name: count, dtype: int64"
      ]
     },
     "execution_count": 31,
     "metadata": {},
     "output_type": "execute_result"
    }
   ],
   "source": [
    "df['Accident_Severity'].value_counts()"
   ]
  },
  {
   "cell_type": "code",
   "execution_count": 32,
   "id": "07cc4b2d",
   "metadata": {},
   "outputs": [
    {
     "name": "stdout",
     "output_type": "stream",
     "text": [
      "P-value: 0.0\n"
     ]
    }
   ],
   "source": [
    "fatal = df[df['Accident_Severity'] == 'Fatal']['Number_of_Casualties']\n",
    "serious = df[df['Accident_Severity'] == 'Serious']['Number_of_Casualties']\n",
    "slight = df[df['Accident_Severity'] == 'Slight']['Number_of_Casualties']\n",
    "\n",
    "f_stat, p_value = f_oneway(fatal, serious, slight)\n",
    "\n",
    "print(f\"P-value: {p_value}\")"
   ]
  },
  {
   "cell_type": "markdown",
   "id": "7bf4cdaf",
   "metadata": {},
   "source": [
    "<h3><span style='color: Red;'>INSIGHT #13 :</span> The P-value of 0.0 suggests an extremely strong statistical significance, indicating that the relationship between the variables is not due to random chance. In terms of correlation, this implies that there is a strong dependency between the categorical and numerical variables being analyzed. The lower the P-value, the stronger the evidence that changes in one variable are systematically linked to differences in the other.</h3>"
   ]
  },
  {
   "cell_type": "markdown",
   "id": "7241f709",
   "metadata": {},
   "source": [
    "<hr>"
   ]
  },
  {
   "cell_type": "markdown",
   "id": "5fac8f39",
   "metadata": {},
   "source": [
    "<h2 style='color: Blue;'>MULTIVARIATE</h2>"
   ]
  },
  {
   "cell_type": "markdown",
   "id": "50f1e50c",
   "metadata": {},
   "source": [
    "<h3><span style='color: Green;'>QUESTION  14</span> : What year got the highest number of accident occurrences?</h3>"
   ]
  },
  {
   "cell_type": "code",
   "execution_count": 33,
   "id": "e9b3f4a2",
   "metadata": {},
   "outputs": [
    {
     "name": "stdout",
     "output_type": "stream",
     "text": [
      "Number of accident each year:\n"
     ]
    },
    {
     "data": {
      "text/plain": [
       "Year\n",
       "2019    182115\n",
       "2020    170591\n",
       "2021    163554\n",
       "2022    144419\n",
       "Name: count, dtype: int64"
      ]
     },
     "execution_count": 33,
     "metadata": {},
     "output_type": "execute_result"
    }
   ],
   "source": [
    "print('Number of accident each year:')\n",
    "df['Year'].value_counts()"
   ]
  },
  {
   "cell_type": "code",
   "execution_count": 34,
   "id": "ffac9a68",
   "metadata": {},
   "outputs": [
    {
     "name": "stdout",
     "output_type": "stream",
     "text": [
      "Rate of each year in number of accident:\n",
      "2019 : 27.56%\n",
      "2020 : 25.82%\n",
      "2021 : 24.76%\n",
      "2022 : 21.86%\n"
     ]
    }
   ],
   "source": [
    "print('Rate of each year in number of accident:')\n",
    "\n",
    "total = df['Year'].value_counts().sum()\n",
    "\n",
    "starting_year = 2019\n",
    "for i in range(4):\n",
    "    year = starting_year + i\n",
    "    year_data = df[df['Year'] == year].value_counts().sum()\n",
    "    print(f'{year} : {np.round((year_data / total) * 100, 2)}%')"
   ]
  },
  {
   "cell_type": "markdown",
   "id": "d99b8354",
   "metadata": {},
   "source": [
    "<h3><span style='color: Red;'>INSIGHT #14 :</span> The follow rate each year:</h3>\n",
    "\n",
    "<ol>\n",
    "    <li>2019 - 27.56% (182,115)</li>\n",
    "    <li>2020 - 25.82% (170,591)</li>\n",
    "    <li>2021 - 24.76% (163,554)</li>\n",
    "    <li>2022 - 21.86% (144,419)</li>\n",
    "</ol>\n",
    "\n",
    "<h3>Based on the analysis, we can conclude that the number of accidents has decreased over the past four years, from 2019 to 2022. This downward trend suggests potential improvements in road safety measures, enforcement, or public awareness. However, further analysis is needed to identify the key factors contributing to this decline.</h3>"
   ]
  },
  {
   "cell_type": "markdown",
   "id": "8ae25f67",
   "metadata": {},
   "source": [
    "<hr>"
   ]
  },
  {
   "cell_type": "markdown",
   "id": "b4e484c3",
   "metadata": {},
   "source": [
    "<h3><span style='color: Green;'>QUESTION 15</span> : In what light condition does the highest average of number of casualties has been recorded while considering the road type?</h3>"
   ]
  },
  {
   "cell_type": "code",
   "execution_count": 35,
   "id": "10de254d",
   "metadata": {},
   "outputs": [
    {
     "data": {
      "text/html": [
       "<div>\n",
       "<style scoped>\n",
       "    .dataframe tbody tr th:only-of-type {\n",
       "        vertical-align: middle;\n",
       "    }\n",
       "\n",
       "    .dataframe tbody tr th {\n",
       "        vertical-align: top;\n",
       "    }\n",
       "\n",
       "    .dataframe thead th {\n",
       "        text-align: right;\n",
       "    }\n",
       "</style>\n",
       "<table border=\"1\" class=\"dataframe\">\n",
       "  <thead>\n",
       "    <tr style=\"text-align: right;\">\n",
       "      <th>Road_Type</th>\n",
       "      <th>Dual carriageway</th>\n",
       "      <th>One way street</th>\n",
       "      <th>Roundabout</th>\n",
       "      <th>Single carriageway</th>\n",
       "      <th>Slip road</th>\n",
       "      <th>uncouted</th>\n",
       "    </tr>\n",
       "    <tr>\n",
       "      <th>Light_Conditions</th>\n",
       "      <th></th>\n",
       "      <th></th>\n",
       "      <th></th>\n",
       "      <th></th>\n",
       "      <th></th>\n",
       "      <th></th>\n",
       "    </tr>\n",
       "  </thead>\n",
       "  <tbody>\n",
       "    <tr>\n",
       "      <th>Darkness - lighting unknown</th>\n",
       "      <td>1.39</td>\n",
       "      <td>1.19</td>\n",
       "      <td>1.26</td>\n",
       "      <td>1.30</td>\n",
       "      <td>1.35</td>\n",
       "      <td>1.34</td>\n",
       "    </tr>\n",
       "    <tr>\n",
       "      <th>Darkness - lights lit</th>\n",
       "      <td>1.49</td>\n",
       "      <td>1.23</td>\n",
       "      <td>1.33</td>\n",
       "      <td>1.35</td>\n",
       "      <td>1.49</td>\n",
       "      <td>1.32</td>\n",
       "    </tr>\n",
       "    <tr>\n",
       "      <th>Darkness - lights unlit</th>\n",
       "      <td>1.44</td>\n",
       "      <td>1.17</td>\n",
       "      <td>1.28</td>\n",
       "      <td>1.32</td>\n",
       "      <td>1.18</td>\n",
       "      <td>1.30</td>\n",
       "    </tr>\n",
       "    <tr>\n",
       "      <th>Darkness - no lighting</th>\n",
       "      <td>1.58</td>\n",
       "      <td>1.48</td>\n",
       "      <td>1.31</td>\n",
       "      <td>1.53</td>\n",
       "      <td>1.65</td>\n",
       "      <td>1.41</td>\n",
       "    </tr>\n",
       "    <tr>\n",
       "      <th>Daylight</th>\n",
       "      <td>1.46</td>\n",
       "      <td>1.18</td>\n",
       "      <td>1.26</td>\n",
       "      <td>1.33</td>\n",
       "      <td>1.39</td>\n",
       "      <td>1.22</td>\n",
       "    </tr>\n",
       "  </tbody>\n",
       "</table>\n",
       "</div>"
      ],
      "text/plain": [
       "Road_Type                    Dual carriageway  One way street  Roundabout  \\\n",
       "Light_Conditions                                                            \n",
       "Darkness - lighting unknown              1.39            1.19        1.26   \n",
       "Darkness - lights lit                    1.49            1.23        1.33   \n",
       "Darkness - lights unlit                  1.44            1.17        1.28   \n",
       "Darkness - no lighting                   1.58            1.48        1.31   \n",
       "Daylight                                 1.46            1.18        1.26   \n",
       "\n",
       "Road_Type                    Single carriageway  Slip road  uncouted  \n",
       "Light_Conditions                                                      \n",
       "Darkness - lighting unknown                1.30       1.35      1.34  \n",
       "Darkness - lights lit                      1.35       1.49      1.32  \n",
       "Darkness - lights unlit                    1.32       1.18      1.30  \n",
       "Darkness - no lighting                     1.53       1.65      1.41  \n",
       "Daylight                                   1.33       1.39      1.22  "
      ]
     },
     "execution_count": 35,
     "metadata": {},
     "output_type": "execute_result"
    }
   ],
   "source": [
    "new_df = np.round(df.groupby(['Light_Conditions', 'Road_Type'], observed=False)['Number_of_Casualties'].mean(), 2)\n",
    "new_df.unstack()"
   ]
  },
  {
   "cell_type": "markdown",
   "id": "00c8137b",
   "metadata": {},
   "source": [
    "<h3><span style='color: Red;'>INSIGHT #15 :</span> The analysis reveals that darkness with no lighting on slip roads results in the highest average number of casualties per accident, with an average of 1.65 casualties per incident. This suggests that poor visibility and road type play a significant role in accident severity.</h3>"
   ]
  },
  {
   "cell_type": "markdown",
   "id": "6f679a69",
   "metadata": {},
   "source": [
    "<hr>"
   ]
  },
  {
   "cell_type": "markdown",
   "id": "e5ae67aa",
   "metadata": {},
   "source": [
    "<h3><span style='color: Green;'>QUESTION 16</span> : In what road type does the highest number of inccident occurs while road surface is considered and in what severity?</h3>"
   ]
  },
  {
   "cell_type": "code",
   "execution_count": 36,
   "id": "206500ef",
   "metadata": {},
   "outputs": [
    {
     "data": {
      "text/html": [
       "<div>\n",
       "<style scoped>\n",
       "    .dataframe tbody tr th:only-of-type {\n",
       "        vertical-align: middle;\n",
       "    }\n",
       "\n",
       "    .dataframe tbody tr th {\n",
       "        vertical-align: top;\n",
       "    }\n",
       "\n",
       "    .dataframe thead th {\n",
       "        text-align: right;\n",
       "    }\n",
       "</style>\n",
       "<table border=\"1\" class=\"dataframe\">\n",
       "  <thead>\n",
       "    <tr style=\"text-align: right;\">\n",
       "      <th></th>\n",
       "      <th>Road_Surface_Conditions</th>\n",
       "      <th>Dry</th>\n",
       "      <th>Flood over 3cm. deep</th>\n",
       "      <th>Frost or ice</th>\n",
       "      <th>Snow</th>\n",
       "      <th>Wet or damp</th>\n",
       "      <th>uncouted</th>\n",
       "    </tr>\n",
       "    <tr>\n",
       "      <th>Road_Type</th>\n",
       "      <th>Accident_Severity</th>\n",
       "      <th></th>\n",
       "      <th></th>\n",
       "      <th></th>\n",
       "      <th></th>\n",
       "      <th></th>\n",
       "      <th></th>\n",
       "    </tr>\n",
       "  </thead>\n",
       "  <tbody>\n",
       "    <tr>\n",
       "      <th rowspan=\"3\" valign=\"top\">Dual carriageway</th>\n",
       "      <th>Fatal</th>\n",
       "      <td>1217</td>\n",
       "      <td>5</td>\n",
       "      <td>36</td>\n",
       "      <td>6</td>\n",
       "      <td>551</td>\n",
       "      <td>0</td>\n",
       "    </tr>\n",
       "    <tr>\n",
       "      <th>Serious</th>\n",
       "      <td>8099</td>\n",
       "      <td>42</td>\n",
       "      <td>259</td>\n",
       "      <td>108</td>\n",
       "      <td>3233</td>\n",
       "      <td>5</td>\n",
       "    </tr>\n",
       "    <tr>\n",
       "      <th>Slight</th>\n",
       "      <td>56889</td>\n",
       "      <td>255</td>\n",
       "      <td>2113</td>\n",
       "      <td>795</td>\n",
       "      <td>25749</td>\n",
       "      <td>62</td>\n",
       "    </tr>\n",
       "    <tr>\n",
       "      <th rowspan=\"3\" valign=\"top\">One way street</th>\n",
       "      <th>Fatal</th>\n",
       "      <td>74</td>\n",
       "      <td>0</td>\n",
       "      <td>0</td>\n",
       "      <td>2</td>\n",
       "      <td>19</td>\n",
       "      <td>0</td>\n",
       "    </tr>\n",
       "    <tr>\n",
       "      <th>Serious</th>\n",
       "      <td>1243</td>\n",
       "      <td>3</td>\n",
       "      <td>15</td>\n",
       "      <td>7</td>\n",
       "      <td>383</td>\n",
       "      <td>4</td>\n",
       "    </tr>\n",
       "    <tr>\n",
       "      <th>Slight</th>\n",
       "      <td>8751</td>\n",
       "      <td>2</td>\n",
       "      <td>168</td>\n",
       "      <td>67</td>\n",
       "      <td>2793</td>\n",
       "      <td>28</td>\n",
       "    </tr>\n",
       "    <tr>\n",
       "      <th rowspan=\"3\" valign=\"top\">Roundabout</th>\n",
       "      <th>Fatal</th>\n",
       "      <td>110</td>\n",
       "      <td>0</td>\n",
       "      <td>3</td>\n",
       "      <td>2</td>\n",
       "      <td>27</td>\n",
       "      <td>0</td>\n",
       "    </tr>\n",
       "    <tr>\n",
       "      <th>Serious</th>\n",
       "      <td>2633</td>\n",
       "      <td>2</td>\n",
       "      <td>60</td>\n",
       "      <td>12</td>\n",
       "      <td>951</td>\n",
       "      <td>7</td>\n",
       "    </tr>\n",
       "    <tr>\n",
       "      <th>Slight</th>\n",
       "      <td>27955</td>\n",
       "      <td>20</td>\n",
       "      <td>682</td>\n",
       "      <td>218</td>\n",
       "      <td>11231</td>\n",
       "      <td>79</td>\n",
       "    </tr>\n",
       "    <tr>\n",
       "      <th rowspan=\"3\" valign=\"top\">Single carriageway</th>\n",
       "      <th>Fatal</th>\n",
       "      <td>4336</td>\n",
       "      <td>18</td>\n",
       "      <td>153</td>\n",
       "      <td>25</td>\n",
       "      <td>1993</td>\n",
       "      <td>2</td>\n",
       "    </tr>\n",
       "    <tr>\n",
       "      <th>Serious</th>\n",
       "      <td>48873</td>\n",
       "      <td>103</td>\n",
       "      <td>1651</td>\n",
       "      <td>427</td>\n",
       "      <td>18952</td>\n",
       "      <td>53</td>\n",
       "    </tr>\n",
       "    <tr>\n",
       "      <th>Slight</th>\n",
       "      <td>279489</td>\n",
       "      <td>551</td>\n",
       "      <td>13114</td>\n",
       "      <td>4133</td>\n",
       "      <td>117798</td>\n",
       "      <td>472</td>\n",
       "    </tr>\n",
       "    <tr>\n",
       "      <th rowspan=\"3\" valign=\"top\">Slip road</th>\n",
       "      <th>Fatal</th>\n",
       "      <td>30</td>\n",
       "      <td>0</td>\n",
       "      <td>1</td>\n",
       "      <td>0</td>\n",
       "      <td>18</td>\n",
       "      <td>0</td>\n",
       "    </tr>\n",
       "    <tr>\n",
       "      <th>Serious</th>\n",
       "      <td>419</td>\n",
       "      <td>1</td>\n",
       "      <td>15</td>\n",
       "      <td>9</td>\n",
       "      <td>167</td>\n",
       "      <td>0</td>\n",
       "    </tr>\n",
       "    <tr>\n",
       "      <th>Slight</th>\n",
       "      <td>4265</td>\n",
       "      <td>8</td>\n",
       "      <td>162</td>\n",
       "      <td>51</td>\n",
       "      <td>1889</td>\n",
       "      <td>6</td>\n",
       "    </tr>\n",
       "    <tr>\n",
       "      <th rowspan=\"3\" valign=\"top\">uncouted</th>\n",
       "      <th>Fatal</th>\n",
       "      <td>21</td>\n",
       "      <td>0</td>\n",
       "      <td>0</td>\n",
       "      <td>0</td>\n",
       "      <td>12</td>\n",
       "      <td>0</td>\n",
       "    </tr>\n",
       "    <tr>\n",
       "      <th>Serious</th>\n",
       "      <td>371</td>\n",
       "      <td>1</td>\n",
       "      <td>7</td>\n",
       "      <td>2</td>\n",
       "      <td>99</td>\n",
       "      <td>1</td>\n",
       "    </tr>\n",
       "    <tr>\n",
       "      <th>Slight</th>\n",
       "      <td>3046</td>\n",
       "      <td>6</td>\n",
       "      <td>78</td>\n",
       "      <td>26</td>\n",
       "      <td>843</td>\n",
       "      <td>7</td>\n",
       "    </tr>\n",
       "  </tbody>\n",
       "</table>\n",
       "</div>"
      ],
      "text/plain": [
       "Road_Surface_Conditions                  Dry  Flood over 3cm. deep  \\\n",
       "Road_Type          Accident_Severity                                 \n",
       "Dual carriageway   Fatal                1217                     5   \n",
       "                   Serious              8099                    42   \n",
       "                   Slight              56889                   255   \n",
       "One way street     Fatal                  74                     0   \n",
       "                   Serious              1243                     3   \n",
       "                   Slight               8751                     2   \n",
       "Roundabout         Fatal                 110                     0   \n",
       "                   Serious              2633                     2   \n",
       "                   Slight              27955                    20   \n",
       "Single carriageway Fatal                4336                    18   \n",
       "                   Serious             48873                   103   \n",
       "                   Slight             279489                   551   \n",
       "Slip road          Fatal                  30                     0   \n",
       "                   Serious               419                     1   \n",
       "                   Slight               4265                     8   \n",
       "uncouted           Fatal                  21                     0   \n",
       "                   Serious               371                     1   \n",
       "                   Slight               3046                     6   \n",
       "\n",
       "Road_Surface_Conditions               Frost or ice  Snow  Wet or damp  \\\n",
       "Road_Type          Accident_Severity                                    \n",
       "Dual carriageway   Fatal                        36     6          551   \n",
       "                   Serious                     259   108         3233   \n",
       "                   Slight                     2113   795        25749   \n",
       "One way street     Fatal                         0     2           19   \n",
       "                   Serious                      15     7          383   \n",
       "                   Slight                      168    67         2793   \n",
       "Roundabout         Fatal                         3     2           27   \n",
       "                   Serious                      60    12          951   \n",
       "                   Slight                      682   218        11231   \n",
       "Single carriageway Fatal                       153    25         1993   \n",
       "                   Serious                    1651   427        18952   \n",
       "                   Slight                    13114  4133       117798   \n",
       "Slip road          Fatal                         1     0           18   \n",
       "                   Serious                      15     9          167   \n",
       "                   Slight                      162    51         1889   \n",
       "uncouted           Fatal                         0     0           12   \n",
       "                   Serious                       7     2           99   \n",
       "                   Slight                       78    26          843   \n",
       "\n",
       "Road_Surface_Conditions               uncouted  \n",
       "Road_Type          Accident_Severity            \n",
       "Dual carriageway   Fatal                     0  \n",
       "                   Serious                   5  \n",
       "                   Slight                   62  \n",
       "One way street     Fatal                     0  \n",
       "                   Serious                   4  \n",
       "                   Slight                   28  \n",
       "Roundabout         Fatal                     0  \n",
       "                   Serious                   7  \n",
       "                   Slight                   79  \n",
       "Single carriageway Fatal                     2  \n",
       "                   Serious                  53  \n",
       "                   Slight                  472  \n",
       "Slip road          Fatal                     0  \n",
       "                   Serious                   0  \n",
       "                   Slight                    6  \n",
       "uncouted           Fatal                     0  \n",
       "                   Serious                   1  \n",
       "                   Slight                    7  "
      ]
     },
     "execution_count": 36,
     "metadata": {},
     "output_type": "execute_result"
    }
   ],
   "source": [
    "df.groupby(['Road_Type', 'Accident_Severity', 'Road_Surface_Conditions'], observed=False)['Index'].count().unstack()"
   ]
  },
  {
   "cell_type": "raw",
   "id": "c7a67ca6",
   "metadata": {},
   "source": [
    "Single carriageway\n",
    "Slight\n",
    "Dry\n",
    ":279489"
   ]
  },
  {
   "cell_type": "markdown",
   "id": "3deff561",
   "metadata": {},
   "source": [
    "<h3><span style='color: Red;'>INSIGHT #16 :</span> The analysis reveals that accidents occur most frequently on single carriageway roads with dry road surface conditions. However, these accidents are predominantly categorized as slight severity, indicating that while this road type experiences high accident volume, the impact of these incidents is generally less severe.</h3>"
   ]
  },
  {
   "cell_type": "markdown",
   "id": "aea3413f",
   "metadata": {},
   "source": [
    "<hr>"
   ]
  },
  {
   "cell_type": "markdown",
   "id": "03faee40",
   "metadata": {},
   "source": [
    "<h3><span style='color: Green;'>QUESTION 17</span> : Who got highest number accident in the past 4 year is it Urban or Rual area in consideration of the accident severity and the day of the week?</h3>"
   ]
  },
  {
   "cell_type": "code",
   "execution_count": 37,
   "id": "ecd6972c",
   "metadata": {},
   "outputs": [
    {
     "data": {
      "text/html": [
       "<div>\n",
       "<style scoped>\n",
       "    .dataframe tbody tr th:only-of-type {\n",
       "        vertical-align: middle;\n",
       "    }\n",
       "\n",
       "    .dataframe tbody tr th {\n",
       "        vertical-align: top;\n",
       "    }\n",
       "\n",
       "    .dataframe thead th {\n",
       "        text-align: right;\n",
       "    }\n",
       "</style>\n",
       "<table border=\"1\" class=\"dataframe\">\n",
       "  <thead>\n",
       "    <tr style=\"text-align: right;\">\n",
       "      <th></th>\n",
       "      <th>DayOfWeek</th>\n",
       "      <th>Friday</th>\n",
       "      <th>Monday</th>\n",
       "      <th>Saturday</th>\n",
       "      <th>Sunday</th>\n",
       "      <th>Thursday</th>\n",
       "      <th>Tuesday</th>\n",
       "      <th>Wednesday</th>\n",
       "    </tr>\n",
       "    <tr>\n",
       "      <th>Urban_or_Rural_Area</th>\n",
       "      <th>Accident_Severity</th>\n",
       "      <th></th>\n",
       "      <th></th>\n",
       "      <th></th>\n",
       "      <th></th>\n",
       "      <th></th>\n",
       "      <th></th>\n",
       "      <th></th>\n",
       "    </tr>\n",
       "  </thead>\n",
       "  <tbody>\n",
       "    <tr>\n",
       "      <th rowspan=\"3\" valign=\"top\">Rural</th>\n",
       "      <th>Fatal</th>\n",
       "      <td>702</td>\n",
       "      <td>984</td>\n",
       "      <td>813</td>\n",
       "      <td>994</td>\n",
       "      <td>695</td>\n",
       "      <td>729</td>\n",
       "      <td>684</td>\n",
       "    </tr>\n",
       "    <tr>\n",
       "      <th>Serious</th>\n",
       "      <td>5109</td>\n",
       "      <td>5911</td>\n",
       "      <td>5597</td>\n",
       "      <td>5843</td>\n",
       "      <td>5015</td>\n",
       "      <td>4913</td>\n",
       "      <td>4924</td>\n",
       "    </tr>\n",
       "    <tr>\n",
       "      <th>Slight</th>\n",
       "      <td>28312</td>\n",
       "      <td>23389</td>\n",
       "      <td>31583</td>\n",
       "      <td>26617</td>\n",
       "      <td>29048</td>\n",
       "      <td>27883</td>\n",
       "      <td>29245</td>\n",
       "    </tr>\n",
       "    <tr>\n",
       "      <th rowspan=\"3\" valign=\"top\">Unallocated</th>\n",
       "      <th>Fatal</th>\n",
       "      <td>0</td>\n",
       "      <td>0</td>\n",
       "      <td>0</td>\n",
       "      <td>0</td>\n",
       "      <td>0</td>\n",
       "      <td>0</td>\n",
       "      <td>0</td>\n",
       "    </tr>\n",
       "    <tr>\n",
       "      <th>Serious</th>\n",
       "      <td>0</td>\n",
       "      <td>1</td>\n",
       "      <td>1</td>\n",
       "      <td>1</td>\n",
       "      <td>0</td>\n",
       "      <td>0</td>\n",
       "      <td>0</td>\n",
       "    </tr>\n",
       "    <tr>\n",
       "      <th>Slight</th>\n",
       "      <td>6</td>\n",
       "      <td>2</td>\n",
       "      <td>4</td>\n",
       "      <td>1</td>\n",
       "      <td>5</td>\n",
       "      <td>1</td>\n",
       "      <td>4</td>\n",
       "    </tr>\n",
       "    <tr>\n",
       "      <th rowspan=\"3\" valign=\"top\">Urban</th>\n",
       "      <th>Fatal</th>\n",
       "      <td>411</td>\n",
       "      <td>401</td>\n",
       "      <td>513</td>\n",
       "      <td>528</td>\n",
       "      <td>402</td>\n",
       "      <td>376</td>\n",
       "      <td>429</td>\n",
       "    </tr>\n",
       "    <tr>\n",
       "      <th>Serious</th>\n",
       "      <td>7524</td>\n",
       "      <td>5752</td>\n",
       "      <td>8402</td>\n",
       "      <td>7230</td>\n",
       "      <td>7425</td>\n",
       "      <td>7005</td>\n",
       "      <td>7564</td>\n",
       "    </tr>\n",
       "    <tr>\n",
       "      <th>Slight</th>\n",
       "      <td>55836</td>\n",
       "      <td>36240</td>\n",
       "      <td>60265</td>\n",
       "      <td>48088</td>\n",
       "      <td>56921</td>\n",
       "      <td>53643</td>\n",
       "      <td>56708</td>\n",
       "    </tr>\n",
       "  </tbody>\n",
       "</table>\n",
       "</div>"
      ],
      "text/plain": [
       "DayOfWeek                              Friday  Monday  Saturday  Sunday  \\\n",
       "Urban_or_Rural_Area Accident_Severity                                     \n",
       "Rural               Fatal                 702     984       813     994   \n",
       "                    Serious              5109    5911      5597    5843   \n",
       "                    Slight              28312   23389     31583   26617   \n",
       "Unallocated         Fatal                   0       0         0       0   \n",
       "                    Serious                 0       1         1       1   \n",
       "                    Slight                  6       2         4       1   \n",
       "Urban               Fatal                 411     401       513     528   \n",
       "                    Serious              7524    5752      8402    7230   \n",
       "                    Slight              55836   36240     60265   48088   \n",
       "\n",
       "DayOfWeek                              Thursday  Tuesday  Wednesday  \n",
       "Urban_or_Rural_Area Accident_Severity                                \n",
       "Rural               Fatal                   695      729        684  \n",
       "                    Serious                5015     4913       4924  \n",
       "                    Slight                29048    27883      29245  \n",
       "Unallocated         Fatal                     0        0          0  \n",
       "                    Serious                   0        0          0  \n",
       "                    Slight                    5        1          4  \n",
       "Urban               Fatal                   402      376        429  \n",
       "                    Serious                7425     7005       7564  \n",
       "                    Slight                56921    53643      56708  "
      ]
     },
     "execution_count": 37,
     "metadata": {},
     "output_type": "execute_result"
    }
   ],
   "source": [
    "df.groupby(['Urban_or_Rural_Area', 'Accident_Severity', 'DayOfWeek'], observed=False)['Index'].count().unstack()"
   ]
  },
  {
   "cell_type": "raw",
   "id": "d8f6eb0d",
   "metadata": {},
   "source": [
    "Urban\n",
    "Slight\n",
    "Saturday\n",
    ":60265"
   ]
  },
  {
   "cell_type": "markdown",
   "id": "b3d3ee87",
   "metadata": {},
   "source": [
    "<h3><span style='color: Red;'>INSIGHT #17 :</span> The analysis reveals that urban areas have recorded the highest number of accidents over the past four years while putting into account the day of the week and accident severity. Most of these accidents occurred on Saturdays and were classified as slight in terms of severity.</h3>"
   ]
  },
  {
   "cell_type": "markdown",
   "id": "05a0c526",
   "metadata": {},
   "source": [
    "<hr>"
   ]
  },
  {
   "cell_type": "markdown",
   "id": "3cb8659f",
   "metadata": {},
   "source": [
    "<h3><span style='color: Green;'>QUESTION 18</span> : In what area and road type has recorded the highest number accident while considering the weather condition?</h3>"
   ]
  },
  {
   "cell_type": "code",
   "execution_count": 38,
   "id": "41c31b6e",
   "metadata": {},
   "outputs": [
    {
     "data": {
      "text/html": [
       "<div>\n",
       "<style scoped>\n",
       "    .dataframe tbody tr th:only-of-type {\n",
       "        vertical-align: middle;\n",
       "    }\n",
       "\n",
       "    .dataframe tbody tr th {\n",
       "        vertical-align: top;\n",
       "    }\n",
       "\n",
       "    .dataframe thead th {\n",
       "        text-align: right;\n",
       "    }\n",
       "</style>\n",
       "<table border=\"1\" class=\"dataframe\">\n",
       "  <thead>\n",
       "    <tr style=\"text-align: right;\">\n",
       "      <th></th>\n",
       "      <th>Weather_Conditions</th>\n",
       "      <th>Fine + high winds</th>\n",
       "      <th>Fine no high winds</th>\n",
       "      <th>Fog or mist</th>\n",
       "      <th>Other</th>\n",
       "      <th>Raining + high winds</th>\n",
       "      <th>Raining no high winds</th>\n",
       "      <th>Snowing + high winds</th>\n",
       "      <th>Snowing no high winds</th>\n",
       "      <th>uncouted</th>\n",
       "    </tr>\n",
       "    <tr>\n",
       "      <th>Road_Type</th>\n",
       "      <th>Urban_or_Rural_Area</th>\n",
       "      <th></th>\n",
       "      <th></th>\n",
       "      <th></th>\n",
       "      <th></th>\n",
       "      <th></th>\n",
       "      <th></th>\n",
       "      <th></th>\n",
       "      <th></th>\n",
       "      <th></th>\n",
       "    </tr>\n",
       "  </thead>\n",
       "  <tbody>\n",
       "    <tr>\n",
       "      <th rowspan=\"3\" valign=\"top\">Dual carriageway</th>\n",
       "      <th>Rural</th>\n",
       "      <td>874</td>\n",
       "      <td>37018</td>\n",
       "      <td>513</td>\n",
       "      <td>1047</td>\n",
       "      <td>1269</td>\n",
       "      <td>6456</td>\n",
       "      <td>137</td>\n",
       "      <td>676</td>\n",
       "      <td>725</td>\n",
       "    </tr>\n",
       "    <tr>\n",
       "      <th>Unallocated</th>\n",
       "      <td>0</td>\n",
       "      <td>3</td>\n",
       "      <td>0</td>\n",
       "      <td>0</td>\n",
       "      <td>0</td>\n",
       "      <td>1</td>\n",
       "      <td>0</td>\n",
       "      <td>0</td>\n",
       "      <td>1</td>\n",
       "    </tr>\n",
       "    <tr>\n",
       "      <th>Urban</th>\n",
       "      <td>645</td>\n",
       "      <td>39895</td>\n",
       "      <td>169</td>\n",
       "      <td>1217</td>\n",
       "      <td>764</td>\n",
       "      <td>6587</td>\n",
       "      <td>48</td>\n",
       "      <td>344</td>\n",
       "      <td>1035</td>\n",
       "    </tr>\n",
       "    <tr>\n",
       "      <th rowspan=\"3\" valign=\"top\">One way street</th>\n",
       "      <th>Rural</th>\n",
       "      <td>13</td>\n",
       "      <td>946</td>\n",
       "      <td>7</td>\n",
       "      <td>31</td>\n",
       "      <td>18</td>\n",
       "      <td>133</td>\n",
       "      <td>2</td>\n",
       "      <td>5</td>\n",
       "      <td>38</td>\n",
       "    </tr>\n",
       "    <tr>\n",
       "      <th>Unallocated</th>\n",
       "      <td>0</td>\n",
       "      <td>1</td>\n",
       "      <td>0</td>\n",
       "      <td>0</td>\n",
       "      <td>0</td>\n",
       "      <td>0</td>\n",
       "      <td>0</td>\n",
       "      <td>0</td>\n",
       "      <td>0</td>\n",
       "    </tr>\n",
       "    <tr>\n",
       "      <th>Urban</th>\n",
       "      <td>145</td>\n",
       "      <td>10110</td>\n",
       "      <td>22</td>\n",
       "      <td>278</td>\n",
       "      <td>135</td>\n",
       "      <td>1296</td>\n",
       "      <td>12</td>\n",
       "      <td>73</td>\n",
       "      <td>294</td>\n",
       "    </tr>\n",
       "    <tr>\n",
       "      <th rowspan=\"3\" valign=\"top\">Roundabout</th>\n",
       "      <th>Rural</th>\n",
       "      <td>204</td>\n",
       "      <td>12375</td>\n",
       "      <td>124</td>\n",
       "      <td>369</td>\n",
       "      <td>200</td>\n",
       "      <td>1740</td>\n",
       "      <td>17</td>\n",
       "      <td>98</td>\n",
       "      <td>418</td>\n",
       "    </tr>\n",
       "    <tr>\n",
       "      <th>Unallocated</th>\n",
       "      <td>0</td>\n",
       "      <td>0</td>\n",
       "      <td>0</td>\n",
       "      <td>0</td>\n",
       "      <td>0</td>\n",
       "      <td>1</td>\n",
       "      <td>0</td>\n",
       "      <td>0</td>\n",
       "      <td>0</td>\n",
       "    </tr>\n",
       "    <tr>\n",
       "      <th>Urban</th>\n",
       "      <td>336</td>\n",
       "      <td>22292</td>\n",
       "      <td>98</td>\n",
       "      <td>740</td>\n",
       "      <td>363</td>\n",
       "      <td>3606</td>\n",
       "      <td>13</td>\n",
       "      <td>192</td>\n",
       "      <td>806</td>\n",
       "    </tr>\n",
       "    <tr>\n",
       "      <th rowspan=\"3\" valign=\"top\">Single carriageway</th>\n",
       "      <th>Rural</th>\n",
       "      <td>2816</td>\n",
       "      <td>127278</td>\n",
       "      <td>1706</td>\n",
       "      <td>5739</td>\n",
       "      <td>3145</td>\n",
       "      <td>22153</td>\n",
       "      <td>402</td>\n",
       "      <td>2207</td>\n",
       "      <td>2564</td>\n",
       "    </tr>\n",
       "    <tr>\n",
       "      <th>Unallocated</th>\n",
       "      <td>1</td>\n",
       "      <td>10</td>\n",
       "      <td>0</td>\n",
       "      <td>0</td>\n",
       "      <td>0</td>\n",
       "      <td>4</td>\n",
       "      <td>1</td>\n",
       "      <td>0</td>\n",
       "      <td>0</td>\n",
       "    </tr>\n",
       "    <tr>\n",
       "      <th>Urban</th>\n",
       "      <td>3361</td>\n",
       "      <td>262542</td>\n",
       "      <td>835</td>\n",
       "      <td>7417</td>\n",
       "      <td>3558</td>\n",
       "      <td>36424</td>\n",
       "      <td>239</td>\n",
       "      <td>2544</td>\n",
       "      <td>7197</td>\n",
       "    </tr>\n",
       "    <tr>\n",
       "      <th rowspan=\"3\" valign=\"top\">Slip road</th>\n",
       "      <th>Rural</th>\n",
       "      <td>74</td>\n",
       "      <td>3342</td>\n",
       "      <td>25</td>\n",
       "      <td>103</td>\n",
       "      <td>70</td>\n",
       "      <td>536</td>\n",
       "      <td>9</td>\n",
       "      <td>49</td>\n",
       "      <td>86</td>\n",
       "    </tr>\n",
       "    <tr>\n",
       "      <th>Unallocated</th>\n",
       "      <td>0</td>\n",
       "      <td>0</td>\n",
       "      <td>0</td>\n",
       "      <td>0</td>\n",
       "      <td>0</td>\n",
       "      <td>0</td>\n",
       "      <td>0</td>\n",
       "      <td>0</td>\n",
       "      <td>0</td>\n",
       "    </tr>\n",
       "    <tr>\n",
       "      <th>Urban</th>\n",
       "      <td>35</td>\n",
       "      <td>2178</td>\n",
       "      <td>8</td>\n",
       "      <td>77</td>\n",
       "      <td>37</td>\n",
       "      <td>329</td>\n",
       "      <td>1</td>\n",
       "      <td>20</td>\n",
       "      <td>62</td>\n",
       "    </tr>\n",
       "    <tr>\n",
       "      <th rowspan=\"3\" valign=\"top\">uncouted</th>\n",
       "      <th>Rural</th>\n",
       "      <td>12</td>\n",
       "      <td>833</td>\n",
       "      <td>10</td>\n",
       "      <td>48</td>\n",
       "      <td>21</td>\n",
       "      <td>155</td>\n",
       "      <td>4</td>\n",
       "      <td>15</td>\n",
       "      <td>135</td>\n",
       "    </tr>\n",
       "    <tr>\n",
       "      <th>Unallocated</th>\n",
       "      <td>0</td>\n",
       "      <td>3</td>\n",
       "      <td>0</td>\n",
       "      <td>0</td>\n",
       "      <td>0</td>\n",
       "      <td>0</td>\n",
       "      <td>0</td>\n",
       "      <td>0</td>\n",
       "      <td>0</td>\n",
       "    </tr>\n",
       "    <tr>\n",
       "      <th>Urban</th>\n",
       "      <td>38</td>\n",
       "      <td>2059</td>\n",
       "      <td>11</td>\n",
       "      <td>84</td>\n",
       "      <td>35</td>\n",
       "      <td>275</td>\n",
       "      <td>0</td>\n",
       "      <td>15</td>\n",
       "      <td>767</td>\n",
       "    </tr>\n",
       "  </tbody>\n",
       "</table>\n",
       "</div>"
      ],
      "text/plain": [
       "Weather_Conditions                      Fine + high winds  Fine no high winds  \\\n",
       "Road_Type          Urban_or_Rural_Area                                          \n",
       "Dual carriageway   Rural                              874               37018   \n",
       "                   Unallocated                          0                   3   \n",
       "                   Urban                              645               39895   \n",
       "One way street     Rural                               13                 946   \n",
       "                   Unallocated                          0                   1   \n",
       "                   Urban                              145               10110   \n",
       "Roundabout         Rural                              204               12375   \n",
       "                   Unallocated                          0                   0   \n",
       "                   Urban                              336               22292   \n",
       "Single carriageway Rural                             2816              127278   \n",
       "                   Unallocated                          1                  10   \n",
       "                   Urban                             3361              262542   \n",
       "Slip road          Rural                               74                3342   \n",
       "                   Unallocated                          0                   0   \n",
       "                   Urban                               35                2178   \n",
       "uncouted           Rural                               12                 833   \n",
       "                   Unallocated                          0                   3   \n",
       "                   Urban                               38                2059   \n",
       "\n",
       "Weather_Conditions                      Fog or mist  Other  \\\n",
       "Road_Type          Urban_or_Rural_Area                       \n",
       "Dual carriageway   Rural                        513   1047   \n",
       "                   Unallocated                    0      0   \n",
       "                   Urban                        169   1217   \n",
       "One way street     Rural                          7     31   \n",
       "                   Unallocated                    0      0   \n",
       "                   Urban                         22    278   \n",
       "Roundabout         Rural                        124    369   \n",
       "                   Unallocated                    0      0   \n",
       "                   Urban                         98    740   \n",
       "Single carriageway Rural                       1706   5739   \n",
       "                   Unallocated                    0      0   \n",
       "                   Urban                        835   7417   \n",
       "Slip road          Rural                         25    103   \n",
       "                   Unallocated                    0      0   \n",
       "                   Urban                          8     77   \n",
       "uncouted           Rural                         10     48   \n",
       "                   Unallocated                    0      0   \n",
       "                   Urban                         11     84   \n",
       "\n",
       "Weather_Conditions                      Raining + high winds  \\\n",
       "Road_Type          Urban_or_Rural_Area                         \n",
       "Dual carriageway   Rural                                1269   \n",
       "                   Unallocated                             0   \n",
       "                   Urban                                 764   \n",
       "One way street     Rural                                  18   \n",
       "                   Unallocated                             0   \n",
       "                   Urban                                 135   \n",
       "Roundabout         Rural                                 200   \n",
       "                   Unallocated                             0   \n",
       "                   Urban                                 363   \n",
       "Single carriageway Rural                                3145   \n",
       "                   Unallocated                             0   \n",
       "                   Urban                                3558   \n",
       "Slip road          Rural                                  70   \n",
       "                   Unallocated                             0   \n",
       "                   Urban                                  37   \n",
       "uncouted           Rural                                  21   \n",
       "                   Unallocated                             0   \n",
       "                   Urban                                  35   \n",
       "\n",
       "Weather_Conditions                      Raining no high winds  \\\n",
       "Road_Type          Urban_or_Rural_Area                          \n",
       "Dual carriageway   Rural                                 6456   \n",
       "                   Unallocated                              1   \n",
       "                   Urban                                 6587   \n",
       "One way street     Rural                                  133   \n",
       "                   Unallocated                              0   \n",
       "                   Urban                                 1296   \n",
       "Roundabout         Rural                                 1740   \n",
       "                   Unallocated                              1   \n",
       "                   Urban                                 3606   \n",
       "Single carriageway Rural                                22153   \n",
       "                   Unallocated                              4   \n",
       "                   Urban                                36424   \n",
       "Slip road          Rural                                  536   \n",
       "                   Unallocated                              0   \n",
       "                   Urban                                  329   \n",
       "uncouted           Rural                                  155   \n",
       "                   Unallocated                              0   \n",
       "                   Urban                                  275   \n",
       "\n",
       "Weather_Conditions                      Snowing + high winds  \\\n",
       "Road_Type          Urban_or_Rural_Area                         \n",
       "Dual carriageway   Rural                                 137   \n",
       "                   Unallocated                             0   \n",
       "                   Urban                                  48   \n",
       "One way street     Rural                                   2   \n",
       "                   Unallocated                             0   \n",
       "                   Urban                                  12   \n",
       "Roundabout         Rural                                  17   \n",
       "                   Unallocated                             0   \n",
       "                   Urban                                  13   \n",
       "Single carriageway Rural                                 402   \n",
       "                   Unallocated                             1   \n",
       "                   Urban                                 239   \n",
       "Slip road          Rural                                   9   \n",
       "                   Unallocated                             0   \n",
       "                   Urban                                   1   \n",
       "uncouted           Rural                                   4   \n",
       "                   Unallocated                             0   \n",
       "                   Urban                                   0   \n",
       "\n",
       "Weather_Conditions                      Snowing no high winds  uncouted  \n",
       "Road_Type          Urban_or_Rural_Area                                   \n",
       "Dual carriageway   Rural                                  676       725  \n",
       "                   Unallocated                              0         1  \n",
       "                   Urban                                  344      1035  \n",
       "One way street     Rural                                    5        38  \n",
       "                   Unallocated                              0         0  \n",
       "                   Urban                                   73       294  \n",
       "Roundabout         Rural                                   98       418  \n",
       "                   Unallocated                              0         0  \n",
       "                   Urban                                  192       806  \n",
       "Single carriageway Rural                                 2207      2564  \n",
       "                   Unallocated                              0         0  \n",
       "                   Urban                                 2544      7197  \n",
       "Slip road          Rural                                   49        86  \n",
       "                   Unallocated                              0         0  \n",
       "                   Urban                                   20        62  \n",
       "uncouted           Rural                                   15       135  \n",
       "                   Unallocated                              0         0  \n",
       "                   Urban                                   15       767  "
      ]
     },
     "execution_count": 38,
     "metadata": {},
     "output_type": "execute_result"
    }
   ],
   "source": [
    "df.groupby(['Road_Type', 'Urban_or_Rural_Area', 'Weather_Conditions'], observed=False)['Index'].count().unstack()"
   ]
  },
  {
   "cell_type": "raw",
   "id": "2ca5c3b3",
   "metadata": {},
   "source": [
    "Single carriageway\n",
    "Urban\n",
    "Fine no high winds\n",
    ":262542"
   ]
  },
  {
   "cell_type": "markdown",
   "id": "9c9d12c9",
   "metadata": {},
   "source": [
    "<h3><span style='color: Red;'>INSIGHT #18 :</span> The analysis shows that in urban areas, single carriageway roads under fine weather conditions with no winds recorded the highest number of accidents over the past four years. This suggests that even in seemingly ideal driving conditions, high traffic density and urban road structures contribute significantly to accident frequency.</h3>"
   ]
  },
  {
   "cell_type": "markdown",
   "id": "8d17a79b",
   "metadata": {},
   "source": [
    "<hr>"
   ]
  },
  {
   "cell_type": "markdown",
   "id": "3d1d4bec-98fc-49c7-a7e2-6530bb8bc000",
   "metadata": {},
   "source": [
    "<h3><span style='color: Green;'>QUESTION 19</span> : In what area and light conditions type has recorded the highest number accident while considering the weather condition?</h3>"
   ]
  },
  {
   "cell_type": "code",
   "execution_count": 39,
   "id": "d82589ee",
   "metadata": {},
   "outputs": [
    {
     "data": {
      "text/html": [
       "<div>\n",
       "<style scoped>\n",
       "    .dataframe tbody tr th:only-of-type {\n",
       "        vertical-align: middle;\n",
       "    }\n",
       "\n",
       "    .dataframe tbody tr th {\n",
       "        vertical-align: top;\n",
       "    }\n",
       "\n",
       "    .dataframe thead th {\n",
       "        text-align: right;\n",
       "    }\n",
       "</style>\n",
       "<table border=\"1\" class=\"dataframe\">\n",
       "  <thead>\n",
       "    <tr style=\"text-align: right;\">\n",
       "      <th></th>\n",
       "      <th>Weather_Conditions</th>\n",
       "      <th>Fine + high winds</th>\n",
       "      <th>Fine no high winds</th>\n",
       "      <th>Fog or mist</th>\n",
       "      <th>Other</th>\n",
       "      <th>Raining + high winds</th>\n",
       "      <th>Raining no high winds</th>\n",
       "      <th>Snowing + high winds</th>\n",
       "      <th>Snowing no high winds</th>\n",
       "      <th>uncouted</th>\n",
       "    </tr>\n",
       "    <tr>\n",
       "      <th>Light_Conditions</th>\n",
       "      <th>Urban_or_Rural_Area</th>\n",
       "      <th></th>\n",
       "      <th></th>\n",
       "      <th></th>\n",
       "      <th></th>\n",
       "      <th></th>\n",
       "      <th></th>\n",
       "      <th></th>\n",
       "      <th></th>\n",
       "      <th></th>\n",
       "    </tr>\n",
       "  </thead>\n",
       "  <tbody>\n",
       "    <tr>\n",
       "      <th rowspan=\"3\" valign=\"top\">Darkness - lighting unknown</th>\n",
       "      <th>Rural</th>\n",
       "      <td>30</td>\n",
       "      <td>1475</td>\n",
       "      <td>41</td>\n",
       "      <td>81</td>\n",
       "      <td>34</td>\n",
       "      <td>249</td>\n",
       "      <td>9</td>\n",
       "      <td>53</td>\n",
       "      <td>495</td>\n",
       "    </tr>\n",
       "    <tr>\n",
       "      <th>Unallocated</th>\n",
       "      <td>0</td>\n",
       "      <td>0</td>\n",
       "      <td>0</td>\n",
       "      <td>0</td>\n",
       "      <td>0</td>\n",
       "      <td>0</td>\n",
       "      <td>0</td>\n",
       "      <td>0</td>\n",
       "      <td>0</td>\n",
       "    </tr>\n",
       "    <tr>\n",
       "      <th>Urban</th>\n",
       "      <td>29</td>\n",
       "      <td>2208</td>\n",
       "      <td>24</td>\n",
       "      <td>105</td>\n",
       "      <td>77</td>\n",
       "      <td>372</td>\n",
       "      <td>6</td>\n",
       "      <td>41</td>\n",
       "      <td>1155</td>\n",
       "    </tr>\n",
       "    <tr>\n",
       "      <th rowspan=\"3\" valign=\"top\">Darkness - lights lit</th>\n",
       "      <th>Rural</th>\n",
       "      <td>426</td>\n",
       "      <td>17018</td>\n",
       "      <td>323</td>\n",
       "      <td>1029</td>\n",
       "      <td>735</td>\n",
       "      <td>4262</td>\n",
       "      <td>84</td>\n",
       "      <td>489</td>\n",
       "      <td>329</td>\n",
       "    </tr>\n",
       "    <tr>\n",
       "      <th>Unallocated</th>\n",
       "      <td>0</td>\n",
       "      <td>2</td>\n",
       "      <td>0</td>\n",
       "      <td>0</td>\n",
       "      <td>0</td>\n",
       "      <td>2</td>\n",
       "      <td>0</td>\n",
       "      <td>0</td>\n",
       "      <td>0</td>\n",
       "    </tr>\n",
       "    <tr>\n",
       "      <th>Urban</th>\n",
       "      <td>1426</td>\n",
       "      <td>74931</td>\n",
       "      <td>598</td>\n",
       "      <td>3774</td>\n",
       "      <td>2331</td>\n",
       "      <td>18402</td>\n",
       "      <td>157</td>\n",
       "      <td>1339</td>\n",
       "      <td>1678</td>\n",
       "    </tr>\n",
       "    <tr>\n",
       "      <th rowspan=\"3\" valign=\"top\">Darkness - lights unlit</th>\n",
       "      <th>Rural</th>\n",
       "      <td>24</td>\n",
       "      <td>645</td>\n",
       "      <td>14</td>\n",
       "      <td>58</td>\n",
       "      <td>32</td>\n",
       "      <td>161</td>\n",
       "      <td>2</td>\n",
       "      <td>10</td>\n",
       "      <td>15</td>\n",
       "    </tr>\n",
       "    <tr>\n",
       "      <th>Unallocated</th>\n",
       "      <td>0</td>\n",
       "      <td>1</td>\n",
       "      <td>0</td>\n",
       "      <td>0</td>\n",
       "      <td>0</td>\n",
       "      <td>0</td>\n",
       "      <td>0</td>\n",
       "      <td>0</td>\n",
       "      <td>0</td>\n",
       "    </tr>\n",
       "    <tr>\n",
       "      <th>Urban</th>\n",
       "      <td>27</td>\n",
       "      <td>1054</td>\n",
       "      <td>23</td>\n",
       "      <td>85</td>\n",
       "      <td>41</td>\n",
       "      <td>298</td>\n",
       "      <td>3</td>\n",
       "      <td>20</td>\n",
       "      <td>30</td>\n",
       "    </tr>\n",
       "    <tr>\n",
       "      <th rowspan=\"3\" valign=\"top\">Darkness - no lighting</th>\n",
       "      <th>Rural</th>\n",
       "      <td>766</td>\n",
       "      <td>23586</td>\n",
       "      <td>832</td>\n",
       "      <td>1832</td>\n",
       "      <td>1341</td>\n",
       "      <td>5854</td>\n",
       "      <td>163</td>\n",
       "      <td>795</td>\n",
       "      <td>348</td>\n",
       "    </tr>\n",
       "    <tr>\n",
       "      <th>Unallocated</th>\n",
       "      <td>0</td>\n",
       "      <td>1</td>\n",
       "      <td>0</td>\n",
       "      <td>0</td>\n",
       "      <td>0</td>\n",
       "      <td>0</td>\n",
       "      <td>1</td>\n",
       "      <td>0</td>\n",
       "      <td>0</td>\n",
       "    </tr>\n",
       "    <tr>\n",
       "      <th>Urban</th>\n",
       "      <td>30</td>\n",
       "      <td>1280</td>\n",
       "      <td>30</td>\n",
       "      <td>83</td>\n",
       "      <td>82</td>\n",
       "      <td>354</td>\n",
       "      <td>7</td>\n",
       "      <td>16</td>\n",
       "      <td>36</td>\n",
       "    </tr>\n",
       "    <tr>\n",
       "      <th rowspan=\"3\" valign=\"top\">Daylight</th>\n",
       "      <th>Rural</th>\n",
       "      <td>2747</td>\n",
       "      <td>139068</td>\n",
       "      <td>1175</td>\n",
       "      <td>4337</td>\n",
       "      <td>2581</td>\n",
       "      <td>20647</td>\n",
       "      <td>313</td>\n",
       "      <td>1703</td>\n",
       "      <td>2779</td>\n",
       "    </tr>\n",
       "    <tr>\n",
       "      <th>Unallocated</th>\n",
       "      <td>1</td>\n",
       "      <td>13</td>\n",
       "      <td>0</td>\n",
       "      <td>0</td>\n",
       "      <td>0</td>\n",
       "      <td>4</td>\n",
       "      <td>0</td>\n",
       "      <td>0</td>\n",
       "      <td>1</td>\n",
       "    </tr>\n",
       "    <tr>\n",
       "      <th>Urban</th>\n",
       "      <td>3048</td>\n",
       "      <td>259603</td>\n",
       "      <td>468</td>\n",
       "      <td>5766</td>\n",
       "      <td>2361</td>\n",
       "      <td>29091</td>\n",
       "      <td>140</td>\n",
       "      <td>1772</td>\n",
       "      <td>7262</td>\n",
       "    </tr>\n",
       "  </tbody>\n",
       "</table>\n",
       "</div>"
      ],
      "text/plain": [
       "Weather_Conditions                               Fine + high winds  \\\n",
       "Light_Conditions            Urban_or_Rural_Area                      \n",
       "Darkness - lighting unknown Rural                               30   \n",
       "                            Unallocated                          0   \n",
       "                            Urban                               29   \n",
       "Darkness - lights lit       Rural                              426   \n",
       "                            Unallocated                          0   \n",
       "                            Urban                             1426   \n",
       "Darkness - lights unlit     Rural                               24   \n",
       "                            Unallocated                          0   \n",
       "                            Urban                               27   \n",
       "Darkness - no lighting      Rural                              766   \n",
       "                            Unallocated                          0   \n",
       "                            Urban                               30   \n",
       "Daylight                    Rural                             2747   \n",
       "                            Unallocated                          1   \n",
       "                            Urban                             3048   \n",
       "\n",
       "Weather_Conditions                               Fine no high winds  \\\n",
       "Light_Conditions            Urban_or_Rural_Area                       \n",
       "Darkness - lighting unknown Rural                              1475   \n",
       "                            Unallocated                           0   \n",
       "                            Urban                              2208   \n",
       "Darkness - lights lit       Rural                             17018   \n",
       "                            Unallocated                           2   \n",
       "                            Urban                             74931   \n",
       "Darkness - lights unlit     Rural                               645   \n",
       "                            Unallocated                           1   \n",
       "                            Urban                              1054   \n",
       "Darkness - no lighting      Rural                             23586   \n",
       "                            Unallocated                           1   \n",
       "                            Urban                              1280   \n",
       "Daylight                    Rural                            139068   \n",
       "                            Unallocated                          13   \n",
       "                            Urban                            259603   \n",
       "\n",
       "Weather_Conditions                               Fog or mist  Other  \\\n",
       "Light_Conditions            Urban_or_Rural_Area                       \n",
       "Darkness - lighting unknown Rural                         41     81   \n",
       "                            Unallocated                    0      0   \n",
       "                            Urban                         24    105   \n",
       "Darkness - lights lit       Rural                        323   1029   \n",
       "                            Unallocated                    0      0   \n",
       "                            Urban                        598   3774   \n",
       "Darkness - lights unlit     Rural                         14     58   \n",
       "                            Unallocated                    0      0   \n",
       "                            Urban                         23     85   \n",
       "Darkness - no lighting      Rural                        832   1832   \n",
       "                            Unallocated                    0      0   \n",
       "                            Urban                         30     83   \n",
       "Daylight                    Rural                       1175   4337   \n",
       "                            Unallocated                    0      0   \n",
       "                            Urban                        468   5766   \n",
       "\n",
       "Weather_Conditions                               Raining + high winds  \\\n",
       "Light_Conditions            Urban_or_Rural_Area                         \n",
       "Darkness - lighting unknown Rural                                  34   \n",
       "                            Unallocated                             0   \n",
       "                            Urban                                  77   \n",
       "Darkness - lights lit       Rural                                 735   \n",
       "                            Unallocated                             0   \n",
       "                            Urban                                2331   \n",
       "Darkness - lights unlit     Rural                                  32   \n",
       "                            Unallocated                             0   \n",
       "                            Urban                                  41   \n",
       "Darkness - no lighting      Rural                                1341   \n",
       "                            Unallocated                             0   \n",
       "                            Urban                                  82   \n",
       "Daylight                    Rural                                2581   \n",
       "                            Unallocated                             0   \n",
       "                            Urban                                2361   \n",
       "\n",
       "Weather_Conditions                               Raining no high winds  \\\n",
       "Light_Conditions            Urban_or_Rural_Area                          \n",
       "Darkness - lighting unknown Rural                                  249   \n",
       "                            Unallocated                              0   \n",
       "                            Urban                                  372   \n",
       "Darkness - lights lit       Rural                                 4262   \n",
       "                            Unallocated                              2   \n",
       "                            Urban                                18402   \n",
       "Darkness - lights unlit     Rural                                  161   \n",
       "                            Unallocated                              0   \n",
       "                            Urban                                  298   \n",
       "Darkness - no lighting      Rural                                 5854   \n",
       "                            Unallocated                              0   \n",
       "                            Urban                                  354   \n",
       "Daylight                    Rural                                20647   \n",
       "                            Unallocated                              4   \n",
       "                            Urban                                29091   \n",
       "\n",
       "Weather_Conditions                               Snowing + high winds  \\\n",
       "Light_Conditions            Urban_or_Rural_Area                         \n",
       "Darkness - lighting unknown Rural                                   9   \n",
       "                            Unallocated                             0   \n",
       "                            Urban                                   6   \n",
       "Darkness - lights lit       Rural                                  84   \n",
       "                            Unallocated                             0   \n",
       "                            Urban                                 157   \n",
       "Darkness - lights unlit     Rural                                   2   \n",
       "                            Unallocated                             0   \n",
       "                            Urban                                   3   \n",
       "Darkness - no lighting      Rural                                 163   \n",
       "                            Unallocated                             1   \n",
       "                            Urban                                   7   \n",
       "Daylight                    Rural                                 313   \n",
       "                            Unallocated                             0   \n",
       "                            Urban                                 140   \n",
       "\n",
       "Weather_Conditions                               Snowing no high winds  \\\n",
       "Light_Conditions            Urban_or_Rural_Area                          \n",
       "Darkness - lighting unknown Rural                                   53   \n",
       "                            Unallocated                              0   \n",
       "                            Urban                                   41   \n",
       "Darkness - lights lit       Rural                                  489   \n",
       "                            Unallocated                              0   \n",
       "                            Urban                                 1339   \n",
       "Darkness - lights unlit     Rural                                   10   \n",
       "                            Unallocated                              0   \n",
       "                            Urban                                   20   \n",
       "Darkness - no lighting      Rural                                  795   \n",
       "                            Unallocated                              0   \n",
       "                            Urban                                   16   \n",
       "Daylight                    Rural                                 1703   \n",
       "                            Unallocated                              0   \n",
       "                            Urban                                 1772   \n",
       "\n",
       "Weather_Conditions                               uncouted  \n",
       "Light_Conditions            Urban_or_Rural_Area            \n",
       "Darkness - lighting unknown Rural                     495  \n",
       "                            Unallocated                 0  \n",
       "                            Urban                    1155  \n",
       "Darkness - lights lit       Rural                     329  \n",
       "                            Unallocated                 0  \n",
       "                            Urban                    1678  \n",
       "Darkness - lights unlit     Rural                      15  \n",
       "                            Unallocated                 0  \n",
       "                            Urban                      30  \n",
       "Darkness - no lighting      Rural                     348  \n",
       "                            Unallocated                 0  \n",
       "                            Urban                      36  \n",
       "Daylight                    Rural                    2779  \n",
       "                            Unallocated                 1  \n",
       "                            Urban                    7262  "
      ]
     },
     "execution_count": 39,
     "metadata": {},
     "output_type": "execute_result"
    }
   ],
   "source": [
    "df.groupby(['Light_Conditions', 'Urban_or_Rural_Area', 'Weather_Conditions'], observed=False)['Number_of_Casualties'].count().unstack()"
   ]
  },
  {
   "cell_type": "raw",
   "id": "df0a2231",
   "metadata": {},
   "source": [
    "Daylight\n",
    "Urban\n",
    "Fine no high winds\n",
    ":259603"
   ]
  },
  {
   "cell_type": "markdown",
   "id": "38fb510e",
   "metadata": {},
   "source": [
    "<h3><span style='color: Red;'>INSIGHT #19 :</span> The analysis reveals that 259,603 accidents occurred under daylight conditions in urban areas with fine weather and no high winds. This indicates that clear weather and urban environments still present significant accident risks, likely due to higher traffic volumes, intersections, and pedestrian activity.</h3>"
   ]
  },
  {
   "cell_type": "markdown",
   "id": "6828bf30",
   "metadata": {},
   "source": [
    "<hr>"
   ]
  },
  {
   "cell_type": "markdown",
   "id": "9837973f-f4aa-4b06-897b-a555e52dc5df",
   "metadata": {},
   "source": [
    "<h3><span style='color: Green;'>QUESTION 20</span> : In what light condition and road surface conditions type has recorded the highest number of casualties while considering the weather condition?</h3>"
   ]
  },
  {
   "cell_type": "code",
   "execution_count": 40,
   "id": "ae0199f7",
   "metadata": {},
   "outputs": [
    {
     "data": {
      "text/html": [
       "<div>\n",
       "<style scoped>\n",
       "    .dataframe tbody tr th:only-of-type {\n",
       "        vertical-align: middle;\n",
       "    }\n",
       "\n",
       "    .dataframe tbody tr th {\n",
       "        vertical-align: top;\n",
       "    }\n",
       "\n",
       "    .dataframe thead th {\n",
       "        text-align: right;\n",
       "    }\n",
       "</style>\n",
       "<table border=\"1\" class=\"dataframe\">\n",
       "  <thead>\n",
       "    <tr style=\"text-align: right;\">\n",
       "      <th></th>\n",
       "      <th>Weather_Conditions</th>\n",
       "      <th>Fine + high winds</th>\n",
       "      <th>Fine no high winds</th>\n",
       "      <th>Fog or mist</th>\n",
       "      <th>Other</th>\n",
       "      <th>Raining + high winds</th>\n",
       "      <th>Raining no high winds</th>\n",
       "      <th>Snowing + high winds</th>\n",
       "      <th>Snowing no high winds</th>\n",
       "      <th>uncouted</th>\n",
       "    </tr>\n",
       "    <tr>\n",
       "      <th>Light_Conditions</th>\n",
       "      <th>Road_Surface_Conditions</th>\n",
       "      <th></th>\n",
       "      <th></th>\n",
       "      <th></th>\n",
       "      <th></th>\n",
       "      <th></th>\n",
       "      <th></th>\n",
       "      <th></th>\n",
       "      <th></th>\n",
       "      <th></th>\n",
       "    </tr>\n",
       "  </thead>\n",
       "  <tbody>\n",
       "    <tr>\n",
       "      <th rowspan=\"6\" valign=\"top\">Darkness - lighting unknown</th>\n",
       "      <th>Dry</th>\n",
       "      <td>60</td>\n",
       "      <td>5195</td>\n",
       "      <td>12</td>\n",
       "      <td>42</td>\n",
       "      <td>1</td>\n",
       "      <td>5</td>\n",
       "      <td>0</td>\n",
       "      <td>3</td>\n",
       "      <td>2464</td>\n",
       "    </tr>\n",
       "    <tr>\n",
       "      <th>Flood over 3cm. deep</th>\n",
       "      <td>3</td>\n",
       "      <td>0</td>\n",
       "      <td>0</td>\n",
       "      <td>1</td>\n",
       "      <td>6</td>\n",
       "      <td>8</td>\n",
       "      <td>0</td>\n",
       "      <td>0</td>\n",
       "      <td>5</td>\n",
       "    </tr>\n",
       "    <tr>\n",
       "      <th>Frost or ice</th>\n",
       "      <td>7</td>\n",
       "      <td>200</td>\n",
       "      <td>23</td>\n",
       "      <td>90</td>\n",
       "      <td>1</td>\n",
       "      <td>1</td>\n",
       "      <td>4</td>\n",
       "      <td>19</td>\n",
       "      <td>48</td>\n",
       "    </tr>\n",
       "    <tr>\n",
       "      <th>Snow</th>\n",
       "      <td>0</td>\n",
       "      <td>27</td>\n",
       "      <td>0</td>\n",
       "      <td>10</td>\n",
       "      <td>0</td>\n",
       "      <td>0</td>\n",
       "      <td>23</td>\n",
       "      <td>119</td>\n",
       "      <td>16</td>\n",
       "    </tr>\n",
       "    <tr>\n",
       "      <th>Wet or damp</th>\n",
       "      <td>46</td>\n",
       "      <td>1087</td>\n",
       "      <td>90</td>\n",
       "      <td>174</td>\n",
       "      <td>179</td>\n",
       "      <td>1059</td>\n",
       "      <td>1</td>\n",
       "      <td>22</td>\n",
       "      <td>279</td>\n",
       "    </tr>\n",
       "    <tr>\n",
       "      <th>uncouted</th>\n",
       "      <td>0</td>\n",
       "      <td>1</td>\n",
       "      <td>0</td>\n",
       "      <td>0</td>\n",
       "      <td>0</td>\n",
       "      <td>0</td>\n",
       "      <td>0</td>\n",
       "      <td>0</td>\n",
       "      <td>71</td>\n",
       "    </tr>\n",
       "    <tr>\n",
       "      <th rowspan=\"6\" valign=\"top\">Darkness - lights lit</th>\n",
       "      <th>Dry</th>\n",
       "      <td>1672</td>\n",
       "      <td>118818</td>\n",
       "      <td>194</td>\n",
       "      <td>1093</td>\n",
       "      <td>29</td>\n",
       "      <td>160</td>\n",
       "      <td>0</td>\n",
       "      <td>19</td>\n",
       "      <td>2339</td>\n",
       "    </tr>\n",
       "    <tr>\n",
       "      <th>Flood over 3cm. deep</th>\n",
       "      <td>3</td>\n",
       "      <td>24</td>\n",
       "      <td>0</td>\n",
       "      <td>9</td>\n",
       "      <td>104</td>\n",
       "      <td>119</td>\n",
       "      <td>0</td>\n",
       "      <td>8</td>\n",
       "      <td>1</td>\n",
       "    </tr>\n",
       "    <tr>\n",
       "      <th>Frost or ice</th>\n",
       "      <td>75</td>\n",
       "      <td>4092</td>\n",
       "      <td>299</td>\n",
       "      <td>2220</td>\n",
       "      <td>20</td>\n",
       "      <td>241</td>\n",
       "      <td>71</td>\n",
       "      <td>694</td>\n",
       "      <td>85</td>\n",
       "    </tr>\n",
       "    <tr>\n",
       "      <th>Snow</th>\n",
       "      <td>9</td>\n",
       "      <td>327</td>\n",
       "      <td>14</td>\n",
       "      <td>191</td>\n",
       "      <td>12</td>\n",
       "      <td>52</td>\n",
       "      <td>276</td>\n",
       "      <td>1868</td>\n",
       "      <td>20</td>\n",
       "    </tr>\n",
       "    <tr>\n",
       "      <th>Wet or damp</th>\n",
       "      <td>1486</td>\n",
       "      <td>39693</td>\n",
       "      <td>1144</td>\n",
       "      <td>5059</td>\n",
       "      <td>5266</td>\n",
       "      <td>40049</td>\n",
       "      <td>83</td>\n",
       "      <td>621</td>\n",
       "      <td>847</td>\n",
       "    </tr>\n",
       "    <tr>\n",
       "      <th>uncouted</th>\n",
       "      <td>0</td>\n",
       "      <td>46</td>\n",
       "      <td>2</td>\n",
       "      <td>2</td>\n",
       "      <td>0</td>\n",
       "      <td>3</td>\n",
       "      <td>0</td>\n",
       "      <td>0</td>\n",
       "      <td>175</td>\n",
       "    </tr>\n",
       "    <tr>\n",
       "      <th rowspan=\"6\" valign=\"top\">Darkness - lights unlit</th>\n",
       "      <th>Dry</th>\n",
       "      <td>55</td>\n",
       "      <td>2248</td>\n",
       "      <td>3</td>\n",
       "      <td>40</td>\n",
       "      <td>3</td>\n",
       "      <td>0</td>\n",
       "      <td>0</td>\n",
       "      <td>0</td>\n",
       "      <td>55</td>\n",
       "    </tr>\n",
       "    <tr>\n",
       "      <th>Flood over 3cm. deep</th>\n",
       "      <td>0</td>\n",
       "      <td>3</td>\n",
       "      <td>0</td>\n",
       "      <td>0</td>\n",
       "      <td>3</td>\n",
       "      <td>2</td>\n",
       "      <td>0</td>\n",
       "      <td>0</td>\n",
       "      <td>0</td>\n",
       "    </tr>\n",
       "    <tr>\n",
       "      <th>Frost or ice</th>\n",
       "      <td>4</td>\n",
       "      <td>108</td>\n",
       "      <td>24</td>\n",
       "      <td>58</td>\n",
       "      <td>0</td>\n",
       "      <td>4</td>\n",
       "      <td>5</td>\n",
       "      <td>20</td>\n",
       "      <td>0</td>\n",
       "    </tr>\n",
       "    <tr>\n",
       "      <th>Snow</th>\n",
       "      <td>0</td>\n",
       "      <td>10</td>\n",
       "      <td>3</td>\n",
       "      <td>4</td>\n",
       "      <td>1</td>\n",
       "      <td>0</td>\n",
       "      <td>3</td>\n",
       "      <td>23</td>\n",
       "      <td>0</td>\n",
       "    </tr>\n",
       "    <tr>\n",
       "      <th>Wet or damp</th>\n",
       "      <td>39</td>\n",
       "      <td>629</td>\n",
       "      <td>33</td>\n",
       "      <td>136</td>\n",
       "      <td>112</td>\n",
       "      <td>791</td>\n",
       "      <td>1</td>\n",
       "      <td>12</td>\n",
       "      <td>21</td>\n",
       "    </tr>\n",
       "    <tr>\n",
       "      <th>uncouted</th>\n",
       "      <td>0</td>\n",
       "      <td>1</td>\n",
       "      <td>0</td>\n",
       "      <td>0</td>\n",
       "      <td>0</td>\n",
       "      <td>0</td>\n",
       "      <td>0</td>\n",
       "      <td>0</td>\n",
       "      <td>3</td>\n",
       "    </tr>\n",
       "    <tr>\n",
       "      <th rowspan=\"6\" valign=\"top\">Darkness - no lighting</th>\n",
       "      <th>Dry</th>\n",
       "      <td>546</td>\n",
       "      <td>24118</td>\n",
       "      <td>111</td>\n",
       "      <td>164</td>\n",
       "      <td>9</td>\n",
       "      <td>47</td>\n",
       "      <td>1</td>\n",
       "      <td>4</td>\n",
       "      <td>333</td>\n",
       "    </tr>\n",
       "    <tr>\n",
       "      <th>Flood over 3cm. deep</th>\n",
       "      <td>3</td>\n",
       "      <td>36</td>\n",
       "      <td>1</td>\n",
       "      <td>4</td>\n",
       "      <td>127</td>\n",
       "      <td>179</td>\n",
       "      <td>1</td>\n",
       "      <td>2</td>\n",
       "      <td>4</td>\n",
       "    </tr>\n",
       "    <tr>\n",
       "      <th>Frost or ice</th>\n",
       "      <td>55</td>\n",
       "      <td>2525</td>\n",
       "      <td>287</td>\n",
       "      <td>1236</td>\n",
       "      <td>29</td>\n",
       "      <td>177</td>\n",
       "      <td>49</td>\n",
       "      <td>347</td>\n",
       "      <td>33</td>\n",
       "    </tr>\n",
       "    <tr>\n",
       "      <th>Snow</th>\n",
       "      <td>4</td>\n",
       "      <td>145</td>\n",
       "      <td>8</td>\n",
       "      <td>69</td>\n",
       "      <td>0</td>\n",
       "      <td>13</td>\n",
       "      <td>195</td>\n",
       "      <td>714</td>\n",
       "      <td>9</td>\n",
       "    </tr>\n",
       "    <tr>\n",
       "      <th>Wet or damp</th>\n",
       "      <td>652</td>\n",
       "      <td>13202</td>\n",
       "      <td>904</td>\n",
       "      <td>1347</td>\n",
       "      <td>2109</td>\n",
       "      <td>9646</td>\n",
       "      <td>32</td>\n",
       "      <td>172</td>\n",
       "      <td>207</td>\n",
       "    </tr>\n",
       "    <tr>\n",
       "      <th>uncouted</th>\n",
       "      <td>1</td>\n",
       "      <td>6</td>\n",
       "      <td>0</td>\n",
       "      <td>1</td>\n",
       "      <td>0</td>\n",
       "      <td>1</td>\n",
       "      <td>0</td>\n",
       "      <td>0</td>\n",
       "      <td>26</td>\n",
       "    </tr>\n",
       "    <tr>\n",
       "      <th rowspan=\"6\" valign=\"top\">Daylight</th>\n",
       "      <th>Dry</th>\n",
       "      <td>6671</td>\n",
       "      <td>638140</td>\n",
       "      <td>533</td>\n",
       "      <td>3462</td>\n",
       "      <td>81</td>\n",
       "      <td>803</td>\n",
       "      <td>4</td>\n",
       "      <td>67</td>\n",
       "      <td>15189</td>\n",
       "    </tr>\n",
       "    <tr>\n",
       "      <th>Flood over 3cm. deep</th>\n",
       "      <td>14</td>\n",
       "      <td>115</td>\n",
       "      <td>3</td>\n",
       "      <td>20</td>\n",
       "      <td>240</td>\n",
       "      <td>562</td>\n",
       "      <td>4</td>\n",
       "      <td>3</td>\n",
       "      <td>21</td>\n",
       "    </tr>\n",
       "    <tr>\n",
       "      <th>Frost or ice</th>\n",
       "      <td>141</td>\n",
       "      <td>10382</td>\n",
       "      <td>551</td>\n",
       "      <td>4141</td>\n",
       "      <td>32</td>\n",
       "      <td>288</td>\n",
       "      <td>144</td>\n",
       "      <td>1345</td>\n",
       "      <td>193</td>\n",
       "    </tr>\n",
       "    <tr>\n",
       "      <th>Snow</th>\n",
       "      <td>21</td>\n",
       "      <td>1282</td>\n",
       "      <td>17</td>\n",
       "      <td>472</td>\n",
       "      <td>14</td>\n",
       "      <td>119</td>\n",
       "      <td>478</td>\n",
       "      <td>3665</td>\n",
       "      <td>56</td>\n",
       "    </tr>\n",
       "    <tr>\n",
       "      <th>Wet or damp</th>\n",
       "      <td>3650</td>\n",
       "      <td>94191</td>\n",
       "      <td>2120</td>\n",
       "      <td>10434</td>\n",
       "      <td>8717</td>\n",
       "      <td>91641</td>\n",
       "      <td>163</td>\n",
       "      <td>1200</td>\n",
       "      <td>2173</td>\n",
       "    </tr>\n",
       "    <tr>\n",
       "      <th>uncouted</th>\n",
       "      <td>4</td>\n",
       "      <td>115</td>\n",
       "      <td>2</td>\n",
       "      <td>8</td>\n",
       "      <td>0</td>\n",
       "      <td>2</td>\n",
       "      <td>0</td>\n",
       "      <td>0</td>\n",
       "      <td>795</td>\n",
       "    </tr>\n",
       "  </tbody>\n",
       "</table>\n",
       "</div>"
      ],
      "text/plain": [
       "Weather_Conditions                                   Fine + high winds  \\\n",
       "Light_Conditions            Road_Surface_Conditions                      \n",
       "Darkness - lighting unknown Dry                                     60   \n",
       "                            Flood over 3cm. deep                     3   \n",
       "                            Frost or ice                             7   \n",
       "                            Snow                                     0   \n",
       "                            Wet or damp                             46   \n",
       "                            uncouted                                 0   \n",
       "Darkness - lights lit       Dry                                   1672   \n",
       "                            Flood over 3cm. deep                     3   \n",
       "                            Frost or ice                            75   \n",
       "                            Snow                                     9   \n",
       "                            Wet or damp                           1486   \n",
       "                            uncouted                                 0   \n",
       "Darkness - lights unlit     Dry                                     55   \n",
       "                            Flood over 3cm. deep                     0   \n",
       "                            Frost or ice                             4   \n",
       "                            Snow                                     0   \n",
       "                            Wet or damp                             39   \n",
       "                            uncouted                                 0   \n",
       "Darkness - no lighting      Dry                                    546   \n",
       "                            Flood over 3cm. deep                     3   \n",
       "                            Frost or ice                            55   \n",
       "                            Snow                                     4   \n",
       "                            Wet or damp                            652   \n",
       "                            uncouted                                 1   \n",
       "Daylight                    Dry                                   6671   \n",
       "                            Flood over 3cm. deep                    14   \n",
       "                            Frost or ice                           141   \n",
       "                            Snow                                    21   \n",
       "                            Wet or damp                           3650   \n",
       "                            uncouted                                 4   \n",
       "\n",
       "Weather_Conditions                                   Fine no high winds  \\\n",
       "Light_Conditions            Road_Surface_Conditions                       \n",
       "Darkness - lighting unknown Dry                                    5195   \n",
       "                            Flood over 3cm. deep                      0   \n",
       "                            Frost or ice                            200   \n",
       "                            Snow                                     27   \n",
       "                            Wet or damp                            1087   \n",
       "                            uncouted                                  1   \n",
       "Darkness - lights lit       Dry                                  118818   \n",
       "                            Flood over 3cm. deep                     24   \n",
       "                            Frost or ice                           4092   \n",
       "                            Snow                                    327   \n",
       "                            Wet or damp                           39693   \n",
       "                            uncouted                                 46   \n",
       "Darkness - lights unlit     Dry                                    2248   \n",
       "                            Flood over 3cm. deep                      3   \n",
       "                            Frost or ice                            108   \n",
       "                            Snow                                     10   \n",
       "                            Wet or damp                             629   \n",
       "                            uncouted                                  1   \n",
       "Darkness - no lighting      Dry                                   24118   \n",
       "                            Flood over 3cm. deep                     36   \n",
       "                            Frost or ice                           2525   \n",
       "                            Snow                                    145   \n",
       "                            Wet or damp                           13202   \n",
       "                            uncouted                                  6   \n",
       "Daylight                    Dry                                  638140   \n",
       "                            Flood over 3cm. deep                    115   \n",
       "                            Frost or ice                          10382   \n",
       "                            Snow                                   1282   \n",
       "                            Wet or damp                           94191   \n",
       "                            uncouted                                115   \n",
       "\n",
       "Weather_Conditions                                   Fog or mist  Other  \\\n",
       "Light_Conditions            Road_Surface_Conditions                       \n",
       "Darkness - lighting unknown Dry                               12     42   \n",
       "                            Flood over 3cm. deep               0      1   \n",
       "                            Frost or ice                      23     90   \n",
       "                            Snow                               0     10   \n",
       "                            Wet or damp                       90    174   \n",
       "                            uncouted                           0      0   \n",
       "Darkness - lights lit       Dry                              194   1093   \n",
       "                            Flood over 3cm. deep               0      9   \n",
       "                            Frost or ice                     299   2220   \n",
       "                            Snow                              14    191   \n",
       "                            Wet or damp                     1144   5059   \n",
       "                            uncouted                           2      2   \n",
       "Darkness - lights unlit     Dry                                3     40   \n",
       "                            Flood over 3cm. deep               0      0   \n",
       "                            Frost or ice                      24     58   \n",
       "                            Snow                               3      4   \n",
       "                            Wet or damp                       33    136   \n",
       "                            uncouted                           0      0   \n",
       "Darkness - no lighting      Dry                              111    164   \n",
       "                            Flood over 3cm. deep               1      4   \n",
       "                            Frost or ice                     287   1236   \n",
       "                            Snow                               8     69   \n",
       "                            Wet or damp                      904   1347   \n",
       "                            uncouted                           0      1   \n",
       "Daylight                    Dry                              533   3462   \n",
       "                            Flood over 3cm. deep               3     20   \n",
       "                            Frost or ice                     551   4141   \n",
       "                            Snow                              17    472   \n",
       "                            Wet or damp                     2120  10434   \n",
       "                            uncouted                           2      8   \n",
       "\n",
       "Weather_Conditions                                   Raining + high winds  \\\n",
       "Light_Conditions            Road_Surface_Conditions                         \n",
       "Darkness - lighting unknown Dry                                         1   \n",
       "                            Flood over 3cm. deep                        6   \n",
       "                            Frost or ice                                1   \n",
       "                            Snow                                        0   \n",
       "                            Wet or damp                               179   \n",
       "                            uncouted                                    0   \n",
       "Darkness - lights lit       Dry                                        29   \n",
       "                            Flood over 3cm. deep                      104   \n",
       "                            Frost or ice                               20   \n",
       "                            Snow                                       12   \n",
       "                            Wet or damp                              5266   \n",
       "                            uncouted                                    0   \n",
       "Darkness - lights unlit     Dry                                         3   \n",
       "                            Flood over 3cm. deep                        3   \n",
       "                            Frost or ice                                0   \n",
       "                            Snow                                        1   \n",
       "                            Wet or damp                               112   \n",
       "                            uncouted                                    0   \n",
       "Darkness - no lighting      Dry                                         9   \n",
       "                            Flood over 3cm. deep                      127   \n",
       "                            Frost or ice                               29   \n",
       "                            Snow                                        0   \n",
       "                            Wet or damp                              2109   \n",
       "                            uncouted                                    0   \n",
       "Daylight                    Dry                                        81   \n",
       "                            Flood over 3cm. deep                      240   \n",
       "                            Frost or ice                               32   \n",
       "                            Snow                                       14   \n",
       "                            Wet or damp                              8717   \n",
       "                            uncouted                                    0   \n",
       "\n",
       "Weather_Conditions                                   Raining no high winds  \\\n",
       "Light_Conditions            Road_Surface_Conditions                          \n",
       "Darkness - lighting unknown Dry                                          5   \n",
       "                            Flood over 3cm. deep                         8   \n",
       "                            Frost or ice                                 1   \n",
       "                            Snow                                         0   \n",
       "                            Wet or damp                               1059   \n",
       "                            uncouted                                     0   \n",
       "Darkness - lights lit       Dry                                        160   \n",
       "                            Flood over 3cm. deep                       119   \n",
       "                            Frost or ice                               241   \n",
       "                            Snow                                        52   \n",
       "                            Wet or damp                              40049   \n",
       "                            uncouted                                     3   \n",
       "Darkness - lights unlit     Dry                                          0   \n",
       "                            Flood over 3cm. deep                         2   \n",
       "                            Frost or ice                                 4   \n",
       "                            Snow                                         0   \n",
       "                            Wet or damp                                791   \n",
       "                            uncouted                                     0   \n",
       "Darkness - no lighting      Dry                                         47   \n",
       "                            Flood over 3cm. deep                       179   \n",
       "                            Frost or ice                               177   \n",
       "                            Snow                                        13   \n",
       "                            Wet or damp                               9646   \n",
       "                            uncouted                                     1   \n",
       "Daylight                    Dry                                        803   \n",
       "                            Flood over 3cm. deep                       562   \n",
       "                            Frost or ice                               288   \n",
       "                            Snow                                       119   \n",
       "                            Wet or damp                              91641   \n",
       "                            uncouted                                     2   \n",
       "\n",
       "Weather_Conditions                                   Snowing + high winds  \\\n",
       "Light_Conditions            Road_Surface_Conditions                         \n",
       "Darkness - lighting unknown Dry                                         0   \n",
       "                            Flood over 3cm. deep                        0   \n",
       "                            Frost or ice                                4   \n",
       "                            Snow                                       23   \n",
       "                            Wet or damp                                 1   \n",
       "                            uncouted                                    0   \n",
       "Darkness - lights lit       Dry                                         0   \n",
       "                            Flood over 3cm. deep                        0   \n",
       "                            Frost or ice                               71   \n",
       "                            Snow                                      276   \n",
       "                            Wet or damp                                83   \n",
       "                            uncouted                                    0   \n",
       "Darkness - lights unlit     Dry                                         0   \n",
       "                            Flood over 3cm. deep                        0   \n",
       "                            Frost or ice                                5   \n",
       "                            Snow                                        3   \n",
       "                            Wet or damp                                 1   \n",
       "                            uncouted                                    0   \n",
       "Darkness - no lighting      Dry                                         1   \n",
       "                            Flood over 3cm. deep                        1   \n",
       "                            Frost or ice                               49   \n",
       "                            Snow                                      195   \n",
       "                            Wet or damp                                32   \n",
       "                            uncouted                                    0   \n",
       "Daylight                    Dry                                         4   \n",
       "                            Flood over 3cm. deep                        4   \n",
       "                            Frost or ice                              144   \n",
       "                            Snow                                      478   \n",
       "                            Wet or damp                               163   \n",
       "                            uncouted                                    0   \n",
       "\n",
       "Weather_Conditions                                   Snowing no high winds  \\\n",
       "Light_Conditions            Road_Surface_Conditions                          \n",
       "Darkness - lighting unknown Dry                                          3   \n",
       "                            Flood over 3cm. deep                         0   \n",
       "                            Frost or ice                                19   \n",
       "                            Snow                                       119   \n",
       "                            Wet or damp                                 22   \n",
       "                            uncouted                                     0   \n",
       "Darkness - lights lit       Dry                                         19   \n",
       "                            Flood over 3cm. deep                         8   \n",
       "                            Frost or ice                               694   \n",
       "                            Snow                                      1868   \n",
       "                            Wet or damp                                621   \n",
       "                            uncouted                                     0   \n",
       "Darkness - lights unlit     Dry                                          0   \n",
       "                            Flood over 3cm. deep                         0   \n",
       "                            Frost or ice                                20   \n",
       "                            Snow                                        23   \n",
       "                            Wet or damp                                 12   \n",
       "                            uncouted                                     0   \n",
       "Darkness - no lighting      Dry                                          4   \n",
       "                            Flood over 3cm. deep                         2   \n",
       "                            Frost or ice                               347   \n",
       "                            Snow                                       714   \n",
       "                            Wet or damp                                172   \n",
       "                            uncouted                                     0   \n",
       "Daylight                    Dry                                         67   \n",
       "                            Flood over 3cm. deep                         3   \n",
       "                            Frost or ice                              1345   \n",
       "                            Snow                                      3665   \n",
       "                            Wet or damp                               1200   \n",
       "                            uncouted                                     0   \n",
       "\n",
       "Weather_Conditions                                   uncouted  \n",
       "Light_Conditions            Road_Surface_Conditions            \n",
       "Darkness - lighting unknown Dry                          2464  \n",
       "                            Flood over 3cm. deep            5  \n",
       "                            Frost or ice                   48  \n",
       "                            Snow                           16  \n",
       "                            Wet or damp                   279  \n",
       "                            uncouted                       71  \n",
       "Darkness - lights lit       Dry                          2339  \n",
       "                            Flood over 3cm. deep            1  \n",
       "                            Frost or ice                   85  \n",
       "                            Snow                           20  \n",
       "                            Wet or damp                   847  \n",
       "                            uncouted                      175  \n",
       "Darkness - lights unlit     Dry                            55  \n",
       "                            Flood over 3cm. deep            0  \n",
       "                            Frost or ice                    0  \n",
       "                            Snow                            0  \n",
       "                            Wet or damp                    21  \n",
       "                            uncouted                        3  \n",
       "Darkness - no lighting      Dry                           333  \n",
       "                            Flood over 3cm. deep            4  \n",
       "                            Frost or ice                   33  \n",
       "                            Snow                            9  \n",
       "                            Wet or damp                   207  \n",
       "                            uncouted                       26  \n",
       "Daylight                    Dry                         15189  \n",
       "                            Flood over 3cm. deep           21  \n",
       "                            Frost or ice                  193  \n",
       "                            Snow                           56  \n",
       "                            Wet or damp                  2173  \n",
       "                            uncouted                      795  "
      ]
     },
     "execution_count": 40,
     "metadata": {},
     "output_type": "execute_result"
    }
   ],
   "source": [
    "df.groupby(['Light_Conditions', 'Road_Surface_Conditions', 'Weather_Conditions'], observed=False)['Number_of_Vehicles'].sum().unstack()"
   ]
  },
  {
   "cell_type": "raw",
   "id": "a65e59b1",
   "metadata": {},
   "source": [
    "Daylight\n",
    "Dry\n",
    "Fine + high winds\n",
    ":638140"
   ]
  },
  {
   "cell_type": "markdown",
   "id": "980c8f8b",
   "metadata": {},
   "source": [
    "<h3><span style='color: Red;'>INSIGHT #20 :</span> The analysis reveals that daylight conditions, dry road surfaces, and fine weather with high winds resulted in the highest number of casualties, totaling 638,140. This suggests that while visibility is good, factors such as wind gusts and driver behavior in open areas may contribute to accident severity.</h3>"
   ]
  },
  {
   "cell_type": "markdown",
   "id": "41c88a63",
   "metadata": {},
   "source": [
    "<hr>"
   ]
  },
  {
   "cell_type": "markdown",
   "id": "c8935495-2191-4613-a446-18f8798ad979",
   "metadata": {},
   "source": [
    "<h3><span style='color: Green;'>QUESTION 21</span> : Accident recorded in Birmingham with Fatal severity and what day of the week.</h3>"
   ]
  },
  {
   "cell_type": "code",
   "execution_count": 58,
   "id": "4bfc1260-e14b-448c-a3f2-a401401722af",
   "metadata": {},
   "outputs": [],
   "source": [
    "pro =  df[df['Accident_Severity'] == 'Fatal']"
   ]
  },
  {
   "cell_type": "code",
   "execution_count": 67,
   "id": "bf5c9640-3f6f-4e54-abba-2c168260b500",
   "metadata": {},
   "outputs": [],
   "source": [
    "birmingham_fatal = pro[pro['District Area'] == 'Birmingham']"
   ]
  },
  {
   "cell_type": "code",
   "execution_count": 75,
   "id": "6be46f9d-bdd9-4afd-b0bb-63462da9f337",
   "metadata": {},
   "outputs": [
    {
     "data": {
      "text/plain": [
       "DayOfWeek\n",
       "Sunday       11\n",
       "Wednesday    11\n",
       "Friday       10\n",
       "Monday        7\n",
       "Saturday      6\n",
       "Tuesday       5\n",
       "Thursday      3\n",
       "Name: count, dtype: int64"
      ]
     },
     "execution_count": 75,
     "metadata": {},
     "output_type": "execute_result"
    }
   ],
   "source": [
    "birmingham_fatal[birmingham_fatal['Light_Conditions'] == 'Daylight']['DayOfWeek'].value_counts()"
   ]
  },
  {
   "cell_type": "markdown",
   "id": "925e0313-4560-46e7-973d-ca600ebc3074",
   "metadata": {},
   "source": [
    "<h3><span style='color: Red;'>INSIGHT #21 :</span> Base on the analysis 53 number of accident where recorded in Birmingham with Fatal severity. The recorded accident happen is break down in days of the week showing that Sunday and Wednesday got the highest which is both 11 (20.75%) and Thursday got the lowest which is 3 (5.66%).</h3>"
   ]
  },
  {
   "cell_type": "markdown",
   "id": "6e9952a5-c1f3-4608-a2b5-018b11044297",
   "metadata": {},
   "source": [
    "<hr>"
   ]
  },
  {
   "cell_type": "code",
   "execution_count": 83,
   "id": "fff72eff-6cb7-487d-911f-d6d0ddfeb725",
   "metadata": {},
   "outputs": [
    {
     "data": {
      "text/plain": [
       "Accident_Severity\n",
       "Slight     28651\n",
       "Serious     7174\n",
       "Fatal       1612\n",
       "Name: count, dtype: int64"
      ]
     },
     "execution_count": 83,
     "metadata": {},
     "output_type": "execute_result"
    }
   ],
   "source": [
    "dark_no_light = df[df['Light_Conditions'] == 'Darkness - no lighting']\n",
    "\n",
    "dark_no_light['Accident_Severity'].value_counts()"
   ]
  },
  {
   "cell_type": "code",
   "execution_count": 87,
   "id": "69a2174e-6c46-46bb-b187-1a01ca1a4051",
   "metadata": {},
   "outputs": [
    {
     "data": {
      "text/plain": [
       "1.5943597082126277"
      ]
     },
     "execution_count": 87,
     "metadata": {},
     "output_type": "execute_result"
    }
   ],
   "source": [
    "dark_no_light[dark_no_light['Accident_Severity'] == 'Slight']['Number_of_Vehicles'].mean()"
   ]
  },
  {
   "cell_type": "code",
   "execution_count": null,
   "id": "0807a325-0e30-4e6c-bfb6-86542de33f75",
   "metadata": {},
   "outputs": [],
   "source": []
  },
  {
   "cell_type": "code",
   "execution_count": null,
   "id": "cc849f57-0260-47ad-87ef-cc69e5a5fbfd",
   "metadata": {},
   "outputs": [],
   "source": []
  },
  {
   "cell_type": "code",
   "execution_count": null,
   "id": "ae523803-95a6-43ed-bca5-58e28be46253",
   "metadata": {},
   "outputs": [],
   "source": []
  },
  {
   "cell_type": "code",
   "execution_count": 41,
   "id": "023575ff-02a9-4696-a9e2-aa34745706cf",
   "metadata": {},
   "outputs": [
    {
     "data": {
      "text/html": [
       "<div>\n",
       "<style scoped>\n",
       "    .dataframe tbody tr th:only-of-type {\n",
       "        vertical-align: middle;\n",
       "    }\n",
       "\n",
       "    .dataframe tbody tr th {\n",
       "        vertical-align: top;\n",
       "    }\n",
       "\n",
       "    .dataframe thead th {\n",
       "        text-align: right;\n",
       "    }\n",
       "</style>\n",
       "<table border=\"1\" class=\"dataframe\">\n",
       "  <thead>\n",
       "    <tr style=\"text-align: right;\">\n",
       "      <th></th>\n",
       "      <th>Index</th>\n",
       "      <th>Accident_Severity</th>\n",
       "      <th>Accident Date</th>\n",
       "      <th>Latitude</th>\n",
       "      <th>Light_Conditions</th>\n",
       "      <th>District Area</th>\n",
       "      <th>Longitude</th>\n",
       "      <th>Number_of_Casualties</th>\n",
       "      <th>Number_of_Vehicles</th>\n",
       "      <th>Road_Surface_Conditions</th>\n",
       "      <th>Road_Type</th>\n",
       "      <th>Urban_or_Rural_Area</th>\n",
       "      <th>Weather_Conditions</th>\n",
       "      <th>Vehicle_Type</th>\n",
       "      <th>Year</th>\n",
       "      <th>Month</th>\n",
       "      <th>Day</th>\n",
       "      <th>DayOfWeek</th>\n",
       "    </tr>\n",
       "  </thead>\n",
       "  <tbody>\n",
       "    <tr>\n",
       "      <th>0</th>\n",
       "      <td>200701BS64157</td>\n",
       "      <td>Serious</td>\n",
       "      <td>2019-06-05</td>\n",
       "      <td>51.506187</td>\n",
       "      <td>Darkness - lights lit</td>\n",
       "      <td>Kensington and Chelsea</td>\n",
       "      <td>-0.209082</td>\n",
       "      <td>1</td>\n",
       "      <td>2</td>\n",
       "      <td>Dry</td>\n",
       "      <td>Single carriageway</td>\n",
       "      <td>Urban</td>\n",
       "      <td>Fine no high winds</td>\n",
       "      <td>Car</td>\n",
       "      <td>2019</td>\n",
       "      <td>June</td>\n",
       "      <td>5</td>\n",
       "      <td>Wednesday</td>\n",
       "    </tr>\n",
       "    <tr>\n",
       "      <th>1</th>\n",
       "      <td>200701BS65737</td>\n",
       "      <td>Serious</td>\n",
       "      <td>2019-07-02</td>\n",
       "      <td>51.495029</td>\n",
       "      <td>Daylight</td>\n",
       "      <td>Kensington and Chelsea</td>\n",
       "      <td>-0.173647</td>\n",
       "      <td>1</td>\n",
       "      <td>2</td>\n",
       "      <td>Wet or damp</td>\n",
       "      <td>Single carriageway</td>\n",
       "      <td>Urban</td>\n",
       "      <td>Raining no high winds</td>\n",
       "      <td>Car</td>\n",
       "      <td>2019</td>\n",
       "      <td>July</td>\n",
       "      <td>2</td>\n",
       "      <td>Tuesday</td>\n",
       "    </tr>\n",
       "  </tbody>\n",
       "</table>\n",
       "</div>"
      ],
      "text/plain": [
       "           Index Accident_Severity Accident Date   Latitude  \\\n",
       "0  200701BS64157           Serious    2019-06-05  51.506187   \n",
       "1  200701BS65737           Serious    2019-07-02  51.495029   \n",
       "\n",
       "        Light_Conditions           District Area Longitude  \\\n",
       "0  Darkness - lights lit  Kensington and Chelsea -0.209082   \n",
       "1               Daylight  Kensington and Chelsea -0.173647   \n",
       "\n",
       "   Number_of_Casualties  Number_of_Vehicles Road_Surface_Conditions  \\\n",
       "0                     1                   2                     Dry   \n",
       "1                     1                   2             Wet or damp   \n",
       "\n",
       "            Road_Type Urban_or_Rural_Area     Weather_Conditions Vehicle_Type  \\\n",
       "0  Single carriageway               Urban     Fine no high winds          Car   \n",
       "1  Single carriageway               Urban  Raining no high winds          Car   \n",
       "\n",
       "   Year Month Day  DayOfWeek  \n",
       "0  2019  June   5  Wednesday  \n",
       "1  2019  July   2    Tuesday  "
      ]
     },
     "execution_count": 41,
     "metadata": {},
     "output_type": "execute_result"
    }
   ],
   "source": [
    "df.head(2)"
   ]
  },
  {
   "cell_type": "code",
   "execution_count": null,
   "id": "34a2050b-6a15-43fb-8f80-471ee636635c",
   "metadata": {},
   "outputs": [],
   "source": []
  }
 ],
 "metadata": {
  "kernelspec": {
   "display_name": "Python 3 (ipykernel)",
   "language": "python",
   "name": "python3"
  },
  "language_info": {
   "codemirror_mode": {
    "name": "ipython",
    "version": 3
   },
   "file_extension": ".py",
   "mimetype": "text/x-python",
   "name": "python",
   "nbconvert_exporter": "python",
   "pygments_lexer": "ipython3",
   "version": "3.11.3"
  }
 },
 "nbformat": 4,
 "nbformat_minor": 5
}
